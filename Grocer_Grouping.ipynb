{
  "nbformat": 4,
  "nbformat_minor": 0,
  "metadata": {
    "colab": {
      "name": "Grocer Grouping.ipynb",
      "provenance": [],
      "authorship_tag": "ABX9TyPYchvHTjVNeRzBLRahq5WX",
      "include_colab_link": true
    },
    "kernelspec": {
      "name": "python3",
      "display_name": "Python 3"
    }
  },
  "cells": [
    {
      "cell_type": "markdown",
      "metadata": {
        "id": "view-in-github",
        "colab_type": "text"
      },
      "source": [
        "<a href=\"https://colab.research.google.com/github/Syntax-code/Codes/blob/master/Grocer_Grouping.ipynb\" target=\"_parent\"><img src=\"https://colab.research.google.com/assets/colab-badge.svg\" alt=\"Open In Colab\"/></a>"
      ]
    },
    {
      "cell_type": "markdown",
      "metadata": {
        "id": "2hGkAtsiDG_x",
        "colab_type": "text"
      },
      "source": [
        "Ever since you started work at the grocer, you have been faithfully logging down each item and its category that passes through. One day, your boss walks in and asks, \"Why are we just randomly placing the items everywhere? It's too difficult to find anything in this place!\" Now's your chance to improve the system, impress your boss, and get that raise!\n",
        "\n",
        "The input is a comma-separated list with category as the prefix in the form \"fruit_banana\". Your task is to group each item into the 4 categories Fruit, Meat, Other, Vegetable and output a string with a category on each line followed by a sorted comma-separated list of items.\n",
        "\n",
        "For example, given:\n",
        "\n",
        "\"fruit_banana,vegetable_carrot,fruit_apple,canned_sardines,drink_juice,fruit_orange\"\n",
        "\n",
        "output:\n",
        "\n",
        "\"fruit:apple,banana,orange\\nmeat:\\nother:juice,sardines\\nvegetable:carrot\"\n",
        "\n",
        "Assume that:\n",
        "\n",
        "Only strings of the format category_item will be passed in\n",
        "Strings will always be in lower case\n",
        "Input will not be empty\n",
        "Category and/or item will not be empty\n",
        "There will be no duplicate items\n",
        "All categories may not have items"
      ]
    },
    {
      "cell_type": "code",
      "metadata": {
        "id": "9CPenL0h5bZW",
        "colab_type": "code",
        "colab": {}
      },
      "source": [
        "def group_groceries(groceries):\n",
        "  fruit = []\n",
        "  vegetable = []\n",
        "  meat= []\n",
        "  other = []\n",
        "  groceries = groceries.split(',')\n",
        "  for x in groceries:\n",
        "    x = x.split('_')\n",
        "    if x[0] == 'fruit':\n",
        "      fruit.append(x[1])\n",
        "      continue\n",
        "    if x[0] == 'vegetable':\n",
        "      vegetable.append(x[1])\n",
        "      continue\n",
        "    if x[0] == 'meat':\n",
        "      meat.append(x[1])\n",
        "      continue\n",
        "    else:\n",
        "      other.append(x[1])\n",
        "  fruit = sorted(fruit)\n",
        "  vegetable = sorted(vegetable)\n",
        "  meat = sorted(meat)\n",
        "  other = sorted(other)\n",
        "  print('fruit:' + ','.join(fruit) + '\\nmeat:' + ','.join(meat) + '\\nother:' + ','.join(other) + '\\nvegetable:' + ','.join(vegetable))\n"
      ],
      "execution_count": 45,
      "outputs": []
    },
    {
      "cell_type": "code",
      "metadata": {
        "id": "1BiDr69Dy1XA",
        "colab_type": "code",
        "colab": {
          "base_uri": "https://localhost:8080/",
          "height": 84
        },
        "outputId": "cd987132-3f50-41af-cda1-cf6c7e70ac6e"
      },
      "source": [
        "input_ = \"fruit_banana,vegetable_carrot,fruit_apple,canned_sardines,drink_juice,fruit_orange\"\n",
        "group_groceries(input_)"
      ],
      "execution_count": 46,
      "outputs": [
        {
          "output_type": "stream",
          "text": [
            "fruit:apple,banana,orange\n",
            "meat\n",
            "other:juice,sardines\n",
            "vegetable:carrot\n"
          ],
          "name": "stdout"
        }
      ]
    }
  ]
}