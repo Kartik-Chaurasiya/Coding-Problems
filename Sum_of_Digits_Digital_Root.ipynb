{
  "nbformat": 4,
  "nbformat_minor": 0,
  "metadata": {
    "colab": {
      "name": "Sum of Digits / Digital Root.ipynb",
      "provenance": [],
      "authorship_tag": "ABX9TyMb8OyUytHmpQLUaNpC69lv",
      "include_colab_link": true
    },
    "kernelspec": {
      "name": "python3",
      "display_name": "Python 3"
    }
  },
  "cells": [
    {
      "cell_type": "markdown",
      "metadata": {
        "id": "view-in-github",
        "colab_type": "text"
      },
      "source": [
        "<a href=\"https://colab.research.google.com/github/Syntax-code/Codes/blob/master/Sum_of_Digits_Digital_Root.ipynb\" target=\"_parent\"><img src=\"https://colab.research.google.com/assets/colab-badge.svg\" alt=\"Open In Colab\"/></a>"
      ]
    },
    {
      "cell_type": "markdown",
      "metadata": {
        "id": "0YxmQFvn-ub5",
        "colab_type": "text"
      },
      "source": [
        "In this kata, you must create a digital root function.\n",
        "\n",
        "A digital root is the recursive sum of all the digits in a number. Given n, take the sum of the digits of n. If that value has more than one digit, continue reducing in this way until a single-digit number is produced. This is only applicable to the natural numbers.\n",
        "\n",
        "Here's how it works:\n",
        "\n",
        "digital_root(16)\n",
        "\n",
        "=> 1 + 6\n",
        "\n",
        "=> 7\n",
        "\n",
        "digital_root(942)\n",
        "\n",
        "=> 9 + 4 + 2\n",
        "\n",
        "=> 15 ...\n",
        "\n",
        "=> 1 + 5\n",
        "\n",
        "=> 6"
      ]
    },
    {
      "cell_type": "code",
      "metadata": {
        "id": "QiOEFC8u-1au",
        "colab_type": "code",
        "colab": {}
      },
      "source": [
        "def digital_root(n):\n",
        "  sum =0\n",
        "  n =str(n)\n",
        "  enumerate(n)\n",
        "  l= len(n)\n",
        "  while l != 1 :\n",
        "    for i in range(l):\n",
        "      sum += int(n[i])\n",
        "    n = str(sum)\n",
        "    sum = 0\n",
        "    l = len(n)\n",
        "  return int(n)\n",
        "\n"
      ],
      "execution_count": 0,
      "outputs": []
    },
    {
      "cell_type": "code",
      "metadata": {
        "id": "Kq1kbjun-kl9",
        "colab_type": "code",
        "colab": {
          "base_uri": "https://localhost:8080/",
          "height": 33
        },
        "outputId": "fbc8209c-430e-4216-9b9f-9edbd2d0dfe3"
      },
      "source": [
        "print(digital_root(132189))"
      ],
      "execution_count": 38,
      "outputs": [
        {
          "output_type": "stream",
          "text": [
            "6\n"
          ],
          "name": "stdout"
        }
      ]
    }
  ]
}