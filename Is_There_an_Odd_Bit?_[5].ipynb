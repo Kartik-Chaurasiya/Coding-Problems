{
  "nbformat": 4,
  "nbformat_minor": 0,
  "metadata": {
    "colab": {
      "name": "Is There an Odd Bit? [5].ipynb",
      "provenance": [],
      "authorship_tag": "ABX9TyPyQQ2RWiiP0xA02fcu4ifo",
      "include_colab_link": true
    },
    "kernelspec": {
      "name": "python3",
      "display_name": "Python 3"
    }
  },
  "cells": [
    {
      "cell_type": "markdown",
      "metadata": {
        "id": "view-in-github",
        "colab_type": "text"
      },
      "source": [
        "<a href=\"https://colab.research.google.com/github/Syntax-code/Codes/blob/master/Is_There_an_Odd_Bit%3F_%5B5%5D.ipynb\" target=\"_parent\"><img src=\"https://colab.research.google.com/assets/colab-badge.svg\" alt=\"Open In Colab\"/></a>"
      ]
    },
    {
      "cell_type": "markdown",
      "metadata": {
        "id": "xPgvQEyAZwqf",
        "colab_type": "text"
      },
      "source": [
        "Return 1 when ANY odd bit of x equals 1; 0 otherwise.\n",
        "\n",
        "x is unsigned.\n",
        "\n",
        "(Assume \"0 index\", aka the least significant bit is considered position 0)\n",
        "\n",
        "Assume x is 32 bits.\n",
        "\n",
        "Example:\n",
        "\n",
        "any_odd(2) will return 1 because at least one odd bit is 1 (0010).\n",
        "\n",
        "any_odd(170) will return 1 because all of the odd bits are 1 (10101010).\n",
        "\n",
        "any_odd(5) will return 0 because none of the odd bits are 1 (0101)."
      ]
    },
    {
      "cell_type": "code",
      "metadata": {
        "id": "H_z5eR8fZ6Cm",
        "colab_type": "code",
        "colab": {}
      },
      "source": [
        "def decimalToBinary(n):  \n",
        "    return bin(n).replace(\"0b\", \"\")  "
      ],
      "execution_count": 0,
      "outputs": []
    },
    {
      "cell_type": "code",
      "metadata": {
        "id": "DKgQVHrSXxfD",
        "colab_type": "code",
        "colab": {}
      },
      "source": [
        "def any_odd(x):\n",
        "  print(x)\n",
        "  dec = decimalToBinary(x)\n",
        "  if len(dec) == 3:\n",
        "    dec = '0'+dec\n",
        "  for i in range(len(dec)):\n",
        "    if (i%2==0) and (dec[i]== '1'):\n",
        "      return 1\n",
        "    else:\n",
        "      return 0"
      ],
      "execution_count": 0,
      "outputs": []
    },
    {
      "cell_type": "markdown",
      "metadata": {
        "id": "qV7EhO1Cgalx",
        "colab_type": "text"
      },
      "source": [
        "problem on 85,1204,1,"
      ]
    },
    {
      "cell_type": "code",
      "metadata": {
        "id": "WLC5kWcLZpgQ",
        "colab_type": "code",
        "outputId": "0c0fe9a1-f89c-4986-f300-7b7736c2d035",
        "colab": {
          "base_uri": "https://localhost:8080/",
          "height": 33
        }
      },
      "source": [
        "print(any_odd(170))"
      ],
      "execution_count": 0,
      "outputs": [
        {
          "output_type": "stream",
          "text": [
            "0\n"
          ],
          "name": "stdout"
        }
      ]
    },
    {
      "cell_type": "code",
      "metadata": {
        "id": "DI44LVYBgn2i",
        "colab_type": "code",
        "outputId": "ca1ac5d4-a99c-4bdb-bb50-4822369498dd",
        "colab": {
          "base_uri": "https://localhost:8080/",
          "height": 33
        }
      },
      "source": [
        "MATCH = int('10'*16,2)\n",
        "print(MATCH)"
      ],
      "execution_count": 0,
      "outputs": [
        {
          "output_type": "stream",
          "text": [
            "2863311530\n"
          ],
          "name": "stdout"
        }
      ]
    }
  ]
}