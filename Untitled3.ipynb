{
  "nbformat": 4,
  "nbformat_minor": 0,
  "metadata": {
    "colab": {
      "name": "Untitled3.ipynb",
      "provenance": [],
      "authorship_tag": "ABX9TyNTv78J2VxKudyfgM8W5nL/",
      "include_colab_link": true
    },
    "kernelspec": {
      "name": "python3",
      "display_name": "Python 3"
    }
  },
  "cells": [
    {
      "cell_type": "markdown",
      "metadata": {
        "id": "view-in-github",
        "colab_type": "text"
      },
      "source": [
        "<a href=\"https://colab.research.google.com/github/Syntax-code/Codes/blob/master/Untitled3.ipynb\" target=\"_parent\"><img src=\"https://colab.research.google.com/assets/colab-badge.svg\" alt=\"Open In Colab\"/></a>"
      ]
    },
    {
      "cell_type": "code",
      "metadata": {
        "id": "1iZzIb3wajaw",
        "colab_type": "code",
        "colab": {}
      },
      "source": [
        "Sum of 4 max and 4 min elements from a arr of 5 elements"
      ],
      "execution_count": null,
      "outputs": []
    },
    {
      "cell_type": "code",
      "metadata": {
        "id": "-5ANoUS9gEuZ",
        "colab_type": "code",
        "colab": {}
      },
      "source": [
        "def miniMaxSum(arr):\n",
        "  temp_arr = arr.copy()\n",
        "  max_sum = 0\n",
        "  min_sum = 0\n",
        "  for x in range(4):\n",
        "    max_sum += max(temp_arr)\n",
        "    temp_arr.remove(max(temp_arr))\n",
        "  temp_arr = arr.copy()\n",
        "  for x in range(4):\n",
        "    min_sum += min(temp_arr)\n",
        "    temp_arr.remove(min(temp_arr))\n",
        "  print(min_sum, max_sum)"
      ],
      "execution_count": null,
      "outputs": []
    },
    {
      "cell_type": "markdown",
      "metadata": {
        "id": "OsAC_7wfNphv",
        "colab_type": "text"
      },
      "source": [
        "if u dont use copy() command, if u make changes in the new list there are chnges in the original or new list too."
      ]
    },
    {
      "cell_type": "code",
      "metadata": {
        "id": "MpwLeHQFi0zJ",
        "colab_type": "code",
        "colab": {
          "base_uri": "https://localhost:8080/",
          "height": 34
        },
        "outputId": "d63ee51e-5510-46bf-ab18-f0cae93cbaad"
      },
      "source": [
        "arr = [1, 2, 3, 4, 5]"
      ],
      "execution_count": null,
      "outputs": [
        {
          "output_type": "stream",
          "text": [
            "10 14\n"
          ],
          "name": "stdout"
        }
      ]
    },
    {
      "cell_type": "markdown",
      "metadata": {
        "id": "YrnQXnmVZDEr",
        "colab_type": "text"
      },
      "source": [
        "C++"
      ]
    },
    {
      "cell_type": "code",
      "metadata": {
        "id": "E19yyxTmZCRB",
        "colab_type": "code",
        "colab": {}
      },
      "source": [
        "#include <bits/stdc++.h>\n",
        "typedef long long LL;   //name shortner\n",
        "using namespace std;\n",
        "\n",
        "int main(){\n",
        "\tLL s[5];\n",
        "\tLL d = 0;\n",
        "\tfor(int i = 0; i < 5; i++){\n",
        "\t\tcin >> s[i];\n",
        "\t\td += s[i];\n",
        "\t}\n",
        "\tsort(s,s+5);\n",
        "\tcout << d-s[4] << \" \" << d-s[0] << endl;\n",
        "}"
      ],
      "execution_count": null,
      "outputs": []
    }
  ]
}