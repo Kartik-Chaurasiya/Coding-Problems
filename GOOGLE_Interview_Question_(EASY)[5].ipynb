{
  "nbformat": 4,
  "nbformat_minor": 0,
  "metadata": {
    "colab": {
      "name": "GOOGLE Interview Question (EASY)[5].ipynb",
      "provenance": [],
      "authorship_tag": "ABX9TyON+MArCyOQcgiPcP9dX3K7",
      "include_colab_link": true
    },
    "kernelspec": {
      "name": "python3",
      "display_name": "Python 3"
    }
  },
  "cells": [
    {
      "cell_type": "markdown",
      "metadata": {
        "id": "view-in-github",
        "colab_type": "text"
      },
      "source": [
        "<a href=\"https://colab.research.google.com/github/Syntax-code/Codes/blob/master/GOOGLE_Interview_Question_(EASY)%5B5%5D.ipynb\" target=\"_parent\"><img src=\"https://colab.research.google.com/assets/colab-badge.svg\" alt=\"Open In Colab\"/></a>"
      ]
    },
    {
      "cell_type": "markdown",
      "metadata": {
        "id": "OFFl2nzsPyn9",
        "colab_type": "text"
      },
      "source": [
        "INTRODUCTION:\n",
        "\n",
        "If I give you a name of a city as a string, I want you to return a string that shows how many times each letter shows up in the string by using an asterisk *\n",
        "\n",
        "SEE TEST CASE!\n",
        "\n",
        "As you can see for Chicago, in the return string, I only show the letter \"c\" once even though there are 2 \"c\" in Chicago (regardless of upper or lowercase).\n",
        "\n",
        "I show 2 asteriks since there are 2 \"c\" in Chicago.\n",
        "\n",
        "In the return string there are no spaces between the letters, asteriks, and commas.\n",
        "\n",
        "\"Chicago\"  =>  \"c:**,h:*,i:*,a:*,g:*,o:*\"\n",
        "\n",
        "Note that the return string contains the characters in order of first appearence in the original string."
      ]
    },
    {
      "cell_type": "code",
      "metadata": {
        "id": "i1OEjd0APuxn",
        "colab_type": "code",
        "colab": {}
      },
      "source": [
        "def get_strings(city):\n",
        "  star = ''\n",
        "  city = city.lower().replace(' ','')\n",
        "  while(len(city)!= 0):\n",
        "    star += city[0] + ':'\n",
        "    count = city.count(city[0])\n",
        "    city = city.replace(city[0],'')\n",
        "    for i in range(count):\n",
        "      star += '*'\n",
        "    star += ',' if(len(city) != 0) else '' \n",
        "  return star"
      ],
      "execution_count": 0,
      "outputs": []
    },
    {
      "cell_type": "code",
      "metadata": {
        "id": "UUfDEk-uQAJc",
        "colab_type": "code",
        "colab": {
          "base_uri": "https://localhost:8080/",
          "height": 33
        },
        "outputId": "c9f01b68-b345-424d-9908-573d64b01b1b"
      },
      "source": [
        "print(get_strings(\"Las Vegas\"))"
      ],
      "execution_count": 19,
      "outputs": [
        {
          "output_type": "stream",
          "text": [
            "l:*,a:**,s:**,v:*,e:*,g:*\n"
          ],
          "name": "stdout"
        }
      ]
    }
  ]
}