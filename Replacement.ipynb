{
  "nbformat": 4,
  "nbformat_minor": 0,
  "metadata": {
    "colab": {
      "name": "Replacement.ipynb",
      "provenance": [],
      "authorship_tag": "ABX9TyMm98QzPo8ypE0zN+H1rJuw",
      "include_colab_link": true
    },
    "kernelspec": {
      "name": "python3",
      "display_name": "Python 3"
    }
  },
  "cells": [
    {
      "cell_type": "markdown",
      "metadata": {
        "id": "view-in-github",
        "colab_type": "text"
      },
      "source": [
        "<a href=\"https://colab.research.google.com/github/Syntax-code/Codes/blob/master/Replacement.ipynb\" target=\"_parent\"><img src=\"https://colab.research.google.com/assets/colab-badge.svg\" alt=\"Open In Colab\"/></a>"
      ]
    },
    {
      "cell_type": "markdown",
      "metadata": {
        "id": "gpMIjUw6hkep",
        "colab_type": "text"
      },
      "source": [
        "Input:\n",
        "\n",
        " Input contains sequence with N integers. All elements of the sequence > 0. The sequenc will never be empty.\n",
        "\n",
        "Output:\n",
        "\n",
        " Return sequence with N integers — which includes the lowest possible values of each sequence element, after the single replacement and sorting has been performed.\n",
        "\n",
        "Examples:\n",
        "\n",
        "([1,2,3,4,5])  =>  [1,1,2,3,4]\n",
        "\n",
        "([4,2,1,3,5])  =>  [1,1,2,3,4]\n",
        "\n",
        "([2,3,4,5,6])  =>  [1,2,3,4,5]\n",
        "\n",
        "([2,2,2])      =>  [1,2,2]\n",
        "\n",
        "([42])         =>  [1]"
      ]
    },
    {
      "cell_type": "code",
      "metadata": {
        "id": "GZ3_EHjmhhu4",
        "colab_type": "code",
        "colab": {}
      },
      "source": [
        "def sort_number(a):\n",
        "  l = len(a)\n",
        "  a.sort()\n",
        "  if (l == 1) & (a[0] != 1):\n",
        "    a = [1]\n",
        "  elif (l == 1) & (a[0] == 1):\n",
        "    a = [2]\n",
        "  elif a == [1,1,1] :\n",
        "    a = [1,1,2]\n",
        "  else:\n",
        "    a.pop()\n",
        "    a = [1] + a\n",
        "  return a"
      ],
      "execution_count": 0,
      "outputs": []
    },
    {
      "cell_type": "code",
      "metadata": {
        "id": "jIgBbTRmhv3m",
        "colab_type": "code",
        "outputId": "67321f91-7e9d-435a-8838-1af99d5175c2",
        "colab": {
          "base_uri": "https://localhost:8080/",
          "height": 33
        }
      },
      "source": [
        "print(sort_number([42]]))"
      ],
      "execution_count": 0,
      "outputs": [
        {
          "output_type": "stream",
          "text": [
            "[1, 1, 2, 3, 4]\n"
          ],
          "name": "stdout"
        }
      ]
    }
  ]
}