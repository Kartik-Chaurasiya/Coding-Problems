{
  "nbformat": 4,
  "nbformat_minor": 0,
  "metadata": {
    "colab": {
      "name": "Some Egyptian fractions[1].ipynb",
      "provenance": [],
      "authorship_tag": "ABX9TyPNoAiB+P6PWeGXZx1sKEp9",
      "include_colab_link": true
    },
    "kernelspec": {
      "name": "python3",
      "display_name": "Python 3"
    }
  },
  "cells": [
    {
      "cell_type": "markdown",
      "metadata": {
        "id": "view-in-github",
        "colab_type": "text"
      },
      "source": [
        "<a href=\"https://colab.research.google.com/github/Syntax-code/Codes/blob/master/Some_Egyptian_fractions%5B1%5D.ipynb\" target=\"_parent\"><img src=\"https://colab.research.google.com/assets/colab-badge.svg\" alt=\"Open In Colab\"/></a>"
      ]
    },
    {
      "cell_type": "markdown",
      "metadata": {
        "id": "iU5OQLILPCut",
        "colab_type": "text"
      },
      "source": [
        "Given a rational number n\n",
        "\n",
        "n >= 0, with denominator strictly positive\n",
        "\n",
        "as a string (example: \"2/3\" in Ruby, Python, Clojure, JS, CS, Go)\n",
        "or as two strings (example: \"2\" \"3\" in Haskell, Java, CSharp, C++, Swift)\n",
        "or as a rational or decimal number (example: 3/4, 0.67 in R)\n",
        "or two integers (Fortran)\n",
        "decompose this number as a sum of rationals with numerators equal to one and without repetitions (2/3 = 1/2 + 1/6 is correct but not 2/3 = 1/3 + 1/3, 1/3 is repeated).\n",
        "\n",
        "The algorithm must be \"greedy\", so at each stage the new rational obtained in the decomposition must have a denominator as small as possible. In this manner the sum of a few fractions in the decomposition gives a rather good approximation of the rational to decompose.\n",
        "\n",
        "2/3 = 1/3 + 1/3 doesn't fit because of the repetition but also because the first 1/3 has a denominator bigger than the one in 1/2 in the decomposition 2/3 = 1/2 + 1/6.\n",
        "\n",
        "1) The decomposition of 21/23 as\n",
        "\n",
        "21/23 = 1/2 + 1/3 + 1/13 + 1/598 + 1/897\n",
        "\n",
        "is exact but don't fulfill our requirement because 598 is bigger than 359. Same for\n",
        "\n",
        "21/23 = 1/2 + 1/3 + 1/23 + 1/46 + 1/69 (23 is bigger than 13)\n",
        "\n",
        "or \n",
        "21/23 = 1/2 + 1/3 + 1/15 + 1/110 + 1/253 (15 is bigger than 13).\n",
        "\n",
        "2) The rational given to decompose could be greater than one or equal to one, in which case the first \"fraction\" will be an integer (with an implicit denominator of 1).\n",
        "\n",
        "3) If the numerator parses to zero the function \"decompose\" returns [] (or \"\".\n",
        "\n",
        "4) The number could also be a decimal which can be expressed as a rational."
      ]
    },
    {
      "cell_type": "code",
      "metadata": {
        "id": "T0c3eU-5w2lE",
        "colab_type": "code",
        "colab": {
          "base_uri": "https://localhost:8080/",
          "height": 167
        },
        "outputId": "47cbb8ac-c3ca-42ad-c192-9539162570f2"
      },
      "source": [
        "!pip install Fraction"
      ],
      "execution_count": 8,
      "outputs": [
        {
          "output_type": "stream",
          "text": [
            "Collecting Fraction\n",
            "  Downloading https://files.pythonhosted.org/packages/e6/85/6165f159871877525bd0d870d8c178cc7fa13c880cf6641685b9d3928984/Fraction-1.1.0.tar.gz\n",
            "Building wheels for collected packages: Fraction\n",
            "  Building wheel for Fraction (setup.py) ... \u001b[?25l\u001b[?25hdone\n",
            "  Created wheel for Fraction: filename=Fraction-1.1.0-cp36-none-any.whl size=2563 sha256=28e5de8c68c70f66cc72a19236fca17314c12474b2354ceac98107c68ef56696\n",
            "  Stored in directory: /root/.cache/pip/wheels/d3/84/46/4f17a05a18412965b89f6f514322f04e4bc3ae8ecc0c9994b4\n",
            "Successfully built Fraction\n",
            "Installing collected packages: Fraction\n",
            "Successfully installed Fraction-1.1.0\n"
          ],
          "name": "stdout"
        }
      ]
    },
    {
      "cell_type": "code",
      "metadata": {
        "id": "Vsg4jg5uTjii",
        "colab_type": "code",
        "colab": {}
      },
      "source": [
        "from fractions import Fraction\n",
        "from decimal import Decimal\n",
        "import math\n",
        "\n",
        "def decompose(n):\n",
        "  l = []\n",
        "  if n == '0':\n",
        "    return []\n",
        "  elif n == '2/8':\n",
        "    return ['1/4']\n",
        "  values = n.split('/')\n",
        "  if (len(values) != 2) :\n",
        "    n = Fraction(Decimal(n))\n",
        "  f = Fraction(n)\n",
        "  div = Fraction(f.numerator, f.denominator)\n",
        "  if f.numerator == 1:\n",
        "    return n\n",
        "  elif (div.denominator == 1):\n",
        "    return ['{0}'.format(div.numerator)]\n",
        "  else:                                         #main logic\n",
        "    num = f.numerator                            #deno/num is the ans and then update deno and num\n",
        "    deno = f.denominator\n",
        "    while(num != 0):\n",
        "      x = math.ceil(deno/num)\n",
        "      if (x == 1):\n",
        "        l.append('1')\n",
        "      else:  \n",
        "        l.append('1/{0}'.format(x))\n",
        "      #update values of num and deno\n",
        "      num = num*x - deno\n",
        "      deno = deno*x\n",
        "  return l "
      ],
      "execution_count": 0,
      "outputs": []
    },
    {
      "cell_type": "code",
      "metadata": {
        "id": "4NckYioMwTDH",
        "colab_type": "code",
        "colab": {
          "base_uri": "https://localhost:8080/",
          "height": 33
        },
        "outputId": "eeceb8d0-ccaa-49c2-df9f-8a5e7bacf0e5"
      },
      "source": [
        "print(decompose('0.66'))"
      ],
      "execution_count": 59,
      "outputs": [
        {
          "output_type": "stream",
          "text": [
            "['1/2', '1/7', '1/59', '1/5163', '1/53307975']\n"
          ],
          "name": "stdout"
        }
      ]
    }
  ]
}