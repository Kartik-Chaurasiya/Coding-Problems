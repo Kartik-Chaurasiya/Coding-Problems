{
  "nbformat": 4,
  "nbformat_minor": 0,
  "metadata": {
    "colab": {
      "name": "Encrypt this!-3.ipynb",
      "provenance": [],
      "collapsed_sections": [],
      "authorship_tag": "ABX9TyOGnFVmBjvQZeKezr7hEQ5j",
      "include_colab_link": true
    },
    "kernelspec": {
      "name": "python3",
      "display_name": "Python 3"
    }
  },
  "cells": [
    {
      "cell_type": "markdown",
      "metadata": {
        "id": "view-in-github",
        "colab_type": "text"
      },
      "source": [
        "<a href=\"https://colab.research.google.com/github/Syntax-code/Codes/blob/master/Encrypt_this!_3.ipynb\" target=\"_parent\"><img src=\"https://colab.research.google.com/assets/colab-badge.svg\" alt=\"Open In Colab\"/></a>"
      ]
    },
    {
      "cell_type": "markdown",
      "metadata": {
        "id": "r6I5GaMW5ORo",
        "colab_type": "text"
      },
      "source": [
        "You want to create secret messages which can be deciphered by the Decipher this! kata. Here are the conditions:\n",
        "\n",
        "Your message is a string containing space separated words.\n",
        "You need to encrypt each word in the message using the following rules:\n",
        "\n",
        "The first letter needs to be converted to its ASCII code.\n",
        "\n",
        "The second letter needs to be switched with the last letter\n",
        "\n",
        "Keepin' it simple: There are no special characters in input.\n",
        "\n",
        "encrypt_this(\"Hello\") == \"72olle\"\n",
        "\n",
        "encrypt_this(\"good\") == \"103doo\"\n",
        "\n",
        "encrypt_this(\"hello world\") == \"104olle 119drlo\""
      ]
    },
    {
      "cell_type": "code",
      "metadata": {
        "id": "ynWdYLmx5G6v",
        "colab_type": "code",
        "colab": {}
      },
      "source": [
        "def swap(c, i, j):\n",
        "  c = list(c)\n",
        "  c[i], c[j] = c[j], c[i]\n",
        "  return ''.join(c)\n",
        "\n",
        "def encrypt_this(text):\n",
        "  fword = ''\n",
        "  ntext = ''\n",
        "  text = text.split(' ')\n",
        "  for words in text:\n",
        "    if len(words) == 1:\n",
        "      words = ord(words)\n",
        "      ntext += str(words) + ' ' \n",
        "    else :\n",
        "      words = swap(words, 1, len(words) - 1)\n",
        "      words = words.replace(words[0], str(ord(words[0])), 1)\n",
        "      ntext += str(words) + ' '\n",
        "  return ntext\n"
      ],
      "execution_count": 0,
      "outputs": []
    },
    {
      "cell_type": "code",
      "metadata": {
        "id": "DjNFFFle5OnZ",
        "colab_type": "code",
        "outputId": "ae2ef22d-c86b-4f94-c40d-57c76d366cfd",
        "colab": {
          "base_uri": "https://localhost:8080/",
          "height": 33
        }
      },
      "source": [
        "text = \"Thank you Piotr for all your help\"\n",
        "print(encrypt_this(text))"
      ],
      "execution_count": 23,
      "outputs": [
        {
          "output_type": "stream",
          "text": [
            "84kanh 121uo 80roti 102ro 97ll 121ruo 104ple \n"
          ],
          "name": "stdout"
        }
      ]
    }
  ]
}