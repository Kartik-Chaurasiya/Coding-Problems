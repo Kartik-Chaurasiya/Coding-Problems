{
  "nbformat": 4,
  "nbformat_minor": 0,
  "metadata": {
    "colab": {
      "name": "ISS location.ipynb",
      "provenance": [],
      "authorship_tag": "ABX9TyOlcmNyeIyWO2nvbioY/S9p",
      "include_colab_link": true
    },
    "kernelspec": {
      "name": "python3",
      "display_name": "Python 3"
    }
  },
  "cells": [
    {
      "cell_type": "markdown",
      "metadata": {
        "id": "view-in-github",
        "colab_type": "text"
      },
      "source": [
        "<a href=\"https://colab.research.google.com/github/Syntax-code/Codes/blob/master/ISS_location.ipynb\" target=\"_parent\"><img src=\"https://colab.research.google.com/assets/colab-badge.svg\" alt=\"Open In Colab\"/></a>"
      ]
    },
    {
      "cell_type": "code",
      "metadata": {
        "id": "gtWrjRwYXyQw",
        "colab_type": "code",
        "colab": {}
      },
      "source": [
        "from geopy.geocoders import Nominatim\n",
        "geolocator = Nominatim(user_agent=\"geoapiExercises\")\n",
        "def city_state_country(coord):\n",
        "    location = geolocator.reverse(coord, exactly_one=True)\n",
        "    address = location.raw['address']\n",
        "    city = address.get('city', '')\n",
        "    state = address.get('state', '')\n",
        "    country = address.get('country', '')\n",
        "    return city, state, country"
      ],
      "execution_count": 1,
      "outputs": []
    },
    {
      "cell_type": "code",
      "metadata": {
        "id": "XGzQH1UCsUyK",
        "colab_type": "code",
        "colab": {
          "base_uri": "https://localhost:8080/",
          "height": 67
        },
        "outputId": "cfd53e89-3a8d-4c02-fd0d-090a1cd4bdd9"
      },
      "source": [
        "import requests\n",
        "response = requests.get('http://api.open-notify.org/iss-now.json')\n",
        "\n",
        "# Get the response data as a Python object.  Verify that it's a dictionary.\n",
        "json_data = response.json()\n",
        "print(json_data) \n",
        "lat = json_data['iss_position']['latitude']\n",
        "lon = json_data['iss_position']['longitude']\n",
        "print(lat, lon)\n",
        "city_state_country((lat,lon))"
      ],
      "execution_count": 2,
      "outputs": [
        {
          "output_type": "stream",
          "text": [
            "{'timestamp': 1596610752, 'message': 'success', 'iss_position': {'latitude': '-26.5084', 'longitude': '23.0857'}}\n",
            "-26.5084 23.0857\n"
          ],
          "name": "stdout"
        },
        {
          "output_type": "execute_result",
          "data": {
            "text/plain": [
              "('Joe Morolong Local Municipality', 'Northern Cape', 'South Africa')"
            ]
          },
          "metadata": {
            "tags": []
          },
          "execution_count": 2
        }
      ]
    }
  ]
}