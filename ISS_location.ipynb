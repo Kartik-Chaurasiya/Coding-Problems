{
  "nbformat": 4,
  "nbformat_minor": 0,
  "metadata": {
    "colab": {
      "name": "ISS location.ipynb",
      "provenance": [],
      "authorship_tag": "ABX9TyO+MaA3GirlmxGR1MDU7nO9",
      "include_colab_link": true
    },
    "kernelspec": {
      "name": "python3",
      "display_name": "Python 3"
    }
  },
  "cells": [
    {
      "cell_type": "markdown",
      "metadata": {
        "id": "view-in-github",
        "colab_type": "text"
      },
      "source": [
        "<a href=\"https://colab.research.google.com/github/Syntax-code/Codes/blob/master/ISS_location.ipynb\" target=\"_parent\"><img src=\"https://colab.research.google.com/assets/colab-badge.svg\" alt=\"Open In Colab\"/></a>"
      ]
    },
    {
      "cell_type": "code",
      "metadata": {
        "id": "-X1ptiaWsiio",
        "colab_type": "code",
        "colab": {
          "base_uri": "https://localhost:8080/",
          "height": 218
        },
        "outputId": "0cf0f2f9-f818-4bea-9da8-3348b084cc1d"
      },
      "source": [
        "!pip install reverse_geocoder"
      ],
      "execution_count": 20,
      "outputs": [
        {
          "output_type": "stream",
          "text": [
            "Collecting reverse_geocoder\n",
            "\u001b[?25l  Downloading https://files.pythonhosted.org/packages/0b/0f/b7d5d4b36553731f11983e19e1813a1059ad0732c5162c01b3220c927d31/reverse_geocoder-1.5.1.tar.gz (2.2MB)\n",
            "\u001b[K     |████████████████████████████████| 2.3MB 2.9MB/s \n",
            "\u001b[?25hRequirement already satisfied: numpy>=1.11.0 in /usr/local/lib/python3.6/dist-packages (from reverse_geocoder) (1.18.5)\n",
            "Requirement already satisfied: scipy>=0.17.1 in /usr/local/lib/python3.6/dist-packages (from reverse_geocoder) (1.4.1)\n",
            "Building wheels for collected packages: reverse-geocoder\n",
            "  Building wheel for reverse-geocoder (setup.py) ... \u001b[?25l\u001b[?25hdone\n",
            "  Created wheel for reverse-geocoder: filename=reverse_geocoder-1.5.1-cp36-none-any.whl size=2268091 sha256=8b6adc7557140c3afec51bd272962ca0812c3f3e5eb1c4b01ad8651385ec73d4\n",
            "  Stored in directory: /root/.cache/pip/wheels/47/05/50/b1350ff094ef91e082665b4a2f9ca551f8acea4aa55d796b26\n",
            "Successfully built reverse-geocoder\n",
            "Installing collected packages: reverse-geocoder\n",
            "Successfully installed reverse-geocoder-1.5.1\n"
          ],
          "name": "stdout"
        }
      ]
    },
    {
      "cell_type": "code",
      "metadata": {
        "id": "vwjJ7bNvz0mp",
        "colab_type": "code",
        "colab": {}
      },
      "source": [
        "import reverse_geocoder as rg \n",
        "import pprint \n",
        "\n",
        "def reverseGeocode(coordinates): \n",
        "    result = rg.search(coordinates)\n",
        "    pprint.pprint(result)  "
      ],
      "execution_count": 1,
      "outputs": []
    },
    {
      "cell_type": "code",
      "metadata": {
        "id": "XGzQH1UCsUyK",
        "colab_type": "code",
        "colab": {
          "base_uri": "https://localhost:8080/",
          "height": 151
        },
        "outputId": "73f0ae54-577b-4974-cc90-f7ea2691cd17"
      },
      "source": [
        "import requests\n",
        "response = requests.get('http://api.open-notify.org/iss-now.json')\n",
        "\n",
        "# Get the response data as a Python object.  Verify that it's a dictionary.\n",
        "json_data = response.json()\n",
        "print(json_data) \n",
        "coordinates = (json_data['iss_position']['latitude'], json_data['iss_position']['longitude'])\n",
        "reverseGeocode(coordinates)"
      ],
      "execution_count": 3,
      "outputs": [
        {
          "output_type": "stream",
          "text": [
            "{'iss_position': {'longitude': '-12.1676', 'latitude': '-12.4222'}, 'timestamp': 1596282199, 'message': 'success'}\n",
            "Loading formatted geocoded file...\n",
            "[OrderedDict([('lat', '-7.93333'),\n",
            "              ('lon', '-14.41667'),\n",
            "              ('name', 'Georgetown'),\n",
            "              ('admin1', 'Ascension'),\n",
            "              ('admin2', ''),\n",
            "              ('cc', 'SH')])]\n"
          ],
          "name": "stdout"
        }
      ]
    }
  ]
}