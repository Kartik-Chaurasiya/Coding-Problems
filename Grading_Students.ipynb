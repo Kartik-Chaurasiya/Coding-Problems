{
  "nbformat": 4,
  "nbformat_minor": 0,
  "metadata": {
    "colab": {
      "name": "Grading Students.ipynb",
      "provenance": [],
      "authorship_tag": "ABX9TyO0vRq+TyyvDnvBtMSXOIRD",
      "include_colab_link": true
    },
    "kernelspec": {
      "name": "python3",
      "display_name": "Python 3"
    }
  },
  "cells": [
    {
      "cell_type": "markdown",
      "metadata": {
        "id": "view-in-github",
        "colab_type": "text"
      },
      "source": [
        "<a href=\"https://colab.research.google.com/github/Syntax-code/Codes/blob/master/Grading_Students.ipynb\" target=\"_parent\"><img src=\"https://colab.research.google.com/assets/colab-badge.svg\" alt=\"Open In Colab\"/></a>"
      ]
    },
    {
      "cell_type": "markdown",
      "metadata": {
        "id": "cAtDkkXvb-Zm",
        "colab_type": "text"
      },
      "source": [
        "Every student receives a grade in the inclusive range from 0 to 100.\n",
        "\n",
        "Any grade less than 40 is a failing grade.\n",
        "\n",
        "Sam is a professor at the university and likes to round each student's grade according to these rules:\n",
        "\n",
        "If the difference between the grade and the next multiple of 5 is less than 3, round grade up to the next multiple of .\n",
        "\n",
        "If the value of grade is less than 38, no rounding occurs as the result will still be a failing grade."
      ]
    },
    {
      "cell_type": "code",
      "metadata": {
        "id": "5bexwXWGL_He",
        "colab_type": "code",
        "colab": {}
      },
      "source": [
        "# n = [76,67,54,35]\n",
        "n = [73, 67, 38, 33]"
      ],
      "execution_count": 34,
      "outputs": []
    },
    {
      "cell_type": "code",
      "metadata": {
        "id": "zBj_X4LdMa85",
        "colab_type": "code",
        "colab": {
          "base_uri": "https://localhost:8080/",
          "height": 84
        },
        "outputId": "5cacce60-44e4-4733-f633-e9312b927527"
      },
      "source": [
        "for grade in n:\n",
        "  five_mul = (5 - (grade % 5)) + grade\n",
        "  # print(grade) if ((grade < 38) or ((five_mul - grade) <= 3))  else print(five_mul)    something is wrong\n",
        "  if (grade < 38) or (five_mul - grade >= 3):\n",
        "    print(grade)\n",
        "  else :\n",
        "    print((5 - (grade % 5)) + grade)"
      ],
      "execution_count": 39,
      "outputs": [
        {
          "output_type": "stream",
          "text": [
            "73\n",
            "67\n",
            "38\n",
            "33\n"
          ],
          "name": "stdout"
        }
      ]
    },
    {
      "cell_type": "markdown",
      "metadata": {
        "id": "JFad0R4ET1JP",
        "colab_type": "text"
      },
      "source": [
        "#C++"
      ]
    },
    {
      "cell_type": "code",
      "metadata": {
        "id": "Cb2M5FLYMmCM",
        "colab_type": "code",
        "colab": {}
      },
      "source": [
        "int main(){\n",
        "    int n; cin >> n;\n",
        "    for(int x; x < n; x++){\n",
        "        int grade; cin>> grade;\n",
        "        int five_mul = (5 - (grade % 5)) + grade;\n",
        "        if((grade < 38) || (five_mul - grade >= 3)){\n",
        "            cout << grade << endl;\n",
        "            }\n",
        "        else {\n",
        "            cout << five_mul << endl;\n",
        "        }\n",
        "    }\n",
        "}"
      ],
      "execution_count": 29,
      "outputs": []
    }
  ]
}