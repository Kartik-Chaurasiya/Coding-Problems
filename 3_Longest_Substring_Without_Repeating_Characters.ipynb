{
  "nbformat": 4,
  "nbformat_minor": 0,
  "metadata": {
    "colab": {
      "name": "3. Longest Substring Without Repeating Characters.ipynb",
      "provenance": [],
      "authorship_tag": "ABX9TyOvsPNr8OjvqfdDcMiJg5df",
      "include_colab_link": true
    },
    "kernelspec": {
      "name": "python3",
      "display_name": "Python 3"
    }
  },
  "cells": [
    {
      "cell_type": "markdown",
      "metadata": {
        "id": "view-in-github",
        "colab_type": "text"
      },
      "source": [
        "<a href=\"https://colab.research.google.com/github/Syntax-code/Codes/blob/master/3_Longest_Substring_Without_Repeating_Characters.ipynb\" target=\"_parent\"><img src=\"https://colab.research.google.com/assets/colab-badge.svg\" alt=\"Open In Colab\"/></a>"
      ]
    },
    {
      "cell_type": "code",
      "metadata": {
        "id": "L-9J-lhbxiEw",
        "colab_type": "code",
        "colab": {}
      },
      "source": [
        "import numpy as np\n",
        "class Solution:\n",
        "    def lengthOfLongestSubstring(self, s) -> int:\n",
        "      return len(np.unique(list(s)))\n"
      ],
      "execution_count": 0,
      "outputs": []
    },
    {
      "cell_type": "code",
      "metadata": {
        "id": "iGYYlxwJ8VhQ",
        "colab_type": "code",
        "colab": {
          "base_uri": "https://localhost:8080/",
          "height": 33
        },
        "outputId": "9200fc4d-fb08-4f74-8b70-278ba8375815"
      },
      "source": [
        "sol = Solution()\n",
        "sol.lengthOfLongestSubstring(\"pwwkew\")"
      ],
      "execution_count": 5,
      "outputs": [
        {
          "output_type": "execute_result",
          "data": {
            "text/plain": [
              "4"
            ]
          },
          "metadata": {
            "tags": []
          },
          "execution_count": 5
        }
      ]
    },
    {
      "cell_type": "code",
      "metadata": {
        "id": "YsBVcTT9-6uQ",
        "colab_type": "code",
        "colab": {
          "base_uri": "https://localhost:8080/",
          "height": 33
        },
        "outputId": "7fe7526b-8426-44e0-a277-803bca039d13"
      },
      "source": [
        "v = \"pwwkew\"\n",
        "v = list(v)\n",
        "print(np.unique(v))"
      ],
      "execution_count": 8,
      "outputs": [
        {
          "output_type": "stream",
          "text": [
            "['e' 'k' 'p' 'w']\n"
          ],
          "name": "stdout"
        }
      ]
    }
  ]
}