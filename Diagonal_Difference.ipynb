{
  "nbformat": 4,
  "nbformat_minor": 0,
  "metadata": {
    "colab": {
      "name": "Diagonal Difference",
      "provenance": [],
      "authorship_tag": "ABX9TyN5cjRcEZufEoFxitZ3Yvwz",
      "include_colab_link": true
    },
    "kernelspec": {
      "name": "python3",
      "display_name": "Python 3"
    }
  },
  "cells": [
    {
      "cell_type": "markdown",
      "metadata": {
        "id": "view-in-github",
        "colab_type": "text"
      },
      "source": [
        "<a href=\"https://colab.research.google.com/github/Syntax-code/Codes/blob/master/Diagonal_Difference.ipynb\" target=\"_parent\"><img src=\"https://colab.research.google.com/assets/colab-badge.svg\" alt=\"Open In Colab\"/></a>"
      ]
    },
    {
      "cell_type": "markdown",
      "metadata": {
        "id": "MqGWQDNNwUkw",
        "colab_type": "text"
      },
      "source": [
        "Given a square matrix, calculate the absolute difference between the sums of its diagonals.\n",
        "\n",
        "For example, the square matrix arr is shown below:\n",
        "\n",
        "1 2 3\n",
        "\n",
        "4 5 6\n",
        "\n",
        "9 8 9  \n",
        "\n",
        "|15 - 17| = 2"
      ]
    },
    {
      "cell_type": "code",
      "metadata": {
        "id": "SJV29AxmglwT",
        "colab_type": "code",
        "colab": {}
      },
      "source": [
        "import numpy as np"
      ],
      "execution_count": null,
      "outputs": []
    },
    {
      "cell_type": "code",
      "metadata": {
        "id": "4gd9r5UFpIGd",
        "colab_type": "code",
        "colab": {}
      },
      "source": [
        "def diagonalDifference(arr, n):\n",
        "    principal = 0\n",
        "    secondary = 0; \n",
        "    for i in range(0, n):  \n",
        "        for j in range(0, n):  \n",
        "  \n",
        "            # Condition for principal diagonal \n",
        "            if (i == j): \n",
        "                principal += arr[i][j] \n",
        "  \n",
        "            # Condition for secondary diagonal \n",
        "            if ((i + j) == (n - 1)): \n",
        "                secondary += arr[i][j]\n",
        "    return abs(principal - secondary) "
      ],
      "execution_count": 33,
      "outputs": []
    },
    {
      "cell_type": "markdown",
      "metadata": {
        "id": "5Z3av5KAv8q8",
        "colab_type": "text"
      },
      "source": [
        "Else this logic takes O(n) time whereas the above takes O(n^2) time"
      ]
    },
    {
      "cell_type": "code",
      "metadata": {
        "id": "Do96ZPlNv7ZZ",
        "colab_type": "code",
        "colab": {}
      },
      "source": [
        "for i in range(0, n):  \n",
        "        principal += arr[i][i] \n",
        "        secondary += arr[i][n - i - 1]"
      ],
      "execution_count": null,
      "outputs": []
    },
    {
      "cell_type": "code",
      "metadata": {
        "id": "6oqMpMCvpKq4",
        "colab_type": "code",
        "colab": {
          "base_uri": "https://localhost:8080/",
          "height": 34
        },
        "outputId": "7a92e8c6-11ae-46b9-9a35-09f47d33c5de"
      },
      "source": [
        "arr = [[11, 2, 4], [4, 5, 6], [10, 8, -12]]\n",
        "n = 3\n",
        "diagonalDifference(arr, n)"
      ],
      "execution_count": 34,
      "outputs": [
        {
          "output_type": "execute_result",
          "data": {
            "text/plain": [
              "15"
            ]
          },
          "metadata": {
            "tags": []
          },
          "execution_count": 34
        }
      ]
    },
    {
      "cell_type": "markdown",
      "metadata": {
        "id": "dpyJp1VWyo4y",
        "colab_type": "text"
      },
      "source": [
        "C++"
      ]
    },
    {
      "cell_type": "code",
      "metadata": {
        "id": "guoLfDHdps9Z",
        "colab_type": "code",
        "colab": {}
      },
      "source": [
        "int diagonalDifference(vector<vector<int>> arr, int n) {\n",
        "    int primary = 0;\n",
        "    int secondary = 0;\n",
        "    int diff = 0;\n",
        "    for(int x; x < n; x++){\n",
        "        primary += arr[x][x] ;\n",
        "        secondary += arr[x][n - x - 1];\n",
        "    }\n",
        "    diff = abs(primary - secondary);\n",
        "    cout << diff;\n",
        "    return diff;\n",
        "}"
      ],
      "execution_count": null,
      "outputs": []
    }
  ]
}