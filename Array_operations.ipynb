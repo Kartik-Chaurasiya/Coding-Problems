{
  "nbformat": 4,
  "nbformat_minor": 0,
  "metadata": {
    "colab": {
      "name": "Array operations.ipynb",
      "provenance": [],
      "authorship_tag": "ABX9TyMn4M4avL1yNsMO0upnOgMI",
      "include_colab_link": true
    },
    "kernelspec": {
      "name": "python3",
      "display_name": "Python 3"
    }
  },
  "cells": [
    {
      "cell_type": "markdown",
      "metadata": {
        "id": "view-in-github",
        "colab_type": "text"
      },
      "source": [
        "<a href=\"https://colab.research.google.com/github/Syntax-code/Codes/blob/master/Array_operations.ipynb\" target=\"_parent\"><img src=\"https://colab.research.google.com/assets/colab-badge.svg\" alt=\"Open In Colab\"/></a>"
      ]
    },
    {
      "cell_type": "code",
      "metadata": {
        "id": "KG7QchdOaKXa",
        "colab_type": "code",
        "colab": {
          "base_uri": "https://localhost:8080/",
          "height": 34
        },
        "outputId": "e12fed9b-2cf0-4e0a-a4d3-0de9532527e8"
      },
      "source": [
        "import random\n",
        "arr = random.sample(range(1, 100), 10)\n",
        "arr"
      ],
      "execution_count": 47,
      "outputs": [
        {
          "output_type": "execute_result",
          "data": {
            "text/plain": [
              "[43, 11, 91, 1, 79, 18, 85, 14, 47, 19]"
            ]
          },
          "metadata": {
            "tags": []
          },
          "execution_count": 47
        }
      ]
    },
    {
      "cell_type": "markdown",
      "metadata": {
        "id": "2JIvSn8AaaHo",
        "colab_type": "text"
      },
      "source": [
        "<h3> Search Operation"
      ]
    },
    {
      "cell_type": "code",
      "metadata": {
        "id": "_7gwLuTkawj-",
        "colab_type": "code",
        "colab": {
          "base_uri": "https://localhost:8080/",
          "height": 34
        },
        "outputId": "0b578c53-7e5e-473b-bc9b-90c050946aaf"
      },
      "source": [
        "print(arr_search(arr, random.randint(1,100)))"
      ],
      "execution_count": null,
      "outputs": [
        {
          "output_type": "stream",
          "text": [
            "2\n"
          ],
          "name": "stdout"
        }
      ]
    },
    {
      "cell_type": "code",
      "metadata": {
        "id": "SEZgyBMhagKm",
        "colab_type": "code",
        "colab": {}
      },
      "source": [
        "def arr_search(arr, key):\n",
        "  return arr.index(key) if key in arr else False"
      ],
      "execution_count": null,
      "outputs": []
    },
    {
      "cell_type": "markdown",
      "metadata": {
        "id": "cx1TvvDVrZNa",
        "colab_type": "text"
      },
      "source": [
        "<h3> Insert Operation"
      ]
    },
    {
      "cell_type": "code",
      "metadata": {
        "id": "FdyEnVKnbTj3",
        "colab_type": "code",
        "colab": {
          "base_uri": "https://localhost:8080/",
          "height": 34
        },
        "outputId": "3316b2aa-cb40-4ac3-f4f6-8fe8d4e39413"
      },
      "source": [
        "arr_insert(arr, random.randint(1,100), random.randint(1,len(arr)))\n",
        "print(arr)"
      ],
      "execution_count": null,
      "outputs": [
        {
          "output_type": "stream",
          "text": [
            "[70, 39, 32, 3, 80, 61, 48, 42, 91, 49, 79]\n"
          ],
          "name": "stdout"
        }
      ]
    },
    {
      "cell_type": "code",
      "metadata": {
        "id": "AfTJ_AoZoQay",
        "colab_type": "code",
        "colab": {}
      },
      "source": [
        "def arr_insert(arr, key, pos):\n",
        "  return arr.insert(pos, key)"
      ],
      "execution_count": null,
      "outputs": []
    },
    {
      "cell_type": "markdown",
      "metadata": {
        "id": "YEoVfwx2rc35",
        "colab_type": "text"
      },
      "source": [
        "<h3>Delete Operation"
      ]
    },
    {
      "cell_type": "code",
      "metadata": {
        "id": "rLA3WAtJrlHa",
        "colab_type": "code",
        "colab": {
          "base_uri": "https://localhost:8080/",
          "height": 34
        },
        "outputId": "135e54c7-1f9c-483d-90ec-63bf7da97774"
      },
      "source": [
        "res = arr_delete(arr, random.randint(1,100))\n",
        "print(arr if res != False else False)"
      ],
      "execution_count": null,
      "outputs": [
        {
          "output_type": "stream",
          "text": [
            "[70, 39, 32, 3, 61, 48, 42, 91, 49, 79]\n"
          ],
          "name": "stdout"
        }
      ]
    },
    {
      "cell_type": "code",
      "metadata": {
        "id": "p63vldPWpO8S",
        "colab_type": "code",
        "colab": {}
      },
      "source": [
        "def arr_delete(arr, key):\n",
        "  if key in arr:\n",
        "    return arr.remove(key)\n",
        "  else :\n",
        "    return False"
      ],
      "execution_count": null,
      "outputs": []
    },
    {
      "cell_type": "markdown",
      "metadata": {
        "id": "fsumJ2nLvW1i",
        "colab_type": "text"
      },
      "source": [
        "<h3> Print Alternate"
      ]
    },
    {
      "cell_type": "code",
      "metadata": {
        "id": "cr6h7SkSvaqp",
        "colab_type": "code",
        "colab": {
          "base_uri": "https://localhost:8080/",
          "height": 34
        },
        "outputId": "8134ded3-2486-4792-a8bd-0838691a8c5c"
      },
      "source": [
        "print([arr[i] for i in range(0, len(arr), 2)])"
      ],
      "execution_count": 50,
      "outputs": [
        {
          "output_type": "stream",
          "text": [
            "[43, 91, 79, 85, 47]\n"
          ],
          "name": "stdout"
        }
      ]
    }
  ]
}