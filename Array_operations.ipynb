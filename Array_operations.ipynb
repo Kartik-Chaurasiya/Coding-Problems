{
  "nbformat": 4,
  "nbformat_minor": 0,
  "metadata": {
    "colab": {
      "name": "Array operations.ipynb",
      "provenance": [],
      "authorship_tag": "ABX9TyMTnJwsNnd6UYp6ue+VP996",
      "include_colab_link": true
    },
    "kernelspec": {
      "name": "python3",
      "display_name": "Python 3"
    }
  },
  "cells": [
    {
      "cell_type": "markdown",
      "metadata": {
        "id": "view-in-github",
        "colab_type": "text"
      },
      "source": [
        "<a href=\"https://colab.research.google.com/github/Syntax-code/Codes/blob/master/Array_operations.ipynb\" target=\"_parent\"><img src=\"https://colab.research.google.com/assets/colab-badge.svg\" alt=\"Open In Colab\"/></a>"
      ]
    },
    {
      "cell_type": "code",
      "metadata": {
        "id": "KG7QchdOaKXa",
        "colab_type": "code",
        "colab": {
          "base_uri": "https://localhost:8080/",
          "height": 34
        },
        "outputId": "174818c0-fb95-4565-8af7-dd686b049821"
      },
      "source": [
        "import random\n",
        "arr = random.sample(range(1, 100), 10)\n",
        "arr"
      ],
      "execution_count": 8,
      "outputs": [
        {
          "output_type": "execute_result",
          "data": {
            "text/plain": [
              "[89, 87, 23, 93, 63, 50, 94, 43, 9, 17]"
            ]
          },
          "metadata": {
            "tags": []
          },
          "execution_count": 8
        }
      ]
    },
    {
      "cell_type": "markdown",
      "metadata": {
        "id": "2JIvSn8AaaHo",
        "colab_type": "text"
      },
      "source": [
        "<h3> Search Operation"
      ]
    },
    {
      "cell_type": "code",
      "metadata": {
        "id": "_7gwLuTkawj-",
        "colab_type": "code",
        "colab": {
          "base_uri": "https://localhost:8080/",
          "height": 34
        },
        "outputId": "e08de7d5-15a6-44c5-e5b4-d377211adf1d"
      },
      "source": [
        "print(arr_search(arr, random.randint(1,100)))"
      ],
      "execution_count": null,
      "outputs": [
        {
          "output_type": "stream",
          "text": [
            "7\n"
          ],
          "name": "stdout"
        }
      ]
    },
    {
      "cell_type": "code",
      "metadata": {
        "id": "SEZgyBMhagKm",
        "colab_type": "code",
        "colab": {}
      },
      "source": [
        "def arr_search(arr, key):\n",
        "  return arr.index(key) if key in arr else False"
      ],
      "execution_count": null,
      "outputs": []
    },
    {
      "cell_type": "markdown",
      "metadata": {
        "id": "cx1TvvDVrZNa",
        "colab_type": "text"
      },
      "source": [
        "<h3> Insert Operation"
      ]
    },
    {
      "cell_type": "code",
      "metadata": {
        "id": "FdyEnVKnbTj3",
        "colab_type": "code",
        "colab": {
          "base_uri": "https://localhost:8080/",
          "height": 34
        },
        "outputId": "035b4a1a-0c6b-4019-d425-e20d750dcefd"
      },
      "source": [
        "arr_insert(arr, random.randint(1,100), random.randint(1,len(arr)))\n",
        "print(arr)"
      ],
      "execution_count": null,
      "outputs": [
        {
          "output_type": "stream",
          "text": [
            "[30, 3, 4, 79, 26, 96, 20, 61, 52, 27, 46]\n"
          ],
          "name": "stdout"
        }
      ]
    },
    {
      "cell_type": "code",
      "metadata": {
        "id": "AfTJ_AoZoQay",
        "colab_type": "code",
        "colab": {}
      },
      "source": [
        "def arr_insert(arr, key, pos):\n",
        "  return arr.insert(pos, key)"
      ],
      "execution_count": null,
      "outputs": []
    },
    {
      "cell_type": "markdown",
      "metadata": {
        "id": "YEoVfwx2rc35",
        "colab_type": "text"
      },
      "source": [
        "<h3>Delete Operation"
      ]
    },
    {
      "cell_type": "code",
      "metadata": {
        "id": "rLA3WAtJrlHa",
        "colab_type": "code",
        "colab": {
          "base_uri": "https://localhost:8080/",
          "height": 34
        },
        "outputId": "9f14d2c8-4567-46e7-913c-a7f966fca1b9"
      },
      "source": [
        "res = arr_delete(arr, 4)\n",
        "print(arr if res != False else False)"
      ],
      "execution_count": null,
      "outputs": [
        {
          "output_type": "stream",
          "text": [
            "[30, 3, 79, 26, 96, 20, 61, 52, 27, 46]\n"
          ],
          "name": "stdout"
        }
      ]
    },
    {
      "cell_type": "code",
      "metadata": {
        "id": "p63vldPWpO8S",
        "colab_type": "code",
        "colab": {}
      },
      "source": [
        "def arr_delete(arr, key):\n",
        "  if key in arr:\n",
        "    return arr.remove(key)\n",
        "  else :\n",
        "    return False"
      ],
      "execution_count": null,
      "outputs": []
    },
    {
      "cell_type": "markdown",
      "metadata": {
        "id": "fsumJ2nLvW1i",
        "colab_type": "text"
      },
      "source": [
        "<h3> Print Alternate"
      ]
    },
    {
      "cell_type": "code",
      "metadata": {
        "id": "cr6h7SkSvaqp",
        "colab_type": "code",
        "colab": {
          "base_uri": "https://localhost:8080/",
          "height": 34
        },
        "outputId": "8134ded3-2486-4792-a8bd-0838691a8c5c"
      },
      "source": [
        "print([arr[i] for i in range(0, len(arr), 2)])"
      ],
      "execution_count": null,
      "outputs": [
        {
          "output_type": "stream",
          "text": [
            "[43, 91, 79, 85, 47]\n"
          ],
          "name": "stdout"
        }
      ]
    },
    {
      "cell_type": "markdown",
      "metadata": {
        "id": "LaTz-Go83uI5",
        "colab_type": "text"
      },
      "source": [
        "<h3> Max and Min"
      ]
    },
    {
      "cell_type": "code",
      "metadata": {
        "id": "ZfxTWtg13tUW",
        "colab_type": "code",
        "colab": {
          "base_uri": "https://localhost:8080/",
          "height": 34
        },
        "outputId": "9af071fc-7258-4d82-a2d3-5ed2e5c322a1"
      },
      "source": [
        "print(max(arr), min(arr))"
      ],
      "execution_count": null,
      "outputs": [
        {
          "output_type": "stream",
          "text": [
            "91 1\n"
          ],
          "name": "stdout"
        }
      ]
    },
    {
      "cell_type": "markdown",
      "metadata": {
        "id": "vXFJrL6SQYye",
        "colab_type": "text"
      },
      "source": [
        "<h3> Second Largest"
      ]
    },
    {
      "cell_type": "code",
      "metadata": {
        "id": "F2xUnZgFQYBG",
        "colab_type": "code",
        "colab": {
          "base_uri": "https://localhost:8080/",
          "height": 34
        },
        "outputId": "8bfe0140-e9b9-46d5-df67-bc2fb07e236a"
      },
      "source": [
        "arr.remove(max(arr))\n",
        "print(max(arr))"
      ],
      "execution_count": null,
      "outputs": [
        {
          "output_type": "stream",
          "text": [
            "76\n"
          ],
          "name": "stdout"
        }
      ]
    },
    {
      "cell_type": "markdown",
      "metadata": {
        "id": "6-2zfFjQSIEo",
        "colab_type": "text"
      },
      "source": [
        "<h3> Sum"
      ]
    },
    {
      "cell_type": "code",
      "metadata": {
        "id": "Gehnh6g5SK5x",
        "colab_type": "code",
        "colab": {
          "base_uri": "https://localhost:8080/",
          "height": 34
        },
        "outputId": "23edf915-877b-449c-9547-bfa3e5bb73df"
      },
      "source": [
        "print(sum(arr))"
      ],
      "execution_count": null,
      "outputs": [
        {
          "output_type": "stream",
          "text": [
            "362\n"
          ],
          "name": "stdout"
        }
      ]
    },
    {
      "cell_type": "markdown",
      "metadata": {
        "id": "B9fTLFuBSS5L",
        "colab_type": "text"
      },
      "source": [
        "<h3> Reverse"
      ]
    },
    {
      "cell_type": "code",
      "metadata": {
        "id": "QtDrAdr1SabX",
        "colab_type": "code",
        "colab": {
          "base_uri": "https://localhost:8080/",
          "height": 185
        },
        "outputId": "d39331dd-234b-4417-8cfa-d25610509b0e"
      },
      "source": [
        "for i in range(len(arr) -1, -1, -1):\n",
        "  print(arr[i])"
      ],
      "execution_count": null,
      "outputs": [
        {
          "output_type": "stream",
          "text": [
            "1\n",
            "13\n",
            "20\n",
            "19\n",
            "35\n",
            "8\n",
            "86\n",
            "16\n",
            "50\n",
            "91\n"
          ],
          "name": "stdout"
        }
      ]
    },
    {
      "cell_type": "code",
      "metadata": {
        "id": "MsJQhy9zUJuA",
        "colab_type": "code",
        "colab": {
          "base_uri": "https://localhost:8080/",
          "height": 34
        },
        "outputId": "0b2b66c5-55fb-48e0-9642-cf61d540e2e2"
      },
      "source": [
        "print([ele for ele in reversed(arr)])"
      ],
      "execution_count": null,
      "outputs": [
        {
          "output_type": "stream",
          "text": [
            "[1, 13, 20, 19, 35, 8, 86, 16, 50, 91]\n"
          ],
          "name": "stdout"
        }
      ]
    },
    {
      "cell_type": "code",
      "metadata": {
        "id": "xJY6lcn5Ucu7",
        "colab_type": "code",
        "colab": {
          "base_uri": "https://localhost:8080/",
          "height": 34
        },
        "outputId": "9e358cd8-87f9-403b-930d-7ac3a9108482"
      },
      "source": [
        "print(arr[::-1])"
      ],
      "execution_count": null,
      "outputs": [
        {
          "output_type": "stream",
          "text": [
            "[1, 13, 20, 19, 35, 8, 86, 16, 50, 91]\n"
          ],
          "name": "stdout"
        }
      ]
    },
    {
      "cell_type": "markdown",
      "metadata": {
        "id": "9lO58IFecOps",
        "colab_type": "text"
      },
      "source": [
        "<h3> Rotate\n",
        "\n",
        "The first line of the input contains T denoting the number of testcases. First line of each test case contains two space separated elements, N denoting the size of the array and an integer D denoting the number size of the rotation. Subsequent line will be the N space separated array elements."
      ]
    },
    {
      "cell_type": "code",
      "metadata": {
        "id": "QJsDibCrcOK-",
        "colab_type": "code",
        "colab": {}
      },
      "source": [
        "def rotate(arr, n):\n",
        "  for x in range(n):\n",
        "    arr.append(arr.pop(0))\n",
        "  return arr\n"
      ],
      "execution_count": 2,
      "outputs": []
    },
    {
      "cell_type": "code",
      "metadata": {
        "id": "3baoco45cY7t",
        "colab_type": "code",
        "colab": {
          "base_uri": "https://localhost:8080/",
          "height": 34
        },
        "outputId": "436b9548-69fd-419e-acdd-3df2a9a2ee1d"
      },
      "source": [
        "arr = rotate(arr, random.randint(0,10))\n",
        "arr"
      ],
      "execution_count": 7,
      "outputs": [
        {
          "output_type": "execute_result",
          "data": {
            "text/plain": [
              "[2, 4, 6, 8, 10, 12, 14, 16, 18, 20]"
            ]
          },
          "metadata": {
            "tags": []
          },
          "execution_count": 7
        }
      ]
    },
    {
      "cell_type": "markdown",
      "metadata": {
        "id": "IL0lXdfTeCzM",
        "colab_type": "text"
      },
      "source": [
        "<h3> Count of smaller or equal elements"
      ]
    },
    {
      "cell_type": "code",
      "metadata": {
        "id": "Ek_7iZNjfk-9",
        "colab_type": "code",
        "colab": {}
      },
      "source": [
        "def equal_or_small(arr, key):\n",
        "  add = []\n",
        "  add += [1 for x in arr if x<= key] \n",
        "  # for x in arr:\n",
        "  #   if x <= key:\n",
        "  #     count += 1\n",
        "  return sum(add)"
      ],
      "execution_count": 26,
      "outputs": []
    },
    {
      "cell_type": "code",
      "metadata": {
        "id": "B2CCXMWaf6dM",
        "colab_type": "code",
        "colab": {
          "base_uri": "https://localhost:8080/",
          "height": 34
        },
        "outputId": "6a256719-1344-4fe7-bd1f-391571dfa0e1"
      },
      "source": [
        "equal_or_small(arr, random.randint(0,100))"
      ],
      "execution_count": 27,
      "outputs": [
        {
          "output_type": "execute_result",
          "data": {
            "text/plain": [
              "3"
            ]
          },
          "metadata": {
            "tags": []
          },
          "execution_count": 27
        }
      ]
    },
    {
      "cell_type": "code",
      "metadata": {
        "id": "xEnLdlNIfP_E",
        "colab_type": "code",
        "colab": {
          "base_uri": "https://localhost:8080/",
          "height": 34
        },
        "outputId": "4017fbac-e1c1-4f9e-c6c3-5d6a79547557"
      },
      "source": [
        "random.choice(arr)"
      ],
      "execution_count": 9,
      "outputs": [
        {
          "output_type": "execute_result",
          "data": {
            "text/plain": [
              "23"
            ]
          },
          "metadata": {
            "tags": []
          },
          "execution_count": 9
        }
      ]
    },
    {
      "cell_type": "markdown",
      "metadata": {
        "id": "4n_0vWS8CnUb",
        "colab_type": "text"
      },
      "source": [
        ""
      ]
    }
  ]
}