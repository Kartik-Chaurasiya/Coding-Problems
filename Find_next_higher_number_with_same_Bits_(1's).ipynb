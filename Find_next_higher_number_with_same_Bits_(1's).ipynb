{
  "nbformat": 4,
  "nbformat_minor": 0,
  "metadata": {
    "colab": {
      "name": "Find next higher number with same Bits (1's).ipynb",
      "provenance": [],
      "authorship_tag": "ABX9TyPa0rYMzlzEMWgjtQ7tSOk9",
      "include_colab_link": true
    },
    "kernelspec": {
      "name": "python3",
      "display_name": "Python 3"
    }
  },
  "cells": [
    {
      "cell_type": "markdown",
      "metadata": {
        "id": "view-in-github",
        "colab_type": "text"
      },
      "source": [
        "<a href=\"https://colab.research.google.com/github/Syntax-code/Codes/blob/master/Find_next_higher_number_with_same_Bits_(1's).ipynb\" target=\"_parent\"><img src=\"https://colab.research.google.com/assets/colab-badge.svg\" alt=\"Open In Colab\"/></a>"
      ]
    },
    {
      "cell_type": "markdown",
      "metadata": {
        "id": "vNKQkfONPq5w",
        "colab_type": "text"
      },
      "source": [
        "Your task is to Find the next higher number (int) with same '1'- Bits.\n",
        "\n",
        "I.e. as much '1' bits as before and output next higher than input. Input is always an int >0 up to 1<<30. No bad cases or special tricks...\n",
        "\n",
        "Some easy examples:\n",
        "\n",
        "Input: 129  => Output: 130 (10000001 => 10000010)\n",
        "\n",
        "Input: 127 => Output: 191 (01111111 => 10111111)"
      ]
    },
    {
      "cell_type": "code",
      "metadata": {
        "id": "0Z41ab9GeDqi",
        "colab_type": "code",
        "colab": {}
      },
      "source": [
        "def change_char0(s, newstring, index):\n",
        "    return s[:index] + newstring + s[index + 1:]"
      ],
      "execution_count": 0,
      "outputs": []
    },
    {
      "cell_type": "code",
      "metadata": {
        "id": "LTuN1qeoi4OH",
        "colab_type": "code",
        "colab": {}
      },
      "source": [
        "'''def add(l,b, rl):\n",
        "  enumerate(b)\n",
        "  while l < rl:\n",
        "    if b[l] == '0':\n",
        "      b=change_char0(b,'1',l)\n",
        "    elif b[l] == '1':\n",
        "      b=change_char0(b,'0',l)\n",
        "    l +=1\n",
        "  return b'''"
      ],
      "execution_count": 0,
      "outputs": []
    },
    {
      "cell_type": "code",
      "metadata": {
        "id": "rKMZAeKkZ84G",
        "colab_type": "code",
        "colab": {}
      },
      "source": [
        "def add(l,b, rl):\n",
        "  enumerate(b)\n",
        "  for n in range(2):\n",
        "    if b[l] == '0':\n",
        "      b=change_char0(b,'1',l)\n",
        "    elif b[l] == '1':\n",
        "      b=change_char0(b,'0',l)\n",
        "    l +=1\n",
        "  return b\n",
        "    \n"
      ],
      "execution_count": 0,
      "outputs": []
    },
    {
      "cell_type": "code",
      "metadata": {
        "id": "jW2Jp_JfX4oc",
        "colab_type": "code",
        "colab": {}
      },
      "source": [
        "def add_one(b):\n",
        "  b = str(b)\n",
        "  if b == '1':\n",
        "    b ='01'\n",
        "  rl = len(b)\n",
        "  l =rl-1\n",
        "  for n in enumerate(b):\n",
        "    if (b[l] == '0') and (l != rl -1):\n",
        "      b = add(l,b, rl)\n",
        "      break\n",
        "    elif (b[l] == '0') and (l == rl -1):\n",
        "      return b + '0'\n",
        "    elif b[l] == '1' and l == 0:\n",
        "      b = change_char0(b,'0',1)\n",
        "      return b + '1'\n",
        "    elif b[l] == '1':\n",
        "      l =l-1\n",
        "      continue\n",
        "  return b\n",
        "    "
      ],
      "execution_count": 0,
      "outputs": []
    },
    {
      "cell_type": "code",
      "metadata": {
        "id": "u-w_ji6-PAFB",
        "colab_type": "code",
        "colab": {}
      },
      "source": [
        "def next_higher(value):\n",
        "  \n",
        "  b = bin(value).replace(\"0b\",\"\")\n",
        "  ans = add_one(b)\n",
        "  return int(ans,2)"
      ],
      "execution_count": 0,
      "outputs": []
    },
    {
      "cell_type": "code",
      "metadata": {
        "id": "FDL6XWl4O-uR",
        "colab_type": "code",
        "colab": {
          "base_uri": "https://localhost:8080/",
          "height": 34
        },
        "outputId": "0dcc0eb7-e6ec-46d5-b52b-55898c527d77"
      },
      "source": [
        "print(next_higher(1))"
      ],
      "execution_count": 8,
      "outputs": [
        {
          "output_type": "stream",
          "text": [
            "2\n"
          ],
          "name": "stdout"
        }
      ]
    },
    {
      "cell_type": "code",
      "metadata": {
        "id": "Rr6h0DIfhECt",
        "colab_type": "code",
        "colab": {
          "base_uri": "https://localhost:8080/",
          "height": 50
        },
        "outputId": "3bfa5420-2177-4e10-9ee9-c0ceb4da468e"
      },
      "source": [
        "for n in range(2):\n",
        "  print(n)"
      ],
      "execution_count": 45,
      "outputs": [
        {
          "output_type": "stream",
          "text": [
            "0\n",
            "1\n"
          ],
          "name": "stdout"
        }
      ]
    },
    {
      "cell_type": "code",
      "metadata": {
        "id": "aBAniO8KhDzH",
        "colab_type": "code",
        "colab": {
          "base_uri": "https://localhost:8080/",
          "height": 34
        },
        "outputId": "11c33c7f-90b7-4513-f64a-345494f55b6d"
      },
      "source": [
        "print(bin(1022).replace(\"0b\",\"\"))"
      ],
      "execution_count": 9,
      "outputs": [
        {
          "output_type": "stream",
          "text": [
            "1111111110\n"
          ],
          "name": "stdout"
        }
      ]
    },
    {
      "cell_type": "code",
      "metadata": {
        "id": "-C8E9CCPmbMI",
        "colab_type": "code",
        "colab": {
          "base_uri": "https://localhost:8080/",
          "height": 34
        },
        "outputId": "509e2373-6aee-408d-c230-d732bc739e6e"
      },
      "source": [
        "print(bin(1279).replace(\"0b\",\"\"))"
      ],
      "execution_count": 10,
      "outputs": [
        {
          "output_type": "stream",
          "text": [
            "10011111111\n"
          ],
          "name": "stdout"
        }
      ]
    }
  ]
}