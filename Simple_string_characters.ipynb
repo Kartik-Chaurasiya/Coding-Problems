{
  "nbformat": 4,
  "nbformat_minor": 0,
  "metadata": {
    "colab": {
      "name": " Simple string characters.ipynb",
      "provenance": [],
      "authorship_tag": "ABX9TyPneySdOsxJ1MWyaBICYhWu",
      "include_colab_link": true
    },
    "kernelspec": {
      "name": "python3",
      "display_name": "Python 3"
    }
  },
  "cells": [
    {
      "cell_type": "markdown",
      "metadata": {
        "id": "view-in-github",
        "colab_type": "text"
      },
      "source": [
        "<a href=\"https://colab.research.google.com/github/Syntax-code/Codes/blob/master/Simple_string_characters.ipynb\" target=\"_parent\"><img src=\"https://colab.research.google.com/assets/colab-badge.svg\" alt=\"Open In Colab\"/></a>"
      ]
    },
    {
      "cell_type": "markdown",
      "metadata": {
        "id": "0q-RrPM5RUE3",
        "colab_type": "text"
      },
      "source": [
        "you will be given a string and your task will be to return a list of ints detailing the count of uppercase letters, lowercase, numbers and special characters, as follows.\n",
        "\n",
        "solve(\"*'&ABCDabcde12345\") = [4,5,5,3]. \n",
        "\n",
        "--the order is: uppercase letters, lowercase, numbers and special characters."
      ]
    },
    {
      "cell_type": "code",
      "metadata": {
        "id": "3-Z0VMBkROj5",
        "colab_type": "code",
        "colab": {}
      },
      "source": [
        "def solve(s):\n",
        "  uc, lc, num, sc = 0,0,0,0\n",
        "  for x in s:\n",
        "    if x.isalnum():\n",
        "      if x.isalpha() :\n",
        "        if x.isupper() :\n",
        "          uc += 1\n",
        "        else :\n",
        "          lc += 1\n",
        "      else :\n",
        "        num += 1 \n",
        "    else :\n",
        "      sc += 1\n",
        "  return [uc,lc,num,sc]"
      ],
      "execution_count": null,
      "outputs": []
    },
    {
      "cell_type": "code",
      "metadata": {
        "id": "QmORnDqcRcT0",
        "colab_type": "code",
        "colab": {
          "base_uri": "https://localhost:8080/",
          "height": 34
        },
        "outputId": "4caef5ad-086f-49ee-db83-98ae40c1921f"
      },
      "source": [
        "print(solve(\"Codewars@codewars123.com\"))"
      ],
      "execution_count": null,
      "outputs": [
        {
          "output_type": "stream",
          "text": [
            "[1, 18, 3, 2]\n"
          ],
          "name": "stdout"
        }
      ]
    },
    {
      "cell_type": "markdown",
      "metadata": {
        "id": "xISVuv5TXyA-",
        "colab_type": "text"
      },
      "source": [
        "<h1> other solution"
      ]
    },
    {
      "cell_type": "code",
      "metadata": {
        "id": "qyxRzKZ7SWSB",
        "colab_type": "code",
        "colab": {}
      },
      "source": [
        "\n",
        "import re\n",
        "def solve(s):\n",
        "    return [len(re.findall(i,s)) for i in ('[A-Z]','[a-z]','\\d','[^a-zA-Z0-9]')]"
      ],
      "execution_count": null,
      "outputs": []
    },
    {
      "cell_type": "code",
      "metadata": {
        "id": "kVV-G_s2X9JG",
        "colab_type": "code",
        "colab": {}
      },
      "source": [
        "def solve(s):\n",
        "    fs = [str.isupper, str.islower, str.isdigit]\n",
        "    res = [0, 0, 0, 0]\n",
        "    for c in s:\n",
        "        res[next((i for i, f in enumerate(fs) if f(c)), -1)] += 1\n",
        "    return res"
      ],
      "execution_count": null,
      "outputs": []
    },
    {
      "cell_type": "code",
      "metadata": {
        "id": "tfLR1R8LX_Fk",
        "colab_type": "code",
        "colab": {}
      },
      "source": [
        "def solve(s):\n",
        "    r = [0] * 4\n",
        "    for e in s:\n",
        "        r[0 if e.isupper() else 1 if e.islower() else 2 if e.isdigit() else 3] += 1\n",
        "    return r"
      ],
      "execution_count": null,
      "outputs": []
    }
  ]
}