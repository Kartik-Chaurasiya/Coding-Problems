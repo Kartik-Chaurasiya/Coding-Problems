{
  "nbformat": 4,
  "nbformat_minor": 0,
  "metadata": {
    "colab": {
      "name": "search in multidimensional array.ipynb",
      "provenance": [],
      "authorship_tag": "ABX9TyOEL+ngavBbKHfTU44Rn07f",
      "include_colab_link": true
    },
    "kernelspec": {
      "name": "python3",
      "display_name": "Python 3"
    }
  },
  "cells": [
    {
      "cell_type": "markdown",
      "metadata": {
        "id": "view-in-github",
        "colab_type": "text"
      },
      "source": [
        "<a href=\"https://colab.research.google.com/github/Syntax-code/Codes/blob/master/search_in_multidimensional_array.ipynb\" target=\"_parent\"><img src=\"https://colab.research.google.com/assets/colab-badge.svg\" alt=\"Open In Colab\"/></a>"
      ]
    },
    {
      "cell_type": "markdown",
      "metadata": {
        "id": "btXbwoYiLU6w",
        "colab_type": "text"
      },
      "source": [
        "Write a function that gets a sequence and value and returns true/false depending on whether the variable exists in a multidimentional sequence.\n",
        "\n",
        "Example:\n",
        "\n",
        "locate(['a','b',['c','d',['e']]],'e'); // should return true\n",
        "\n",
        "locate(['a','b',['c','d',['e']]],'a'); // should return true\n",
        "\n",
        "locate(['a','b',['c','d',['e']]],'f'); // should return false"
      ]
    },
    {
      "cell_type": "code",
      "metadata": {
        "id": "cGM8PsfYFg6S",
        "colab_type": "code",
        "colab": {}
      },
      "source": [
        "import itertools"
      ],
      "execution_count": 64,
      "outputs": []
    },
    {
      "cell_type": "code",
      "metadata": {
        "id": "nxt4sJhsLTLg",
        "colab_type": "code",
        "colab": {}
      },
      "source": [
        "def locate(seq, value): \n",
        "  seq = str(seq)\n",
        "  ct = seq.count(value)\n",
        "  if ct >= 1:\n",
        "    return True\n",
        "  else :\n",
        "    return False "
      ],
      "execution_count": 62,
      "outputs": []
    },
    {
      "cell_type": "code",
      "metadata": {
        "id": "O4Kb4BoYO1cb",
        "colab_type": "code",
        "colab": {}
      },
      "source": [
        "def locate(seq, value): \n",
        "  seq1 = str(seq)\n",
        "  ct = seq1.count('[')\n",
        "  for i in range(ct - 1):\n",
        "    seq  = list(itertools.chain(*seq))\n",
        "  if value in seq:\n",
        "    return True\n",
        "  else :\n",
        "    return False\n"
      ],
      "execution_count": 74,
      "outputs": []
    },
    {
      "cell_type": "code",
      "metadata": {
        "id": "0-ZPQdh7SOcB",
        "colab_type": "code",
        "colab": {}
      },
      "source": [
        "def locate(seq, value): \n",
        "    for x in seq:\n",
        "        if x == value:\n",
        "            return True\n",
        "        if isinstance(x, list):\n",
        "            if locate(x, value) == True:\n",
        "                return True\n",
        "    return False"
      ],
      "execution_count": 1,
      "outputs": []
    },
    {
      "cell_type": "code",
      "metadata": {
        "id": "bwxUqMsjCue6",
        "colab_type": "code",
        "colab": {
          "base_uri": "https://localhost:8080/",
          "height": 33
        },
        "outputId": "cdd17ab1-8666-4dc7-b026-620c71600b5a"
      },
      "source": [
        "print(locate(['a','b',['c','d',['e',['a','b',['c','d',['e4']]]]]],'e4'))"
      ],
      "execution_count": 2,
      "outputs": [
        {
          "output_type": "stream",
          "text": [
            "True\n"
          ],
          "name": "stdout"
        }
      ]
    },
    {
      "cell_type": "code",
      "metadata": {
        "id": "ucIBmSt0KJmC",
        "colab_type": "code",
        "colab": {
          "base_uri": "https://localhost:8080/",
          "height": 33
        },
        "outputId": "d7bf9388-c96f-4001-bbd1-e850450f44bb"
      },
      "source": [
        "a = str(a)\n",
        "a.count('[')"
      ],
      "execution_count": 58,
      "outputs": [
        {
          "output_type": "execute_result",
          "data": {
            "text/plain": [
              "3"
            ]
          },
          "metadata": {
            "tags": []
          },
          "execution_count": 58
        }
      ]
    },
    {
      "cell_type": "code",
      "metadata": {
        "id": "UPDqYlbqDNCR",
        "colab_type": "code",
        "colab": {
          "base_uri": "https://localhost:8080/",
          "height": 100
        },
        "outputId": "d7f416cc-87d0-4ddd-f5b2-aaa15a351b44"
      },
      "source": [
        "for i in range(5):\n",
        "    a  = list(itertools.chain(*a))\n",
        "    print(a)"
      ],
      "execution_count": 43,
      "outputs": [
        {
          "output_type": "stream",
          "text": [
            "['a', 'b', 'c', 'd', ['e', ['a', 'b', ['c', 'd', ['e4']]]]]\n",
            "['a', 'b', 'c', 'd', 'e', ['a', 'b', ['c', 'd', ['e4']]]]\n",
            "['a', 'b', 'c', 'd', 'e', 'a', 'b', ['c', 'd', ['e4']]]\n",
            "['a', 'b', 'c', 'd', 'e', 'a', 'b', 'c', 'd', ['e4']]\n",
            "['a', 'b', 'c', 'd', 'e', 'a', 'b', 'c', 'd', 'e4']\n"
          ],
          "name": "stdout"
        }
      ]
    }
  ]
}