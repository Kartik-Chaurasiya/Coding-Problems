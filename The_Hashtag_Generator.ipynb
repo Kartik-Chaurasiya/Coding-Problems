{
  "nbformat": 4,
  "nbformat_minor": 0,
  "metadata": {
    "colab": {
      "name": "The Hashtag Generator.ipynb",
      "provenance": [],
      "authorship_tag": "ABX9TyP7a0oeimYzKklJaZQsOY4R",
      "include_colab_link": true
    },
    "kernelspec": {
      "name": "python3",
      "display_name": "Python 3"
    }
  },
  "cells": [
    {
      "cell_type": "markdown",
      "metadata": {
        "id": "view-in-github",
        "colab_type": "text"
      },
      "source": [
        "<a href=\"https://colab.research.google.com/github/Syntax-code/Codes/blob/master/The_Hashtag_Generator.ipynb\" target=\"_parent\"><img src=\"https://colab.research.google.com/assets/colab-badge.svg\" alt=\"Open In Colab\"/></a>"
      ]
    },
    {
      "cell_type": "markdown",
      "metadata": {
        "id": "U8LKs8WAUGOE",
        "colab_type": "text"
      },
      "source": [
        "The marketing team is spending way too much time typing in hashtags.\n",
        "\n",
        "Let's help them with our own Hashtag Generator!\n",
        "\n",
        "Here's the deal:\n",
        "\n",
        "It must start with a hashtag (#).\n",
        "                              \n",
        "All words must have their first letter capitalized.\n",
        "\n",
        "If the final result is longer than 140 chars it must return false.\n",
        "\n",
        "If the input or the result is an empty string it must return false.\n",
        "\n",
        "Examples\n",
        "\n",
        "\" Hello there thanks for trying my Kata\"  =>  \"#HelloThereThanksForTryingMyKata\"\n",
        "\n",
        "\"    Hello     World   \"                  =>  \"#HelloWorld\"\n",
        "\n",
        "\"\"                                        =>  false"
      ]
    },
    {
      "cell_type": "code",
      "metadata": {
        "id": "iMJmL5ZkTqfL",
        "colab_type": "code",
        "colab": {}
      },
      "source": [
        ""
      ],
      "execution_count": 0,
      "outputs": []
    },
    {
      "cell_type": "code",
      "metadata": {
        "id": "5N-8Bn4mUDkA",
        "colab_type": "code",
        "colab": {}
      },
      "source": [
        ""
      ],
      "execution_count": 0,
      "outputs": []
    }
  ]
}