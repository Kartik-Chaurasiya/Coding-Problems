{
  "nbformat": 4,
  "nbformat_minor": 0,
  "metadata": {
    "colab": {
      "name": "The Hashtag Generator.ipynb",
      "provenance": [],
      "authorship_tag": "ABX9TyPv2+aiewsY8nq03SCDrJI8",
      "include_colab_link": true
    },
    "kernelspec": {
      "name": "python3",
      "display_name": "Python 3"
    }
  },
  "cells": [
    {
      "cell_type": "markdown",
      "metadata": {
        "id": "view-in-github",
        "colab_type": "text"
      },
      "source": [
        "<a href=\"https://colab.research.google.com/github/Syntax-code/Codes/blob/master/The_Hashtag_Generator.ipynb\" target=\"_parent\"><img src=\"https://colab.research.google.com/assets/colab-badge.svg\" alt=\"Open In Colab\"/></a>"
      ]
    },
    {
      "cell_type": "markdown",
      "metadata": {
        "id": "U8LKs8WAUGOE",
        "colab_type": "text"
      },
      "source": [
        "The marketing team is spending way too much time typing in hashtags.\n",
        "\n",
        "Let's help them with our own Hashtag Generator!\n",
        "\n",
        "Here's the deal:\n",
        "\n",
        "It must start with a hashtag (#).\n",
        "                              \n",
        "All words must have their first letter capitalized.\n",
        "\n",
        "If the final result is longer than 140 chars it must return false.\n",
        "\n",
        "If the input or the result is an empty string it must return false.\n",
        "\n",
        "Examples\n",
        "\n",
        "\" Hello there thanks for trying my Kata\"  =>  \"#HelloThereThanksForTryingMyKata\"\n",
        "\n",
        "\"    Hello     World   \"                  =>  \"#HelloWorld\"\n",
        "\n",
        "\"\"                                        =>  false"
      ]
    },
    {
      "cell_type": "code",
      "metadata": {
        "id": "iMJmL5ZkTqfL",
        "colab_type": "code",
        "colab": {}
      },
      "source": [
        "def generate_hashtag(s):\n",
        "  if s == '':\n",
        "    return False\n",
        "  s=s.split(' ')\n",
        "  fstr = '#'\n",
        "  for a in s:\n",
        "    fstr = fstr + a.title()\n",
        "  if len(fstr) > 140 :\n",
        "    return False\n",
        "  else :\n",
        "    return fstr\n",
        "  \n"
      ],
      "execution_count": 0,
      "outputs": []
    },
    {
      "cell_type": "code",
      "metadata": {
        "id": "5N-8Bn4mUDkA",
        "colab_type": "code",
        "colab": {
          "base_uri": "https://localhost:8080/",
          "height": 34
        },
        "outputId": "ff6fa1b3-4883-4bad-f130-9afad4eaeb1d"
      },
      "source": [
        "print(generate_hashtag(''))"
      ],
      "execution_count": 35,
      "outputs": [
        {
          "output_type": "stream",
          "text": [
            "False\n"
          ],
          "name": "stdout"
        }
      ]
    }
  ]
}