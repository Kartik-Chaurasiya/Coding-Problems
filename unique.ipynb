{
  "nbformat": 4,
  "nbformat_minor": 0,
  "metadata": {
    "colab": {
      "name": "unique.ipynb",
      "provenance": [],
      "authorship_tag": "ABX9TyNQBHqOPfdlWOnk8cgcSQIb",
      "include_colab_link": true
    },
    "kernelspec": {
      "name": "python3",
      "display_name": "Python 3"
    }
  },
  "cells": [
    {
      "cell_type": "markdown",
      "metadata": {
        "id": "view-in-github",
        "colab_type": "text"
      },
      "source": [
        "<a href=\"https://colab.research.google.com/github/Syntax-code/Codes/blob/master/unique.ipynb\" target=\"_parent\"><img src=\"https://colab.research.google.com/assets/colab-badge.svg\" alt=\"Open In Colab\"/></a>"
      ]
    },
    {
      "cell_type": "code",
      "metadata": {
        "id": "gZZXKgRjNbPh",
        "colab_type": "code",
        "colab": {}
      },
      "source": [
        "import numpy as np"
      ],
      "execution_count": 0,
      "outputs": []
    },
    {
      "cell_type": "code",
      "metadata": {
        "id": "V-sQS6z0NqdE",
        "colab_type": "code",
        "colab": {}
      },
      "source": [
        "l = [20,1,-1,2,-2,3,3,5,5,1,2,4,20,4,-1,-2,5]"
      ],
      "execution_count": 0,
      "outputs": []
    },
    {
      "cell_type": "code",
      "metadata": {
        "id": "dvZZ9D0aNvA7",
        "colab_type": "code",
        "colab": {}
      },
      "source": [
        "u = np.unique(l)"
      ],
      "execution_count": 0,
      "outputs": []
    },
    {
      "cell_type": "markdown",
      "metadata": {
        "id": "5GizzyonQChj",
        "colab_type": "text"
      },
      "source": [
        "A funtion for unique or use above direct using numpy package"
      ]
    },
    {
      "cell_type": "code",
      "metadata": {
        "id": "rbu3tTBtOrT9",
        "colab_type": "code",
        "colab": {}
      },
      "source": [
        "def uni(seq):\n",
        "    u = []\n",
        "    for n in seq:\n",
        "        if n not in u:\n",
        "            u.append(n)\n",
        "    return u"
      ],
      "execution_count": 0,
      "outputs": []
    },
    {
      "cell_type": "code",
      "metadata": {
        "id": "heJ4FI-YN3fJ",
        "colab_type": "code",
        "colab": {
          "base_uri": "https://localhost:8080/",
          "height": 34
        },
        "outputId": "fd07fd7b-6bd0-4c98-c360-14dd53ee58dc"
      },
      "source": [
        "print(u)                        #output of np.unique"
      ],
      "execution_count": 4,
      "outputs": [
        {
          "output_type": "stream",
          "text": [
            "[-2 -1  1  2  3  4  5 20]\n"
          ],
          "name": "stdout"
        }
      ]
    },
    {
      "cell_type": "code",
      "metadata": {
        "id": "qezSQvlKOs3b",
        "colab_type": "code",
        "colab": {}
      },
      "source": [
        "u = uni(l)"
      ],
      "execution_count": 0,
      "outputs": []
    },
    {
      "cell_type": "code",
      "metadata": {
        "id": "cDIj9fsWO1Z5",
        "colab_type": "code",
        "colab": {
          "base_uri": "https://localhost:8080/",
          "height": 34
        },
        "outputId": "8431d62f-94e9-41a1-a2a5-b5c5a1ed7d99"
      },
      "source": [
        "print(u)                       #output of uni i.e unique function created"
      ],
      "execution_count": 7,
      "outputs": [
        {
          "output_type": "stream",
          "text": [
            "[20, 1, -1, 2, -2, 3, 5, 4]\n"
          ],
          "name": "stdout"
        }
      ]
    },
    {
      "cell_type": "code",
      "metadata": {
        "id": "JHCXN4nJPgZG",
        "colab_type": "code",
        "colab": {
          "base_uri": "https://localhost:8080/",
          "height": 34
        },
        "outputId": "f01546b1-ff68-41af-f2bc-c141a0438064"
      },
      "source": [
        "#Given an array, find the integer that appears an odd number of times.\n",
        "\n",
        "#There will always be only one integer that appears an odd number of times.\n",
        "\n",
        "def uni(seq):\n",
        "    u = []\n",
        "    for n in seq:\n",
        "        if n not in u:\n",
        "            u.append(n)\n",
        "    return u\n",
        "\n",
        "def find_it(seq):\n",
        "    count = 0\n",
        "    u=uni(seq)\n",
        "    for i in u:\n",
        "        for n in seq:\n",
        "            if i == n:\n",
        "                count+=1\n",
        "        if count%2!=0:\n",
        "            return i\n",
        "            break\n",
        "\n",
        "l = [20,1,-1,2,-2,3,3,5,5,1,2,4,20,4,-1,-2,5]\n",
        "print(find_it(l))"
      ],
      "execution_count": 11,
      "outputs": [
        {
          "output_type": "stream",
          "text": [
            "5\n"
          ],
          "name": "stdout"
        }
      ]
    }
  ]
}