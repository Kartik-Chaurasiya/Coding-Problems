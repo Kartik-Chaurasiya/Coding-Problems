{
  "nbformat": 4,
  "nbformat_minor": 0,
  "metadata": {
    "colab": {
      "name": "Function_encode.ipynb",
      "provenance": [],
      "authorship_tag": "ABX9TyM2gABhjKBN42ReehQHqjU1",
      "include_colab_link": true
    },
    "kernelspec": {
      "name": "python3",
      "display_name": "Python 3"
    }
  },
  "cells": [
    {
      "cell_type": "markdown",
      "metadata": {
        "id": "view-in-github",
        "colab_type": "text"
      },
      "source": [
        "<a href=\"https://colab.research.google.com/github/Syntax-code/Codes/blob/master/Function_encode.ipynb\" target=\"_parent\"><img src=\"https://colab.research.google.com/assets/colab-badge.svg\" alt=\"Open In Colab\"/></a>"
      ]
    },
    {
      "cell_type": "markdown",
      "metadata": {
        "id": "kc9tjfSqHqjO",
        "colab_type": "text"
      },
      "source": [
        "Write a function that operates as stated below:-\n",
        "\n",
        "IN : 'get'\n",
        "\n",
        "Out : '2069'\n",
        "\n",
        "\n",
        "In : 'more'\n",
        "\n",
        "Out : '5191716'\n",
        "\n",
        "\n",
        "In : 'insight'\n",
        "\n",
        "Out : '209912231915'"
      ]
    },
    {
      "cell_type": "code",
      "metadata": {
        "id": "WQlohEpoHeMt",
        "colab_type": "code",
        "colab": {}
      },
      "source": [
        "class Encode:\n",
        "  def code(self, word):\n",
        "    number = ''\n",
        "    for i in range(0, len(word)):\n",
        "      if word[i].islower():\n",
        "        number = str(((ord(word[i]) - 96) + len(word) - i -1)) + number                    #if the letter is in lower case\n",
        "      else:\n",
        "        number = str(((ord(word[i]) - 64) + len(word) - i -1)) + number                    #if the letter is in upper case\n",
        "    return number"
      ],
      "execution_count": 0,
      "outputs": []
    },
    {
      "cell_type": "code",
      "metadata": {
        "id": "paKTaR5FIGuh",
        "colab_type": "code",
        "colab": {
          "base_uri": "https://localhost:8080/",
          "height": 33
        },
        "outputId": "d5fd6f40-2366-4d78-a39e-b3de5c648a41"
      },
      "source": [
        "encode = Encode()\n",
        "encode.code('Insight')"
      ],
      "execution_count": 32,
      "outputs": [
        {
          "output_type": "execute_result",
          "data": {
            "text/plain": [
              "'209912231915'"
            ]
          },
          "metadata": {
            "tags": []
          },
          "execution_count": 32
        }
      ]
    }
  ]
}