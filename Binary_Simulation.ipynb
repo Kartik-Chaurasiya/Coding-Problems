{
  "nbformat": 4,
  "nbformat_minor": 0,
  "metadata": {
    "colab": {
      "name": "Binary Simulation.ipynb",
      "provenance": [],
      "authorship_tag": "ABX9TyPmhUfJduzYLw1CO7+LiANt",
      "include_colab_link": true
    },
    "kernelspec": {
      "name": "python3",
      "display_name": "Python 3"
    }
  },
  "cells": [
    {
      "cell_type": "markdown",
      "metadata": {
        "id": "view-in-github",
        "colab_type": "text"
      },
      "source": [
        "<a href=\"https://colab.research.google.com/github/Syntax-code/Codes/blob/master/Binary_Simulation.ipynb\" target=\"_parent\"><img src=\"https://colab.research.google.com/assets/colab-badge.svg\" alt=\"Open In Colab\"/></a>"
      ]
    },
    {
      "cell_type": "markdown",
      "metadata": {
        "id": "7fwHVDmd9wH5",
        "colab_type": "text"
      },
      "source": [
        "<h1>Binary Simulation"
      ]
    },
    {
      "cell_type": "markdown",
      "metadata": {
        "id": "IhRY_pJ49tFi",
        "colab_type": "text"
      },
      "source": [
        "Given a binary number, we are about to do some operations on the number. Two types of operations can be here:\n",
        "\n",
        "['I', i, j] : Which means invert the bit from i to j (inclusive).\n",
        "\n",
        "['Q', i] : Answer whether the i'th bit is 0 or 1.\n",
        "\n",
        "The MSB (most significant bit) is the first bit (i.e. i = 1). The binary number can contain leading zeroes.\n",
        "\n",
        "Example\n",
        "binary_simulation(\"0011001100\", [['I', 1, 10], ['I', 2, 7], ['Q', 2], ['Q', 1], ['Q', 7], ['Q', 5]]) === [ '0', '1', '1', '0' ];\n",
        "binary_simulation(\"1011110111\", [['I', 1, 10], ['I', 2, 7], ['Q', 2], ['Q', 1], ['Q', 7], ['Q', 5]]) === [ '0', '0', '0', '1' ];\n",
        "binary_simulation(\"1011110111\", [['I', 1, 10], ['I', 2, 7]]) === [];\n",
        "binary_simulation(\"0000000000\", [['I', 1, 10], ['Q', 2]]) ===  ['1'];"
      ]
    },
    {
      "cell_type": "code",
      "metadata": {
        "id": "IWgvUFV65BfG",
        "colab_type": "code",
        "colab": {}
      },
      "source": [
        "def change_char0(s, newstring, index):\n",
        "    return s[:index] + newstring + s[index + 1:]"
      ],
      "execution_count": 0,
      "outputs": []
    },
    {
      "cell_type": "code",
      "metadata": {
        "id": "z88fKrDD6utj",
        "colab_type": "code",
        "colab": {}
      },
      "source": [
        "def invert(s, st, e):\n",
        "  s = str(s)\n",
        "  print(st, e)\n",
        "  for i in range(st-1, e):\n",
        "    if (s[i] == '1'):\n",
        "      s = change_char0(s,'0',i)\n",
        "      continue\n",
        "    elif (s[i] == '0'):\n",
        "      s = change_char0(s,'1',i)\n",
        "      continue\n",
        "  return s\n"
      ],
      "execution_count": 0,
      "outputs": []
    },
    {
      "cell_type": "code",
      "metadata": {
        "id": "eVYAWJEe741s",
        "colab_type": "code",
        "outputId": "1c2f5799-a426-4d9e-9b08-67aaf3cca19a",
        "colab": {
          "base_uri": "https://localhost:8080/",
          "height": 50
        }
      },
      "source": [
        "invert(\"0011001100\", 2, 7)"
      ],
      "execution_count": 138,
      "outputs": [
        {
          "output_type": "stream",
          "text": [
            "2 7\n"
          ],
          "name": "stdout"
        },
        {
          "output_type": "execute_result",
          "data": {
            "text/plain": [
              "'0100110100'"
            ]
          },
          "metadata": {
            "tags": []
          },
          "execution_count": 138
        }
      ]
    },
    {
      "cell_type": "code",
      "metadata": {
        "id": "MDGkwWyQ6ud0",
        "colab_type": "code",
        "colab": {}
      },
      "source": [
        "def answer(s, p):\n",
        "  return s[p-1]"
      ],
      "execution_count": 0,
      "outputs": []
    },
    {
      "cell_type": "code",
      "metadata": {
        "id": "XRMWJbI1yvz3",
        "colab_type": "code",
        "colab": {}
      },
      "source": [
        "def binary_simulation(s, q):\n",
        "  ans=[]\n",
        "  for line in q :\n",
        "    for word,index in enumerate(line):\n",
        "      if line[0] == 'I' :\n",
        "        s = invert(s, line[1], line[2])\n",
        "        break\n",
        "      elif line[0] == 'Q':\n",
        "        sol = answer(s, line[1])\n",
        "        ans.append(sol)\n",
        "        break\n",
        "  return ans"
      ],
      "execution_count": 0,
      "outputs": []
    },
    {
      "cell_type": "code",
      "metadata": {
        "id": "coGpcr9dy3oa",
        "colab_type": "code",
        "outputId": "e610fced-6bbd-4ee1-b20e-604cdd0c1d1d",
        "colab": {
          "base_uri": "https://localhost:8080/",
          "height": 67
        }
      },
      "source": [
        "binary_simulation(\"0011001100\", [['I', 1, 10], ['I', 2, 7], ['Q', 2], ['Q', 1], ['Q', 7], ['Q', 5]])"
      ],
      "execution_count": 141,
      "outputs": [
        {
          "output_type": "stream",
          "text": [
            "1 10\n",
            "2 7\n"
          ],
          "name": "stdout"
        },
        {
          "output_type": "execute_result",
          "data": {
            "text/plain": [
              "['0', '1', '1', '0']"
            ]
          },
          "metadata": {
            "tags": []
          },
          "execution_count": 141
        }
      ]
    },
    {
      "cell_type": "code",
      "metadata": {
        "id": "fAjgEXjxlRJa",
        "colab_type": "code",
        "outputId": "2a45ffbe-fe1c-4558-d207-0aedc6d802a4",
        "colab": {
          "base_uri": "https://localhost:8080/",
          "height": 34
        }
      },
      "source": [
        "l = [1,2,3,4,5]\n",
        "l.insert(2, 9)\n",
        "print(l)"
      ],
      "execution_count": 0,
      "outputs": [
        {
          "output_type": "stream",
          "text": [
            "[1, 2, 9, 3, 4, 5]\n"
          ],
          "name": "stdout"
        }
      ]
    }
  ]
}