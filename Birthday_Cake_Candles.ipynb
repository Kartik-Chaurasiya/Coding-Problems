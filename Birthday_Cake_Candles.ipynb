{
  "nbformat": 4,
  "nbformat_minor": 0,
  "metadata": {
    "colab": {
      "name": "Birthday Cake Candles.ipynb",
      "provenance": [],
      "authorship_tag": "ABX9TyPqZtU2it54yXurkL/dLzRC",
      "include_colab_link": true
    },
    "kernelspec": {
      "name": "python3",
      "display_name": "Python 3"
    }
  },
  "cells": [
    {
      "cell_type": "markdown",
      "metadata": {
        "id": "view-in-github",
        "colab_type": "text"
      },
      "source": [
        "<a href=\"https://colab.research.google.com/github/Syntax-code/Codes/blob/master/Birthday_Cake_Candles.ipynb\" target=\"_parent\"><img src=\"https://colab.research.google.com/assets/colab-badge.svg\" alt=\"Open In Colab\"/></a>"
      ]
    },
    {
      "cell_type": "markdown",
      "metadata": {
        "id": "3jKdk3v-SjVf",
        "colab_type": "text"
      },
      "source": [
        "You are in charge of the cake for a child's birthday. You have decided the cake will have one candle for each year of their total age. They will only be able to blow out the tallest of the candles. Count how many candles are tallest."
      ]
    },
    {
      "cell_type": "code",
      "metadata": {
        "id": "7T2VODQePJh6",
        "colab_type": "code",
        "colab": {}
      },
      "source": [
        "def birthdayCakeCandles(candles):\n",
        "    return (candles.count(max(candles)))"
      ],
      "execution_count": 8,
      "outputs": []
    },
    {
      "cell_type": "code",
      "metadata": {
        "id": "texsDcU-PR7O",
        "colab_type": "code",
        "colab": {
          "base_uri": "https://localhost:8080/",
          "height": 34
        },
        "outputId": "4f9bc0d9-991a-41c8-cffb-4e722c8219de"
      },
      "source": [
        "candles = [18, 90, 90, 13, 90, 75, 90, 8, 90, 43]\n",
        "# candles = [3, 2, 1, 3]\n",
        "print(birthdayCakeCandles(candles))"
      ],
      "execution_count": 9,
      "outputs": [
        {
          "output_type": "stream",
          "text": [
            "5\n"
          ],
          "name": "stdout"
        }
      ]
    },
    {
      "cell_type": "markdown",
      "metadata": {
        "id": "es7h44SJSr49",
        "colab_type": "text"
      },
      "source": [
        "C++"
      ]
    },
    {
      "cell_type": "code",
      "metadata": {
        "id": "-iJ8y964Ss-1",
        "colab_type": "code",
        "colab": {}
      },
      "source": [
        "#include<bits/stdc++.h>\n",
        "typedef long long ll;\n",
        "using namespace std;\n",
        "\n",
        "int main(){\n",
        "    ll n;\n",
        "    cin >> n;\n",
        "    ll s[n];\n",
        "    for(int x; x < n; x++){\n",
        "        cin >> s[x];\n",
        "    }\n",
        "    ll* i1; \n",
        "    i1 = std::max_element(s, s + n); \n",
        "    cout << count(s, s + n , *i1);\n",
        "    return 0;\n",
        "}"
      ],
      "execution_count": null,
      "outputs": []
    }
  ]
}