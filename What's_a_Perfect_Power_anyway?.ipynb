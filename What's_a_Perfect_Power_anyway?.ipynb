{
  "nbformat": 4,
  "nbformat_minor": 0,
  "metadata": {
    "colab": {
      "name": "What's a Perfect Power anyway?.ipynb",
      "provenance": [],
      "authorship_tag": "ABX9TyPJNFzJ1Qtx41cE4iqnZWul",
      "include_colab_link": true
    },
    "kernelspec": {
      "name": "python3",
      "display_name": "Python 3"
    }
  },
  "cells": [
    {
      "cell_type": "markdown",
      "metadata": {
        "id": "view-in-github",
        "colab_type": "text"
      },
      "source": [
        "<a href=\"https://colab.research.google.com/github/Syntax-code/Codes/blob/master/What's_a_Perfect_Power_anyway%3F.ipynb\" target=\"_parent\"><img src=\"https://colab.research.google.com/assets/colab-badge.svg\" alt=\"Open In Colab\"/></a>"
      ]
    },
    {
      "cell_type": "markdown",
      "metadata": {
        "id": "qWOuQ5YXrqk-",
        "colab_type": "text"
      },
      "source": [
        "A perfect power is a classification of positive integers:\n",
        "\n",
        "In mathematics, a perfect power is a positive integer that can be expressed as an integer power of another positive integer. More formally, n is a perfect power if there exist natural numbers m > 1, and k > 1 such that mk = n.\n",
        "\n",
        "Your task is to check wheter a given integer is a perfect power. If it is a perfect power, return a pair m and k with mk = n as a proof. Otherwise return Nothing, Nil, null, NULL, None or your language's equivalent.\n",
        "\n",
        "Note: For a perfect power, there might be several pairs. For example 81 = 3^4 = 9^2, so (3,4) and (9,2) are valid solutions. However, the tests take care of this, so if a number is a perfect power, return any pair that proves it.\n",
        "\n",
        "Examples\n",
        "\n",
        "isPP(4) => [2,2]\n",
        "\n",
        "isPP(9) => [3,2]\n",
        "\n",
        "isPP(5) => None\n"
      ]
    },
    {
      "cell_type": "code",
      "metadata": {
        "id": "dtBbCZjLqjhQ",
        "colab_type": "code",
        "colab": {}
      },
      "source": [
        "import math\n",
        "def isPP(n):\n",
        "  if (math.sqrt(n)).is_integer():\n",
        "    return [int(math.sqrt(n)), 2]\n",
        "  else:\n",
        "    for i in range(2, int(math.sqrt(n)) + 1):\n",
        "      j =2\n",
        "      num = math.pow(i,j)\n",
        "      while (num<= n) and (num > 0):\n",
        "        if (num == n) :\n",
        "          return [i, j]\n",
        "        j = j + 1\n",
        "        num = math.pow(i,j)\n",
        "    return None\n"
      ],
      "execution_count": 0,
      "outputs": []
    },
    {
      "cell_type": "code",
      "metadata": {
        "id": "DZOLjK3ntCML",
        "colab_type": "code",
        "colab": {
          "base_uri": "https://localhost:8080/",
          "height": 33
        },
        "outputId": "9429fcc1-6626-4ebd-8f24-678bafdee1ee"
      },
      "source": [
        "print(isPP(27))"
      ],
      "execution_count": 6,
      "outputs": [
        {
          "output_type": "stream",
          "text": [
            "[3, 3]\n"
          ],
          "name": "stdout"
        }
      ]
    }
  ]
}