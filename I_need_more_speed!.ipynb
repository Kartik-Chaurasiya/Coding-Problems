{
  "nbformat": 4,
  "nbformat_minor": 0,
  "metadata": {
    "colab": {
      "name": "I need more speed!.ipynb",
      "provenance": [],
      "authorship_tag": "ABX9TyOtziy9xGcxjMoO++o6biMT",
      "include_colab_link": true
    },
    "kernelspec": {
      "name": "python3",
      "display_name": "Python 3"
    }
  },
  "cells": [
    {
      "cell_type": "markdown",
      "metadata": {
        "id": "view-in-github",
        "colab_type": "text"
      },
      "source": [
        "<a href=\"https://colab.research.google.com/github/Syntax-code/Codes/blob/master/I_need_more_speed!.ipynb\" target=\"_parent\"><img src=\"https://colab.research.google.com/assets/colab-badge.svg\" alt=\"Open In Colab\"/></a>"
      ]
    },
    {
      "cell_type": "code",
      "metadata": {
        "id": "HfTdO8W-Biaq",
        "colab_type": "code",
        "colab": {
          "base_uri": "https://localhost:8080/",
          "height": 33
        },
        "outputId": "709c9099-1e8f-4c8b-c5b8-e68abb71b132"
      },
      "source": [
        "def reverse(seq):\n",
        "  l = len(seq)\n",
        "  for i in range(1, l+1):\n",
        "    a=seq.pop(-1*(i - l+1))\n",
        "    seq.append(a)\n",
        "  return seq \n"
      ],
      "execution_count": 64,
      "outputs": [
        {
          "output_type": "execute_result",
          "data": {
            "text/plain": [
              "'def reverse(seq):\\n  l = len(seq)\\n  for i in range(1, l+1):\\n    a=seq.pop(-1*(i - l+1))\\n    seq.append(a)\\n  return seq '"
            ]
          },
          "metadata": {
            "tags": []
          },
          "execution_count": 64
        }
      ]
    },
    {
      "cell_type": "code",
      "metadata": {
        "id": "t7EbSPtpMbbo",
        "colab_type": "code",
        "colab": {}
      },
      "source": [
        "def reverse(seq):\n",
        "  l,n = len(seq)\n",
        "  n =range(1, l+1)\n",
        "  for i in n:\n",
        "    a=seq.pop(-1*(i - l+1))\n",
        "    seq.append(a)\n",
        "  return seq "
      ],
      "execution_count": 0,
      "outputs": []
    },
    {
      "cell_type": "code",
      "metadata": {
        "id": "gFqYQV4DOSSm",
        "colab_type": "code",
        "colab": {}
      },
      "source": [
        "def reverse(seq):\n",
        "  l = len(seq)\n",
        "  for i in range(0, l):\n",
        "    seq[i],seq[l-i-1] = seq[l-i-1], seq[i]\n",
        "  return seq"
      ],
      "execution_count": 0,
      "outputs": []
    },
    {
      "cell_type": "code",
      "metadata": {
        "id": "8Q996iyUBklH",
        "colab_type": "code",
        "colab": {
          "base_uri": "https://localhost:8080/",
          "height": 33
        },
        "outputId": "ec13e06a-26f4-4b5b-f8be-5d8a041e1798"
      },
      "source": [
        "seq = [1,2,3,4,5]\n",
        "print(reverse(seq))"
      ],
      "execution_count": 10,
      "outputs": [
        {
          "output_type": "stream",
          "text": [
            "[1, 2, 3, 4, 5]\n"
          ],
          "name": "stdout"
        }
      ]
    },
    {
      "cell_type": "code",
      "metadata": {
        "id": "5wVw3VBzDHJh",
        "colab_type": "code",
        "colab": {
          "base_uri": "https://localhost:8080/",
          "height": 33
        },
        "outputId": "d0f0e857-0e35-40f6-cbd5-34e1c18965aa"
      },
      "source": [
        "s = [{'b':2},{'a':1}]\n",
        "p =s.pop(0)\n",
        "p\n"
      ],
      "execution_count": 39,
      "outputs": [
        {
          "output_type": "execute_result",
          "data": {
            "text/plain": [
              "{'b': 2}"
            ]
          },
          "metadata": {
            "tags": []
          },
          "execution_count": 39
        }
      ]
    }
  ]
}