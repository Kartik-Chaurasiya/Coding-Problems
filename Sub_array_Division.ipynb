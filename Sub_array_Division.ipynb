{
  "nbformat": 4,
  "nbformat_minor": 0,
  "metadata": {
    "colab": {
      "name": "Sub-array Division.ipynb",
      "provenance": [],
      "collapsed_sections": [],
      "authorship_tag": "ABX9TyPMKsUBIdrCjHKB8glekks0",
      "include_colab_link": true
    },
    "kernelspec": {
      "name": "python3",
      "display_name": "Python 3"
    }
  },
  "cells": [
    {
      "cell_type": "markdown",
      "metadata": {
        "id": "view-in-github",
        "colab_type": "text"
      },
      "source": [
        "<a href=\"https://colab.research.google.com/github/Syntax-code/Codes/blob/master/Sub_array_Division.ipynb\" target=\"_parent\"><img src=\"https://colab.research.google.com/assets/colab-badge.svg\" alt=\"Open In Colab\"/></a>"
      ]
    },
    {
      "cell_type": "markdown",
      "metadata": {
        "id": "CRvl27YcL_7j"
      },
      "source": [
        "#MAP\n",
        "\n",
        "map(func, iterables)"
      ]
    },
    {
      "cell_type": "code",
      "metadata": {
        "id": "66ok7wLMM1pX"
      },
      "source": [
        "arr = [1,2,3,4,5]"
      ],
      "execution_count": null,
      "outputs": []
    },
    {
      "cell_type": "code",
      "metadata": {
        "id": "P7Nr-TNOL-lp",
        "outputId": "db8de484-e94a-4f7a-fb6d-36c77053c1df",
        "colab": {
          "base_uri": "https://localhost:8080/",
          "height": 50
        }
      },
      "source": [
        "def new(a):\n",
        "  return a*a\n",
        "arr = map(new, arr)\n",
        "print(arr)\n",
        "print(list(arr))"
      ],
      "execution_count": null,
      "outputs": [
        {
          "output_type": "stream",
          "text": [
            "<map object at 0x7f42092f36a0>\n",
            "[1, 4, 9, 16, 25]\n"
          ],
          "name": "stdout"
        }
      ]
    },
    {
      "cell_type": "code",
      "metadata": {
        "id": "iAEnHOSoMWJc",
        "outputId": "747bcf2c-948f-4dda-bf12-23a7989c6a47",
        "colab": {
          "base_uri": "https://localhost:8080/",
          "height": 34
        }
      },
      "source": [
        "def new(a, b):\n",
        "  return a*b\n",
        "print(list(map(new, [1,2,3,4,5], [1,2,3,4,5])))"
      ],
      "execution_count": null,
      "outputs": [
        {
          "output_type": "stream",
          "text": [
            "[1, 4, 9, 16, 25]\n"
          ],
          "name": "stdout"
        }
      ]
    },
    {
      "cell_type": "code",
      "metadata": {
        "id": "NK-i8cMXNXRq",
        "outputId": "60d1e669-c619-4b2b-889a-be2c0a8f6672",
        "colab": {
          "base_uri": "https://localhost:8080/",
          "height": 34
        }
      },
      "source": [
        "print(list(map(lambda x: x *x, [1,2,3,4,5])))"
      ],
      "execution_count": null,
      "outputs": [
        {
          "output_type": "stream",
          "text": [
            "[1, 4, 9, 16, 25]\n"
          ],
          "name": "stdout"
        }
      ]
    },
    {
      "cell_type": "markdown",
      "metadata": {
        "id": "e9VhpVuuN1N4"
      },
      "source": [
        "#FILTER\n",
        "\n",
        "filter(func, iterables)"
      ]
    },
    {
      "cell_type": "code",
      "metadata": {
        "id": "fS9QpuXYNzxg",
        "outputId": "ae34faf0-0478-4ac3-d97f-e0c08e145d09",
        "colab": {
          "base_uri": "https://localhost:8080/",
          "height": 34
        }
      },
      "source": [
        "def new(x):\n",
        "  if x >= 3:\n",
        "    return x\n",
        "y = filter(new, [1,2,3,4,5])\n",
        "print(list(y))"
      ],
      "execution_count": null,
      "outputs": [
        {
          "output_type": "stream",
          "text": [
            "[3, 4, 5]\n"
          ],
          "name": "stdout"
        }
      ]
    },
    {
      "cell_type": "code",
      "metadata": {
        "id": "5edgSuHgOLbi",
        "outputId": "018b023e-f361-4efc-bac0-22fd5e2eb173",
        "colab": {
          "base_uri": "https://localhost:8080/",
          "height": 34
        }
      },
      "source": [
        "print(list(filter(lambda x: (x>=3), [1,2,3,4,5])))"
      ],
      "execution_count": null,
      "outputs": [
        {
          "output_type": "stream",
          "text": [
            "[3, 4, 5]\n"
          ],
          "name": "stdout"
        }
      ]
    },
    {
      "cell_type": "markdown",
      "metadata": {
        "id": "O4X0EXiqO61X"
      },
      "source": [
        "#REDUCE\n",
        "\n",
        "reduce(func, iterables)"
      ]
    },
    {
      "cell_type": "code",
      "metadata": {
        "id": "zJ_NzIuCOVMa"
      },
      "source": [
        "from functools import reduce"
      ],
      "execution_count": null,
      "outputs": []
    },
    {
      "cell_type": "code",
      "metadata": {
        "id": "QSAWCrRvPRfE",
        "outputId": "bb4dc614-0eb4-4d08-8e51-df3b0cf31d46",
        "colab": {
          "base_uri": "https://localhost:8080/",
          "height": 34
        }
      },
      "source": [
        "def a(x,y):\n",
        "  return x + y\n",
        "s = reduce(a, [1,2,3,4,5])\n",
        "print(s)"
      ],
      "execution_count": null,
      "outputs": [
        {
          "output_type": "stream",
          "text": [
            "15\n"
          ],
          "name": "stdout"
        }
      ]
    },
    {
      "cell_type": "code",
      "metadata": {
        "id": "qT-dXKUvPek0",
        "outputId": "7d7cf0bd-1ae8-4e81-a448-d001cac396b9",
        "colab": {
          "base_uri": "https://localhost:8080/",
          "height": 34
        }
      },
      "source": [
        "print(reduce(lambda p,q: p+q, [1,2,3,4,5]))"
      ],
      "execution_count": null,
      "outputs": [
        {
          "output_type": "stream",
          "text": [
            "15\n"
          ],
          "name": "stdout"
        }
      ]
    },
    {
      "cell_type": "markdown",
      "metadata": {
        "id": "O8CNcsOkPr4K"
      },
      "source": [
        "#filter within map"
      ]
    },
    {
      "cell_type": "code",
      "metadata": {
        "id": "lfw_N-XrPnea",
        "outputId": "3d7fe055-aece-4e0a-aa48-62d346f30054",
        "colab": {
          "base_uri": "https://localhost:8080/",
          "height": 34
        }
      },
      "source": [
        "c = map(lambda x: x+x, filter(lambda x: x>=3, [1,2,3,4,5]))\n",
        "print(list(c))"
      ],
      "execution_count": null,
      "outputs": [
        {
          "output_type": "stream",
          "text": [
            "[6, 8, 10]\n"
          ],
          "name": "stdout"
        }
      ]
    },
    {
      "cell_type": "markdown",
      "metadata": {
        "id": "htw2GOLEQLXs"
      },
      "source": [
        "#map within filter"
      ]
    },
    {
      "cell_type": "code",
      "metadata": {
        "id": "u3umaHasP-8S",
        "outputId": "652612c8-00f0-4b1c-dfba-f5f24105c0f8",
        "colab": {
          "base_uri": "https://localhost:8080/",
          "height": 34
        }
      },
      "source": [
        "c = filter(lambda x: x >= 3, map(lambda x: x+x, [1,2,3,4,5] ))\n",
        "print(list(c))"
      ],
      "execution_count": null,
      "outputs": [
        {
          "output_type": "stream",
          "text": [
            "[4, 6, 8, 10]\n"
          ],
          "name": "stdout"
        }
      ]
    },
    {
      "cell_type": "markdown",
      "metadata": {
        "id": "SdyY8hxDQgbw"
      },
      "source": [
        "#map and filter within reduce"
      ]
    },
    {
      "cell_type": "code",
      "metadata": {
        "id": "E33IIaObQaec",
        "outputId": "0d870744-901e-4498-e59f-f5ef609849dc",
        "colab": {
          "base_uri": "https://localhost:8080/",
          "height": 34
        }
      },
      "source": [
        "c = reduce(lambda x,y: x+y, map(lambda x: x+x, filter(lambda x: x>=3, [1,2,3,4,5])))\n",
        "print(c)"
      ],
      "execution_count": 31,
      "outputs": [
        {
          "output_type": "stream",
          "text": [
            "24\n"
          ],
          "name": "stdout"
        }
      ]
    },
    {
      "cell_type": "markdown",
      "metadata": {
        "id": "Vdwclh_0hjJh"
      },
      "source": [
        "#misc"
      ]
    },
    {
      "cell_type": "code",
      "metadata": {
        "id": "6DStk2AXVBER"
      },
      "source": [
        "import numpy as np"
      ],
      "execution_count": null,
      "outputs": []
    },
    {
      "cell_type": "code",
      "metadata": {
        "id": "ytdFXZ4kVHAA",
        "outputId": "c4ffabe6-6446-43df-f36c-df83fa2f9bfd",
        "colab": {
          "base_uri": "https://localhost:8080/",
          "height": 34
        }
      },
      "source": [
        "arr1 = [int(x) for x in input('Enter the arr1').strip().split()]"
      ],
      "execution_count": null,
      "outputs": [
        {
          "output_type": "stream",
          "text": [
            "Enter the arr11 2 3 4\n"
          ],
          "name": "stdout"
        }
      ]
    },
    {
      "cell_type": "code",
      "metadata": {
        "id": "-i2Vz6mtVz_q",
        "outputId": "14bf7dbd-765a-4c0e-80ea-8ad5272726be",
        "colab": {
          "base_uri": "https://localhost:8080/",
          "height": 34
        }
      },
      "source": [
        "arr2 = [int(x) for x in input('Enter the arr2').strip().split()]"
      ],
      "execution_count": null,
      "outputs": [
        {
          "output_type": "stream",
          "text": [
            "Enter the arr25 0 6\n"
          ],
          "name": "stdout"
        }
      ]
    },
    {
      "cell_type": "code",
      "metadata": {
        "id": "dLkyO28PWdEZ",
        "outputId": "1bce06c3-0975-427f-e3ad-72b645d5946c",
        "colab": {
          "base_uri": "https://localhost:8080/",
          "height": 34
        }
      },
      "source": [
        "print(np.convolve(arr1, arr2, mode='full'))"
      ],
      "execution_count": null,
      "outputs": [
        {
          "output_type": "stream",
          "text": [
            "[ 5 10 21 32 18 24]\n"
          ],
          "name": "stdout"
        }
      ]
    },
    {
      "cell_type": "markdown",
      "metadata": {
        "id": "GUZeAFQyhnO9"
      },
      "source": [
        ""
      ]
    },
    {
      "cell_type": "markdown",
      "metadata": {
        "id": "L3d0irwpkHgh"
      },
      "source": [
        "Given a chocolate bar, two children, Lily and Ron, are determining how to share it. Each of the squares has an integer on it.\n",
        "\n",
        "Lily decides to share a contiguous segment of the bar selected such that:\n",
        "\n",
        "The length of the segment matches Ron's birth month, and,\n",
        "The sum of the integers on the squares is equal to his birth day.\n",
        "You must determine how many ways she can divide the chocolate."
      ]
    },
    {
      "cell_type": "code",
      "metadata": {
        "id": "CJXj16z-kIBh"
      },
      "source": [
        "input()\n",
        "arr = [int(x) for x in input().strip().split()]\n",
        "d, m = map(int, input().split())\n",
        "count = 0 \n",
        "for i in range(len(arr)):\n",
        "    if(sum(arr[i: m+i]) == d):\n",
        "        count += 1\n",
        "print(count)"
      ],
      "execution_count": null,
      "outputs": []
    },
    {
      "cell_type": "markdown",
      "metadata": {
        "id": "HD8FJ2ZvvFpE"
      },
      "source": [
        "5\n",
        "\n",
        "1 2 1 3 2\n",
        "\n",
        "3 2\n",
        "\n",
        "------\n",
        "\n",
        "  2\n"
      ]
    }
  ]
}