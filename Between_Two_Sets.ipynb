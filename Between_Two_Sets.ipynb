{
  "nbformat": 4,
  "nbformat_minor": 0,
  "metadata": {
    "colab": {
      "name": "Between Two Sets.ipynb",
      "provenance": [],
      "authorship_tag": "ABX9TyPmaxERoQapWs5bAzoD2bT4",
      "include_colab_link": true
    },
    "kernelspec": {
      "name": "python3",
      "display_name": "Python 3"
    }
  },
  "cells": [
    {
      "cell_type": "markdown",
      "metadata": {
        "id": "view-in-github",
        "colab_type": "text"
      },
      "source": [
        "<a href=\"https://colab.research.google.com/github/Syntax-code/Codes/blob/master/Between_Two_Sets.ipynb\" target=\"_parent\"><img src=\"https://colab.research.google.com/assets/colab-badge.svg\" alt=\"Open In Colab\"/></a>"
      ]
    },
    {
      "cell_type": "markdown",
      "metadata": {
        "id": "XkxaoQHC23f5",
        "colab_type": "text"
      },
      "source": [
        "#LCM"
      ]
    },
    {
      "cell_type": "code",
      "metadata": {
        "id": "fbC7qckZlX05",
        "colab_type": "code",
        "colab": {}
      },
      "source": [
        "import math\n",
        "from functools import reduce"
      ],
      "execution_count": 64,
      "outputs": []
    },
    {
      "cell_type": "code",
      "metadata": {
        "id": "c2FCaZlQ2DdS",
        "colab_type": "code",
        "colab": {}
      },
      "source": [
        "def lcm(a, b):\n",
        "  return int((a*b)/ gcd(a,b))"
      ],
      "execution_count": 34,
      "outputs": []
    },
    {
      "cell_type": "code",
      "metadata": {
        "id": "8q9wLx9xeZfG",
        "colab_type": "code",
        "colab": {
          "base_uri": "https://localhost:8080/",
          "height": 34
        },
        "outputId": "0b78784b-c1a0-4053-c9e7-0e06bd7c821a"
      },
      "source": [
        "print(lcm(8, 12))"
      ],
      "execution_count": 35,
      "outputs": [
        {
          "output_type": "stream",
          "text": [
            "24\n"
          ],
          "name": "stdout"
        }
      ]
    },
    {
      "cell_type": "code",
      "metadata": {
        "id": "KanK2r5glVnz",
        "colab_type": "code",
        "colab": {}
      },
      "source": [
        "lcm_a = reduce(lambda x,y: x*y//math.gcd(x,y), a)\n",
        "gcd_b = reduce(math.gcd, b)"
      ],
      "execution_count": 67,
      "outputs": []
    },
    {
      "cell_type": "markdown",
      "metadata": {
        "id": "kG8o6pxS25av",
        "colab_type": "text"
      },
      "source": [
        "#GCD"
      ]
    },
    {
      "cell_type": "code",
      "metadata": {
        "id": "xhivWsrJ28hP",
        "colab_type": "code",
        "colab": {}
      },
      "source": [
        "def gcd(a,b):\n",
        "     \n",
        "    # Everything divides 0 \n",
        "    if (b == 0):\n",
        "         return a\n",
        "    return gcd(b, a%b)"
      ],
      "execution_count": 31,
      "outputs": []
    },
    {
      "cell_type": "code",
      "metadata": {
        "id": "T9KPsbe0LWSV",
        "colab_type": "code",
        "colab": {
          "base_uri": "https://localhost:8080/",
          "height": 34
        },
        "outputId": "e5a1a711-07a9-4ae4-b402-3641d1f86496"
      },
      "source": [
        "a = [98, 56]\n",
        "print('GCD of', a, 'and', b, 'is', gcd(a[0], a[1]))"
      ],
      "execution_count": 29,
      "outputs": [
        {
          "output_type": "stream",
          "text": [
            "GCD of [98, 56] and 56 is 14\n"
          ],
          "name": "stdout"
        }
      ]
    },
    {
      "cell_type": "code",
      "metadata": {
        "id": "6syytJt7daO2",
        "colab_type": "code",
        "colab": {
          "base_uri": "https://localhost:8080/",
          "height": 34
        },
        "outputId": "ef5f8623-964a-4968-a756-a42c0b0f693c"
      },
      "source": [
        "def gcd(a,b):\n",
        "     \n",
        "    # Everything divides 0 \n",
        "    if (b == 0):\n",
        "         return a\n",
        "    return gcd(b, a%b)\n",
        " \n",
        "# Driver program to test above function\n",
        "a = 98\n",
        "b = 56\n",
        "if(gcd(a, b)):\n",
        "    print('GCD of', a, 'and', b, 'is', gcd(a, b))\n",
        "else:\n",
        "    print('not found')"
      ],
      "execution_count": 22,
      "outputs": [
        {
          "output_type": "stream",
          "text": [
            "GCD of 98 and 56 is 14\n"
          ],
          "name": "stdout"
        }
      ]
    },
    {
      "cell_type": "markdown",
      "metadata": {
        "id": "CKHPZhFTK7oi",
        "colab_type": "text"
      },
      "source": [
        "#Between Two Sets\n",
        "\n",
        "You will be given two arrays of integers and asked to determine all integers that satisfy the following two conditions:\n",
        "\n",
        "The elements of the first array are all factors of the integer being considered\n",
        "The integer being considered is a factor of all elements of the second array\n",
        "These numbers are referred to as being between the two arrays.\n",
        "\n",
        " You must determine how many such numbers exist."
      ]
    },
    {
      "cell_type": "code",
      "metadata": {
        "id": "bMosIiBHfHoG",
        "colab_type": "code",
        "colab": {}
      },
      "source": [
        "a = [2, 4]\n",
        "b = [16, 32, 96]"
      ],
      "execution_count": 39,
      "outputs": []
    },
    {
      "cell_type": "code",
      "metadata": {
        "id": "Ia4mRTT1esVp",
        "colab_type": "code",
        "colab": {}
      },
      "source": [
        "def lcm(a, b):\n",
        "  return ((a*b)/ gcd(a,b))"
      ],
      "execution_count": 56,
      "outputs": []
    },
    {
      "cell_type": "code",
      "metadata": {
        "id": "HBGdrGDtK7Z0",
        "colab_type": "code",
        "colab": {}
      },
      "source": [
        "def gcd(a,b):\n",
        "     \n",
        "    # Everything divides 0 \n",
        "    if (b == 0):\n",
        "         return a\n",
        "    return gcd(b, a%b)"
      ],
      "execution_count": 57,
      "outputs": []
    },
    {
      "cell_type": "code",
      "metadata": {
        "id": "UYBNfveBfS6U",
        "colab_type": "code",
        "colab": {
          "base_uri": "https://localhost:8080/",
          "height": 34
        },
        "outputId": "ceb52ed6-4e18-45b0-8f92-7736f3d2f7fa"
      },
      "source": [
        "lcm_a = lcm(a[0], a[1])\n",
        "for x in range(2, len(a)):\n",
        "  lcm_a = (lcm_a, a[x])\n",
        "lcm_a"
      ],
      "execution_count": 58,
      "outputs": [
        {
          "output_type": "execute_result",
          "data": {
            "text/plain": [
              "4.0"
            ]
          },
          "metadata": {
            "tags": []
          },
          "execution_count": 58
        }
      ]
    },
    {
      "cell_type": "code",
      "metadata": {
        "id": "eAZhfprnfphN",
        "colab_type": "code",
        "colab": {
          "base_uri": "https://localhost:8080/",
          "height": 34
        },
        "outputId": "ed79ee78-9553-4120-eca3-276c6b3fd7ad"
      },
      "source": [
        "gcd_b = gcd(b[0], b[1])\n",
        "for x in range(2, len(b)):\n",
        "  gcd_b = gcd(gcd_b, b[x])\n",
        "gcd_b"
      ],
      "execution_count": 59,
      "outputs": [
        {
          "output_type": "execute_result",
          "data": {
            "text/plain": [
              "16"
            ]
          },
          "metadata": {
            "tags": []
          },
          "execution_count": 59
        }
      ]
    },
    {
      "cell_type": "code",
      "metadata": {
        "id": "NAhn-wQxgc9X",
        "colab_type": "code",
        "colab": {
          "base_uri": "https://localhost:8080/",
          "height": 34
        },
        "outputId": "533936f9-8127-4a27-e418-cea061e33284"
      },
      "source": [
        "count = 0\n",
        "while lcm_a <= gcd_b:\n",
        "  if gcd_b % lcm_a == 0:\n",
        "    count += 1\n",
        "  lcm_a += lcm_a  \n",
        "print(count)"
      ],
      "execution_count": 60,
      "outputs": [
        {
          "output_type": "stream",
          "text": [
            "3\n"
          ],
          "name": "stdout"
        }
      ]
    }
  ]
}