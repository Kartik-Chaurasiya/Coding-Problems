{
  "nbformat": 4,
  "nbformat_minor": 0,
  "metadata": {
    "colab": {
      "name": "Staircase.ipynb",
      "provenance": [],
      "collapsed_sections": [],
      "authorship_tag": "ABX9TyO7cdYf4y2fKd35Kr3JRi54",
      "include_colab_link": true
    },
    "kernelspec": {
      "name": "python3",
      "display_name": "Python 3"
    }
  },
  "cells": [
    {
      "cell_type": "markdown",
      "metadata": {
        "id": "view-in-github",
        "colab_type": "text"
      },
      "source": [
        "<a href=\"https://colab.research.google.com/github/Syntax-code/Codes/blob/master/Staircase.ipynb\" target=\"_parent\"><img src=\"https://colab.research.google.com/assets/colab-badge.svg\" alt=\"Open In Colab\"/></a>"
      ]
    },
    {
      "cell_type": "code",
      "metadata": {
        "id": "xZxGOgfadm7M",
        "colab_type": "code",
        "colab": {}
      },
      "source": [
        "def staircase(n):\n",
        "  for x in range(n):\n",
        "    hash_list = []\n",
        "    y = n - x \n",
        "    for y in range(y):\n",
        "      hash_list.append(' ')\n",
        "    for z in range(n - y ):\n",
        "      hash_list.append('#')\n",
        "    print(''.join(hash_list[1:]))\n"
      ],
      "execution_count": 19,
      "outputs": []
    },
    {
      "cell_type": "code",
      "metadata": {
        "id": "ESDn-4WybFpv",
        "colab_type": "code",
        "colab": {
          "base_uri": "https://localhost:8080/",
          "height": 118
        },
        "outputId": "12d7e17e-ce28-4f85-dbcb-6c68378179da"
      },
      "source": [
        "n =6\n",
        "staircase(n)"
      ],
      "execution_count": 20,
      "outputs": [
        {
          "output_type": "stream",
          "text": [
            "     #\n",
            "    ##\n",
            "   ###\n",
            "  ####\n",
            " #####\n",
            "######\n"
          ],
          "name": "stdout"
        }
      ]
    },
    {
      "cell_type": "code",
      "metadata": {
        "id": "FCOUEU-irHPw",
        "colab_type": "code",
        "colab": {}
      },
      "source": [
        "void staircase(int n) {\n",
        "    int k = n -1; \n",
        "    for (int i = 0; i < n; i++) { \n",
        "        for (int j = 0; j < k; j++) \n",
        "            cout << \" \"; \n",
        "        k = k - 1; \n",
        "        for (int j = 0; j <= i; j++) { \n",
        "            cout << \"#\"; \n",
        "        } \n",
        "        cout << endl; \n",
        "    }\n",
        "}"
      ],
      "execution_count": null,
      "outputs": []
    }
  ]
}