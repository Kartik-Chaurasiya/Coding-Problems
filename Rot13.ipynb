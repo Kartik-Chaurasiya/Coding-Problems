{
  "nbformat": 4,
  "nbformat_minor": 0,
  "metadata": {
    "colab": {
      "name": "Rot13.ipynb",
      "provenance": [],
      "authorship_tag": "ABX9TyMHBCTcxkeZvoQngOpdopLG",
      "include_colab_link": true
    },
    "kernelspec": {
      "name": "python3",
      "display_name": "Python 3"
    }
  },
  "cells": [
    {
      "cell_type": "markdown",
      "metadata": {
        "id": "view-in-github",
        "colab_type": "text"
      },
      "source": [
        "<a href=\"https://colab.research.google.com/github/Syntax-code/Codes/blob/master/Rot13.ipynb\" target=\"_parent\"><img src=\"https://colab.research.google.com/assets/colab-badge.svg\" alt=\"Open In Colab\"/></a>"
      ]
    },
    {
      "cell_type": "markdown",
      "metadata": {
        "id": "-vV8yKT446vj",
        "colab_type": "text"
      },
      "source": [
        "ROT13 is a simple letter substitution cipher that replaces a letter with the letter 13 letters after it in the alphabet. ROT13 is an example of the Caesar cipher.\n",
        "\n",
        "Create a function that takes a string and returns the string ciphered with Rot13. If there are numbers or special characters included in the string, they should be returned as they are. Only letters from the latin/english alphabet should be shifted, like in the original Rot13 \"implementation\".\n",
        "\n",
        "Please note that using encode is considered cheating."
      ]
    },
    {
      "cell_type": "code",
      "metadata": {
        "id": "NGFL3di4GXQw",
        "colab_type": "code",
        "colab": {}
      },
      "source": [
        "def cap(word):\n",
        "  word = ord(word) + 13\n",
        "  if word > 90:\n",
        "    return chr(word - 26)\n",
        "  else:\n",
        "    return chr(word)\n"
      ],
      "execution_count": 0,
      "outputs": []
    },
    {
      "cell_type": "code",
      "metadata": {
        "id": "utJCCw08GX2h",
        "colab_type": "code",
        "colab": {}
      },
      "source": [
        "def sml(word):\n",
        "  word = ord(word) + 13\n",
        "  if word > 122:\n",
        "    return chr(word - 26)\n",
        "  else:\n",
        "    return chr(word)\n",
        "  "
      ],
      "execution_count": 0,
      "outputs": []
    },
    {
      "cell_type": "code",
      "metadata": {
        "id": "FQsQEy3xD6of",
        "colab_type": "code",
        "colab": {}
      },
      "source": [
        "def rot13(message):\n",
        "  s = ''\n",
        "  l =len(message)\n",
        "  enumerate(message)\n",
        "  for i in range(l):\n",
        "    if message[i].isalpha():\n",
        "      if message[i].islower():\n",
        "        s += sml(message[i])\n",
        "        continue\n",
        "      elif message[i].isupper():\n",
        "        s += cap(message[i])\n",
        "        continue\n",
        "    else:\n",
        "      s += message[i]\n",
        "  return s"
      ],
      "execution_count": 0,
      "outputs": []
    },
    {
      "cell_type": "code",
      "metadata": {
        "id": "fzgGzY-SL_rQ",
        "colab_type": "code",
        "colab": {
          "base_uri": "https://localhost:8080/",
          "height": 33
        },
        "outputId": "916b9e65-104c-4e96-c097-03e634512e5c"
      },
      "source": [
        "print(rot13(\"test\"))"
      ],
      "execution_count": 30,
      "outputs": [
        {
          "output_type": "stream",
          "text": [
            "grfg\n"
          ],
          "name": "stdout"
        }
      ]
    }
  ]
}