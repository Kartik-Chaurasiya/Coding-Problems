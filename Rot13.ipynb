{
  "nbformat": 4,
  "nbformat_minor": 0,
  "metadata": {
    "colab": {
      "name": "Rot13.ipynb",
      "provenance": [],
      "authorship_tag": "ABX9TyPvGbljxYqeAuZcIPStACkc",
      "include_colab_link": true
    },
    "kernelspec": {
      "name": "python3",
      "display_name": "Python 3"
    }
  },
  "cells": [
    {
      "cell_type": "markdown",
      "metadata": {
        "id": "view-in-github",
        "colab_type": "text"
      },
      "source": [
        "<a href=\"https://colab.research.google.com/github/Syntax-code/Codes/blob/master/Rot13.ipynb\" target=\"_parent\"><img src=\"https://colab.research.google.com/assets/colab-badge.svg\" alt=\"Open In Colab\"/></a>"
      ]
    },
    {
      "cell_type": "markdown",
      "metadata": {
        "id": "-vV8yKT446vj",
        "colab_type": "text"
      },
      "source": [
        "ROT13 is a simple letter substitution cipher that replaces a letter with the letter 13 letters after it in the alphabet. ROT13 is an example of the Caesar cipher.\n",
        "\n",
        "Create a function that takes a string and returns the string ciphered with Rot13. If there are numbers or special characters included in the string, they should be returned as they are. Only letters from the latin/english alphabet should be shifted, like in the original Rot13 \"implementation\".\n",
        "\n",
        "Please note that using encode is considered cheating."
      ]
    },
    {
      "cell_type": "code",
      "metadata": {
        "id": "lb-ibkL34XDY",
        "colab_type": "code",
        "colab": {}
      },
      "source": [
        "def rot13(message):\n",
        "    s = []\n",
        "    l = len(message)\n",
        "    enumerate(message)\n",
        "    for i in range(l):\n",
        "      s.append(ord(message[i]) - 97)\n",
        "      s[i] = (s[i] + 13)%25 +64\n",
        "      if message[i].islower :\n",
        "        s[i] = chr(s[i]).lower()\n",
        "      else:\n",
        "        s[i] = chr(s[i])\n",
        "    print(s)"
      ],
      "execution_count": 0,
      "outputs": []
    },
    {
      "cell_type": "code",
      "metadata": {
        "id": "Ws7L6aTp5BCA",
        "colab_type": "code",
        "colab": {
          "base_uri": "https://localhost:8080/",
          "height": 33
        },
        "outputId": "60c2ddbd-7bde-4a1b-edad-e4583316ebc9"
      },
      "source": [
        "rot13(\"Test\")"
      ],
      "execution_count": 65,
      "outputs": [
        {
          "output_type": "stream",
          "text": [
            "['@', 'q', 'f', 'g']\n"
          ],
          "name": "stdout"
        }
      ]
    },
    {
      "cell_type": "code",
      "metadata": {
        "id": "GKX1vnnRA89z",
        "colab_type": "code",
        "colab": {
          "base_uri": "https://localhost:8080/",
          "height": 33
        },
        "outputId": "7b32dc7a-93d2-4fe7-9b20-0176c8ba5571"
      },
      "source": [
        "chr(81)"
      ],
      "execution_count": 49,
      "outputs": [
        {
          "output_type": "execute_result",
          "data": {
            "text/plain": [
              "'Q'"
            ]
          },
          "metadata": {
            "tags": []
          },
          "execution_count": 49
        }
      ]
    },
    {
      "cell_type": "code",
      "metadata": {
        "id": "80WYKlRSCWKR",
        "colab_type": "code",
        "colab": {
          "base_uri": "https://localhost:8080/",
          "height": 33
        },
        "outputId": "2c55b0cf-ae31-4171-ac44-1d7cf007e2ea"
      },
      "source": [
        "ord('T')"
      ],
      "execution_count": 68,
      "outputs": [
        {
          "output_type": "execute_result",
          "data": {
            "text/plain": [
              "84"
            ]
          },
          "metadata": {
            "tags": []
          },
          "execution_count": 68
        }
      ]
    },
    {
      "cell_type": "code",
      "metadata": {
        "id": "1QPG2PfuDuvY",
        "colab_type": "code",
        "colab": {
          "base_uri": "https://localhost:8080/",
          "height": 33
        },
        "outputId": "4b69a984-2e6b-4c29-e174-ad3a1fdbcaeb"
      },
      "source": [
        "(101-97+13)%25 + 64"
      ],
      "execution_count": 55,
      "outputs": [
        {
          "output_type": "execute_result",
          "data": {
            "text/plain": [
              "81"
            ]
          },
          "metadata": {
            "tags": []
          },
          "execution_count": 55
        }
      ]
    }
  ]
}