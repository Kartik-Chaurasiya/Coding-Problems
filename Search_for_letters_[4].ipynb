{
  "nbformat": 4,
  "nbformat_minor": 0,
  "metadata": {
    "colab": {
      "name": "Search for letters [4].ipynb",
      "provenance": [],
      "authorship_tag": "ABX9TyOkOlyyPPeKInJ980yKSzwz",
      "include_colab_link": true
    },
    "kernelspec": {
      "name": "python3",
      "display_name": "Python 3"
    }
  },
  "cells": [
    {
      "cell_type": "markdown",
      "metadata": {
        "id": "view-in-github",
        "colab_type": "text"
      },
      "source": [
        "<a href=\"https://colab.research.google.com/github/Syntax-code/Codes/blob/master/Search_for_letters_%5B4%5D.ipynb\" target=\"_parent\"><img src=\"https://colab.research.google.com/assets/colab-badge.svg\" alt=\"Open In Colab\"/></a>"
      ]
    },
    {
      "cell_type": "markdown",
      "metadata": {
        "id": "cLMi8vsa0V_N",
        "colab_type": "text"
      },
      "source": [
        "Create a function which accepts one arbitrary string as an argument, and return a string of length 26.\n",
        "\n",
        "The objective is to set each of the 26 characters of the output string to either '1' or '0' based on the fact whether the Nth letter of the alphabet is present in the input (independent of its case).\n",
        "\n",
        "So if an 'a' or an 'A' appears anywhere in the input string (any number of times), set the first character of the output string to '1', otherwise to '0'. if 'b' or 'B' appears in the string, set the second character to '1', and so on for the rest of the alphabet.\n",
        "\n",
        "For instance:\n",
        "\n",
        "\"a   **&  cZ\"  =>  \"10100000000000000000000001\""
      ]
    },
    {
      "cell_type": "code",
      "metadata": {
        "id": "7mJtOH9FzMyU",
        "colab_type": "code",
        "colab": {}
      },
      "source": [
        "def rep(pos, ans):\n",
        "  return str(ans[:pos] + '1' + ans[pos+1:])"
      ],
      "execution_count": 0,
      "outputs": []
    },
    {
      "cell_type": "code",
      "metadata": {
        "id": "D4eZqYW4wfyR",
        "colab_type": "code",
        "colab": {}
      },
      "source": [
        "def change(st):\n",
        "  ans = ''\n",
        "  ans = ans.zfill(26)\n",
        "  st = st.replace(' ','')\n",
        "  if st == '':\n",
        "    return ans\n",
        "  else:\n",
        "    for i in st:\n",
        "      if i.isalpha():\n",
        "        ans = rep(ord(i.lower()) - 97, ans)\n",
        "  return ans"
      ],
      "execution_count": 0,
      "outputs": []
    },
    {
      "cell_type": "code",
      "metadata": {
        "id": "DQogCoyjwln4",
        "colab_type": "code",
        "colab": {
          "base_uri": "https://localhost:8080/",
          "height": 34
        },
        "outputId": "ed76e6ca-45c8-41bb-dc96-52f48aaede7f"
      },
      "source": [
        "print(change(\"a **&  bZ\"))"
      ],
      "execution_count": 23,
      "outputs": [
        {
          "output_type": "stream",
          "text": [
            "11000000000000000000000001\n"
          ],
          "name": "stdout"
        }
      ]
    },
    {
      "cell_type": "markdown",
      "metadata": {
        "id": "M8ssal5E0cSG",
        "colab_type": "text"
      },
      "source": [
        "#Another method"
      ]
    },
    {
      "cell_type": "code",
      "metadata": {
        "id": "7kY70dPy0fhD",
        "colab_type": "code",
        "colab": {}
      },
      "source": [
        "def change(st):\n",
        "    new = \"\"\n",
        "    st = st.lower()\n",
        "    for letter in \"abcdefghijklmnopqrstuvwxyz\":\n",
        "        if letter in st:\n",
        "            new += \"1\"\n",
        "        else:\n",
        "            new += \"0\"\n",
        "    return new"
      ],
      "execution_count": 0,
      "outputs": []
    }
  ]
}