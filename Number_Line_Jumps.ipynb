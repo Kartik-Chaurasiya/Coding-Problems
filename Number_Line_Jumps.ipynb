{
  "nbformat": 4,
  "nbformat_minor": 0,
  "metadata": {
    "colab": {
      "name": "Number Line Jumps.ipynb",
      "provenance": [],
      "authorship_tag": "ABX9TyP8c0dCyhHVxr8aScL4Tf/R",
      "include_colab_link": true
    },
    "kernelspec": {
      "name": "python3",
      "display_name": "Python 3"
    }
  },
  "cells": [
    {
      "cell_type": "markdown",
      "metadata": {
        "id": "view-in-github",
        "colab_type": "text"
      },
      "source": [
        "<a href=\"https://colab.research.google.com/github/Syntax-code/Codes/blob/master/Number_Line_Jumps.ipynb\" target=\"_parent\"><img src=\"https://colab.research.google.com/assets/colab-badge.svg\" alt=\"Open In Colab\"/></a>"
      ]
    },
    {
      "cell_type": "markdown",
      "metadata": {
        "id": "aMcclr-NdhS-",
        "colab_type": "text"
      },
      "source": [
        "You are choreographing a circus show with various animals. For one act, you are given two kangaroos on a number line ready to jump in the positive direction (i.e, toward positive infinity).\n",
        "\n",
        "The first kangaroo starts at location x1 and moves at a rate of v1 meters per jump.\n",
        "\n",
        "The second kangaroo starts at location x2 and moves at a rate of v2 meters per jump.\n",
        "\n",
        "You have to figure out a way to get both kangaroos at the same location at the same time as part of the show. If it is possible, return YES, otherwise return NO."
      ]
    },
    {
      "cell_type": "markdown",
      "metadata": {
        "id": "d90b1nQ9d03W",
        "colab_type": "text"
      },
      "source": [
        "distance by first Kang = Distance by second Kang\n",
        "\n",
        "We just need solve equation : x1 + y * v1 = x2 + y * v2 where \"y\" is number of jumps... so if (x1 - x2) % (v2 - v1) == 0 then our kangaroos will meet each other"
      ]
    },
    {
      "cell_type": "code",
      "metadata": {
        "id": "XbIYM1f5dZHc",
        "colab_type": "code",
        "colab": {}
      },
      "source": [
        "arr = input().strip().split()\n",
        "for x in range(len(arr)):\n",
        "    arr[x] = int(arr[x])\n",
        "x1 = arr[0]\n",
        "v1 = arr[1]\n",
        "x2 = arr[2]\n",
        "v2 = arr[3]\n",
        "if (x1 > x2) & (v1 > v2):\n",
        "    print('NO')\n",
        "elif (x1 < x2) & (v1 < v2):\n",
        "    print('NO')\n",
        "elif v1 == v2 :\n",
        "    print('NO')\n",
        "elif ((x1 - x2)%(v1 - v2) == 0) or ((x2 - x1)%(v2 - v1) == 0):\n",
        "    print('YES')\n",
        "else :\n",
        "    print('NO')"
      ],
      "execution_count": null,
      "outputs": []
    }
  ]
}