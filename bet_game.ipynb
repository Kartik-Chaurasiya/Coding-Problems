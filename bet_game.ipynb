{
  "nbformat": 4,
  "nbformat_minor": 0,
  "metadata": {
    "colab": {
      "name": "bet game.ipynb",
      "provenance": [],
      "collapsed_sections": [],
      "authorship_tag": "ABX9TyNIMTTDc7Vk+tmK1xX1tigB",
      "include_colab_link": true
    },
    "kernelspec": {
      "name": "python3",
      "display_name": "Python 3"
    }
  },
  "cells": [
    {
      "cell_type": "markdown",
      "metadata": {
        "id": "view-in-github",
        "colab_type": "text"
      },
      "source": [
        "<a href=\"https://colab.research.google.com/github/Syntax-code/Codes/blob/master/bet_game.ipynb\" target=\"_parent\"><img src=\"https://colab.research.google.com/assets/colab-badge.svg\" alt=\"Open In Colab\"/></a>"
      ]
    },
    {
      "cell_type": "code",
      "metadata": {
        "id": "KsCNOe7ma9cd",
        "colab_type": "code",
        "colab": {
          "base_uri": "https://localhost:8080/",
          "height": 84
        },
        "outputId": "bdfc1609-8090-4a86-a6c0-38c4d1a08bff"
      },
      "source": [
        "import numpy as np\n",
        "\n",
        "# Game 1\n",
        "simulations = 10000  # number of Monte Carlo Simulations\n",
        "games = 100          # number of times the game is played\n",
        "threshold = 40       # threshold where if greater than or equal to you win\n",
        "bet = 1              # dollar bet for the game\n",
        "\n",
        "# outer loop is Monte Carlo sims and inner loop is games played\n",
        "sim_results_1 = []\n",
        "for sim in range(simulations):\n",
        "    result = []\n",
        "    for g in range(games):\n",
        "        number = int(np.random.uniform()*100)  # get a random number to see who wins\n",
        "        if number >= threshold:\n",
        "            result.append(bet)\n",
        "        else:\n",
        "            result.append(-bet)\n",
        "    sim_results_1.append(sum(result))          # sim_results_1 stores results for Game 1\n",
        "print('Game 1 Mean: ', round(np.mean(sim_results_1), 2))\n",
        "print('Game 1 Prob Positive: ', round(sum([1 for i in sim_results_1 if i>0])/simulations, 2))\n",
        "print('\\n')"
      ],
      "execution_count": 7,
      "outputs": [
        {
          "output_type": "stream",
          "text": [
            "Game 1 Mean:  20.02\n",
            "Game 1 Prob Positive:  0.97\n",
            "\n",
            "\n"
          ],
          "name": "stdout"
        }
      ]
    },
    {
      "cell_type": "code",
      "metadata": {
        "id": "gCXAvbLDbEuN",
        "colab_type": "code",
        "colab": {}
      },
      "source": [
        ""
      ],
      "execution_count": null,
      "outputs": []
    }
  ]
}