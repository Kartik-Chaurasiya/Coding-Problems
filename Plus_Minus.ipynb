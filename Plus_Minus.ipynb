{
  "nbformat": 4,
  "nbformat_minor": 0,
  "metadata": {
    "colab": {
      "name": "Plus Minus.ipynb",
      "provenance": [],
      "authorship_tag": "ABX9TyObuO7Sb0z60nPomIFU5K0S",
      "include_colab_link": true
    },
    "kernelspec": {
      "name": "python3",
      "display_name": "Python 3"
    }
  },
  "cells": [
    {
      "cell_type": "markdown",
      "metadata": {
        "id": "view-in-github",
        "colab_type": "text"
      },
      "source": [
        "<a href=\"https://colab.research.google.com/github/Syntax-code/Codes/blob/master/Plus_Minus.ipynb\" target=\"_parent\"><img src=\"https://colab.research.google.com/assets/colab-badge.svg\" alt=\"Open In Colab\"/></a>"
      ]
    },
    {
      "cell_type": "markdown",
      "metadata": {
        "id": "AIr5AgqBW5io",
        "colab_type": "text"
      },
      "source": [
        "Given an array of integers, calculate the ratios of its elements that are positive, negative, and zero. Print the decimal value of each fraction on a new line with 6 places after the decimal."
      ]
    },
    {
      "cell_type": "code",
      "metadata": {
        "id": "UIlAU0JOTEAD",
        "colab_type": "code",
        "colab": {}
      },
      "source": [
        "def plusMinus(arr, n):\n",
        "    pos_num = 0\n",
        "    neg_num = 0\n",
        "    zero_num = 0\n",
        "    for x in arr:\n",
        "        if x > 0:\n",
        "            pos_num += 1\n",
        "        elif x < 0:\n",
        "            neg_num += 1\n",
        "        else:\n",
        "            zero_num += 1 \n",
        "    print(\"{0:.6f}\".format(pos_num/n))\n",
        "    print(\"{0:.6f}\".format(neg_num/n))\n",
        "    print(\"{0:.6f}\".format(zero_num/n))"
      ],
      "execution_count": 13,
      "outputs": []
    },
    {
      "cell_type": "code",
      "metadata": {
        "id": "ElQCxKrBVG52",
        "colab_type": "code",
        "colab": {
          "base_uri": "https://localhost:8080/",
          "height": 67
        },
        "outputId": "2a15e93d-a2f5-451b-cc8a-345065965cf4"
      },
      "source": [
        "arr = [-4, 3, -9, 0, 4, 1]\n",
        "n = 6\n",
        "plusMinus(arr, n)"
      ],
      "execution_count": 14,
      "outputs": [
        {
          "output_type": "stream",
          "text": [
            "0.500000\n",
            "0.333333\n",
            "0.166667\n"
          ],
          "name": "stdout"
        }
      ]
    }
  ]
}