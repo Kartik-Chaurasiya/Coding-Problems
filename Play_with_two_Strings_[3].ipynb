{
  "nbformat": 4,
  "nbformat_minor": 0,
  "metadata": {
    "colab": {
      "name": "Play with two Strings [3].ipynb",
      "provenance": [],
      "collapsed_sections": [],
      "authorship_tag": "ABX9TyNQYoiJKEY/q1wGUoL/+W+k",
      "include_colab_link": true
    },
    "kernelspec": {
      "name": "python3",
      "display_name": "Python 3"
    }
  },
  "cells": [
    {
      "cell_type": "markdown",
      "metadata": {
        "id": "view-in-github",
        "colab_type": "text"
      },
      "source": [
        "<a href=\"https://colab.research.google.com/github/Syntax-code/Codes/blob/master/Play_with_two_Strings_%5B3%5D.ipynb\" target=\"_parent\"><img src=\"https://colab.research.google.com/assets/colab-badge.svg\" alt=\"Open In Colab\"/></a>"
      ]
    },
    {
      "cell_type": "markdown",
      "metadata": {
        "id": "AuPYevoQFfi6",
        "colab_type": "text"
      },
      "source": [
        "Your task is to Combine two Strings. But consider the rule...\n",
        "\n",
        "By the way you don't have to check errors or incorrect input values, everything is ok without bad tricks, only two input strings and as result one output string;-)...\n",
        "\n",
        "And here's the rule:\n",
        "Input Strings a and b: For every character in string a swap the casing of every occurrence of the same character in string b. Then do the same casing swap with the inputs reversed. Return a single string consisting of the changed version of a followed by the changed version of b. A char of a is in b regardless if it's in upper or lower case\n",
        "\n",
        "Input: \"abab\" and \"bababa\"  => Output: \"ABABbababa\"\n",
        "\n",
        "a) swap the case of characters in string b for every occurrence of that character in string a\n",
        "char 'a' occurs twice in string a, so we swap all 'a' in string b twice. This means we start with \"bababa\" then \"bAbAbA\" => \"bababa\"\n",
        "char 'b' occurs twice in string a and so string b moves as follows: start with \"bababa\" then \"BaBaBa\" => \"bababa\"\n",
        "\n",
        "b) then, swap the case of characters in string a for every occurrence in string b\n",
        "char 'a' occurs 3 times in string b. So string a swaps cases as follows: start with \"abab\" then => \"AbAb\" => \"abab\" => \"AbAb\"\n",
        "char 'b' occurs 3 times in string b. So string a swaps as follow: start with \"AbAb\" then => \"ABAB\" => \"AbAb\" => \"ABAB\".\n",
        "\n",
        "c) merge new strings a and b\n",
        "return \"ABABbababa\""
      ]
    },
    {
      "cell_type": "code",
      "metadata": {
        "id": "2ikPYBYBGiIb",
        "colab_type": "code",
        "colab": {}
      },
      "source": [
        "def play(a, b):\n",
        "  newb = ''\n",
        "  while len(a) != 0:\n",
        "    char = a[0]\n",
        "    n = a.count(char)               #calc the no of occurences of the char\n",
        "    a = a.replace(char, '')         #remove all the occurences of char\n",
        "    if (n%2 != 0):                  #check if n is odd or even : if even no change, else swapcase() \n",
        "      for i in range(len(b)):\n",
        "        if (b[i].lower() == char.lower()):\n",
        "          newb += b[i].swapcase()\n",
        "        else :\n",
        "          newb += b[i]\n",
        "        if i == len(b) - 1:\n",
        "          break \n",
        "      b = newb\n",
        "      newb = ''\n",
        "  return b\n"
      ],
      "execution_count": 0,
      "outputs": []
    },
    {
      "cell_type": "code",
      "metadata": {
        "id": "gHc5Em47EbSo",
        "colab_type": "code",
        "colab": {}
      },
      "source": [
        "def work_on_strings(a,b):\n",
        "    s2 = play(a,b)\n",
        "    s1 = play(b,a)\n",
        "    return s1+s2"
      ],
      "execution_count": 0,
      "outputs": []
    },
    {
      "cell_type": "code",
      "metadata": {
        "id": "Jmt6m7wAF9Ij",
        "colab_type": "code",
        "colab": {
          "base_uri": "https://localhost:8080/",
          "height": 34
        },
        "outputId": "6d487f22-9b37-46ea-f452-ab9352a007aa"
      },
      "source": [
        "print(work_on_strings(\"abcdeFgtrzw\", \"defgGgfhjkwqe\"))"
      ],
      "execution_count": 21,
      "outputs": [
        {
          "output_type": "stream",
          "text": [
            "abcDeFGtrzWDEFGgGFhjkWqE\n"
          ],
          "name": "stdout"
        }
      ]
    }
  ]
}