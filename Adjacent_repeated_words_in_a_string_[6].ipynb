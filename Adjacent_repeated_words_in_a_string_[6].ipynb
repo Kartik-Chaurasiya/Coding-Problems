{
  "nbformat": 4,
  "nbformat_minor": 0,
  "metadata": {
    "colab": {
      "name": " Adjacent repeated words in a string [6].ipynb",
      "provenance": [],
      "collapsed_sections": [],
      "authorship_tag": "ABX9TyP8haD7RPrc5lNd2onUsTK4",
      "include_colab_link": true
    },
    "kernelspec": {
      "name": "python3",
      "display_name": "Python 3"
    }
  },
  "cells": [
    {
      "cell_type": "markdown",
      "metadata": {
        "id": "view-in-github",
        "colab_type": "text"
      },
      "source": [
        "<a href=\"https://colab.research.google.com/github/Syntax-code/Codes/blob/master/Adjacent_repeated_words_in_a_string_%5B6%5D.ipynb\" target=\"_parent\"><img src=\"https://colab.research.google.com/assets/colab-badge.svg\" alt=\"Open In Colab\"/></a>"
      ]
    },
    {
      "cell_type": "markdown",
      "metadata": {
        "id": "ALXzFeiT2i6K",
        "colab_type": "text"
      },
      "source": [
        "You know how sometimes you write the the same word twice in a sentence, but then don't notice that it happened? For example, you've been distracted for a second. Did you notice that *\"the\"* is doubled in the first sentence of this description?\n",
        "\n",
        "As as aS you can see, it's not easy to spot those errors, especially if words differ in case, like *\"as\"* at the beginning of the sentence.\n",
        "\n",
        "Write a function that counts the number of sections repeating the same word (case insensitive). The occurence of two or more equal words next after each other count as one.\n",
        "\n",
        "Example:\n",
        "\n",
        "\"dog cat\"                 --> 0\n",
        "\n",
        "\"dog DOG cat\"             --> 1\n",
        "\n",
        "\"apple dog cat\"           --> 0\n",
        "\n",
        "\"pineapple apple dog cat\" --> 0\n",
        "\n",
        "\"apple     apple dog cat\" --> 1\n",
        "\n",
        "\"apple dog apple dog cat\" --> 0\n",
        "\n",
        "\"dog dog DOG dog dog dog\" --> 1\n",
        "\n",
        "\"dog dog dog dog cat cat\" --> 2\n",
        "\n",
        "\"cat cat dog dog cat cat\" --> 3"
      ]
    },
    {
      "cell_type": "code",
      "metadata": {
        "id": "fJbHFJII2_4T",
        "colab_type": "code",
        "colab": {}
      },
      "source": [
        "import numpy as np"
      ],
      "execution_count": 0,
      "outputs": []
    },
    {
      "cell_type": "markdown",
      "metadata": {
        "id": "gLeWXxQ1TlT6",
        "colab_type": "text"
      },
      "source": [
        "just another method with little defects"
      ]
    },
    {
      "cell_type": "code",
      "metadata": {
        "id": "tihcAhCAohrt",
        "colab_type": "code",
        "colab": {}
      },
      "source": [
        "def count_adjacent_pairs(st): \n",
        "  count=0\n",
        "  st = st.split()\n",
        "  st = [x.lower() for x in st]\n",
        "  unq = np.unique(st)\n",
        "  for x in unq:\n",
        "    n = st.count(x)\n",
        "    if n > 1:\n",
        "      count += 1\n",
        "  return count"
      ],
      "execution_count": 0,
      "outputs": []
    },
    {
      "cell_type": "markdown",
      "metadata": {
        "id": "ZkDQlqnSTpyn",
        "colab_type": "text"
      },
      "source": [
        "solution"
      ]
    },
    {
      "cell_type": "code",
      "metadata": {
        "id": "Zkzw1g6KwvRP",
        "colab_type": "code",
        "colab": {}
      },
      "source": [
        "def count_adjacent_pairs(st): \n",
        "  count=0\n",
        "  st = st.split()\n",
        "  st = [x.lower() for x in st]\n",
        "  unq = np.unique(st)\n",
        "  for x in unq:\n",
        "    n = 0\n",
        "    for y in range(len(st)):\n",
        "      if x == st[y]:\n",
        "        n +=1\n",
        "      if x != st[y] and n >1 :\n",
        "        n =0\n",
        "        count += 1\n",
        "      if (y == len(st)-1) and n > 1:\n",
        "        count += 1 \n",
        "  return count"
      ],
      "execution_count": 0,
      "outputs": []
    },
    {
      "cell_type": "code",
      "metadata": {
        "id": "pXlIHm_w2ui0",
        "colab_type": "code",
        "outputId": "0c317815-db2d-4a3f-ac6a-1ccf10a27e4d",
        "colab": {
          "base_uri": "https://localhost:8080/",
          "height": 33
        }
      },
      "source": [
        "print(count_adjacent_pairs('cat cat dog dog cat cat'))"
      ],
      "execution_count": 22,
      "outputs": [
        {
          "output_type": "stream",
          "text": [
            "3\n"
          ],
          "name": "stdout"
        }
      ]
    }
  ]
}