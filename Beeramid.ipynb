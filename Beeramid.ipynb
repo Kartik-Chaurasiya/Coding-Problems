{
  "nbformat": 4,
  "nbformat_minor": 0,
  "metadata": {
    "colab": {
      "name": "Beeramid.ipynb",
      "provenance": [],
      "authorship_tag": "ABX9TyM7EMmXWWikf5DfQRb0kWXS",
      "include_colab_link": true
    },
    "kernelspec": {
      "name": "python3",
      "display_name": "Python 3"
    }
  },
  "cells": [
    {
      "cell_type": "markdown",
      "metadata": {
        "id": "view-in-github",
        "colab_type": "text"
      },
      "source": [
        "<a href=\"https://colab.research.google.com/github/Syntax-code/Codes/blob/master/Beeramid.ipynb\" target=\"_parent\"><img src=\"https://colab.research.google.com/assets/colab-badge.svg\" alt=\"Open In Colab\"/></a>"
      ]
    },
    {
      "cell_type": "markdown",
      "metadata": {
        "id": "rS4kCoheuRrJ",
        "colab_type": "text"
      },
      "source": [
        "Let's pretend your company just hired your friend from college and paid you a referral bonus. Awesome! To celebrate, you're taking your team out to the terrible dive bar next door and using the referral bonus to buy, and build, the largest three-dimensional beer can pyramid you can. And then probably drink those beers, because let's pretend it's Friday too.\n",
        "\n",
        "A beer can pyramid will square the number of cans in each level - 1 can in the top level, 4 in the second, 9 in the next, 16, 25...\n",
        "\n",
        "Complete the beeramid function to return the number of complete levels of a beer can pyramid you can make, given the parameters of:\n",
        "\n",
        "1) your referral bonus, and\n",
        "\n",
        "2) the price of a beer can\n",
        "\n",
        "For example:\n",
        "\n",
        "beeramid(1500, 2); // should === 12\n",
        "\n",
        "beeramid(5000, 3); // should === 16"
      ]
    },
    {
      "cell_type": "code",
      "metadata": {
        "id": "UG58F8bNuPVw",
        "colab_type": "code",
        "colab": {}
      },
      "source": [
        "def beeramid(bonus, price):\n",
        "  print(bonus, price)\n",
        "  sum = 0\n",
        "  no_of_bottle = int(bonus/price)\n",
        "  if no_of_bottle <= 0:                                          #if bonus is negative or less then the price of the bottle\n",
        "    return 0\n",
        "  elif no_of_bottle == 1:                                        #if bonus is equal to price of the bottle\n",
        "    return 1\n",
        "  for i in range(no_of_bottle):\n",
        "    if sum > no_of_bottle:\n",
        "      return i-2\n",
        "      break\n",
        "    sum += i*i\n",
        "\n",
        "\n",
        "\n"
      ],
      "execution_count": 0,
      "outputs": []
    },
    {
      "cell_type": "code",
      "metadata": {
        "id": "Bw-rv0wduYUU",
        "colab_type": "code",
        "colab": {
          "base_uri": "https://localhost:8080/",
          "height": 33
        },
        "outputId": "ef6b7022-0459-4628-a2d6-f46bbe2116e5"
      },
      "source": [
        "print(beeramid(21, 1.5))"
      ],
      "execution_count": 9,
      "outputs": [
        {
          "output_type": "stream",
          "text": [
            "3\n"
          ],
          "name": "stdout"
        }
      ]
    }
  ]
}