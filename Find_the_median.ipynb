{
  "nbformat": 4,
  "nbformat_minor": 0,
  "metadata": {
    "colab": {
      "name": "Find the median.ipynb",
      "provenance": [],
      "authorship_tag": "ABX9TyOgbXI11vfuNKTMafrG4k1W",
      "include_colab_link": true
    },
    "kernelspec": {
      "name": "python3",
      "display_name": "Python 3"
    }
  },
  "cells": [
    {
      "cell_type": "markdown",
      "metadata": {
        "id": "view-in-github",
        "colab_type": "text"
      },
      "source": [
        "<a href=\"https://colab.research.google.com/github/Syntax-code/Codes/blob/master/Find_the_median.ipynb\" target=\"_parent\"><img src=\"https://colab.research.google.com/assets/colab-badge.svg\" alt=\"Open In Colab\"/></a>"
      ]
    },
    {
      "cell_type": "markdown",
      "metadata": {
        "id": "e97C-krgqDSf",
        "colab_type": "text"
      },
      "source": [
        "The median of a list of numbers is essentially it's middle element after sorting. The same number of elements occur after it as before. Given a list of numbers with an odd number of elements, can you find the median?\n",
        "\n",
        "For example, the median of arr = [1,2,3,4,5] is, 3 the middle element in the sorted array."
      ]
    },
    {
      "cell_type": "code",
      "metadata": {
        "id": "bt_tkbV1p3_C",
        "colab_type": "code",
        "colab": {}
      },
      "source": [
        "import math\n",
        "n = int(input().strip())\n",
        "arr = input().strip().split()\n",
        "for i in range(len(arr)):\n",
        "    arr[i] = int(arr[i])"
      ],
      "execution_count": null,
      "outputs": []
    },
    {
      "cell_type": "code",
      "metadata": {
        "id": "e872LZq5rwdr",
        "colab_type": "code",
        "colab": {}
      },
      "source": [
        "def medium(arr, n):\n",
        "  arr = sorted(arr)\n",
        "  return arr[math.ceil(n/2) - 1]"
      ],
      "execution_count": 5,
      "outputs": []
    },
    {
      "cell_type": "code",
      "metadata": {
        "id": "tkGp2KCjtbIa",
        "colab_type": "code",
        "colab": {
          "base_uri": "https://localhost:8080/",
          "height": 34
        },
        "outputId": "44a45e58-28bb-4451-8852-538d9c8a9b48"
      },
      "source": [
        "arr = [1,2,3,4,5]\n",
        "n = len(arr)\n",
        "medium(arr, n)"
      ],
      "execution_count": 3,
      "outputs": [
        {
          "output_type": "execute_result",
          "data": {
            "text/plain": [
              "3"
            ]
          },
          "metadata": {
            "tags": []
          },
          "execution_count": 3
        }
      ]
    },
    {
      "cell_type": "markdown",
      "metadata": {
        "id": "3_Hv5PAhvhfR",
        "colab_type": "text"
      },
      "source": [
        "#C++"
      ]
    },
    {
      "cell_type": "code",
      "metadata": {
        "id": "WJIeAGDlvjGv",
        "colab_type": "code",
        "colab": {}
      },
      "source": [
        "int main(){\n",
        "    int n; cin >> n;\n",
        "    int arr[n];\n",
        "    for(int x; x<n;x++) cin >> arr[x];\n",
        "    sort(arr, arr + n);\n",
        "    n = ceil(n/2);\n",
        "    cout << arr[n];\n",
        "    return 0;\n",
        "}"
      ],
      "execution_count": null,
      "outputs": []
    }
  ]
}