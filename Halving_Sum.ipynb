{
  "nbformat": 4,
  "nbformat_minor": 0,
  "metadata": {
    "colab": {
      "name": "Halving Sum.ipynb",
      "provenance": [],
      "authorship_tag": "ABX9TyPsyxViSRSJj9oduIrhbToh",
      "include_colab_link": true
    },
    "kernelspec": {
      "name": "python3",
      "display_name": "Python 3"
    }
  },
  "cells": [
    {
      "cell_type": "markdown",
      "metadata": {
        "id": "view-in-github",
        "colab_type": "text"
      },
      "source": [
        "<a href=\"https://colab.research.google.com/github/Syntax-code/Codes/blob/master/Halving_Sum.ipynb\" target=\"_parent\"><img src=\"https://colab.research.google.com/assets/colab-badge.svg\" alt=\"Open In Colab\"/></a>"
      ]
    },
    {
      "cell_type": "markdown",
      "metadata": {
        "id": "p7cwMOBq2QQe",
        "colab_type": "text"
      },
      "source": [
        "Given a positive integer n, calculate the following sum:\n",
        "\n",
        "n + n/2 + n/4 + n/8 + ...\n",
        "\n",
        "All elements of the sum are the results of integer division.\n",
        "\n",
        "Example\n",
        "25  =>  25 + 12 + 6 + 3 + 1 = 47"
      ]
    },
    {
      "cell_type": "code",
      "metadata": {
        "id": "MichZ7tezx5F",
        "colab_type": "code",
        "colab": {}
      },
      "source": [
        "def halving_sum(n):\n",
        "    sum = 0\n",
        "    while n != int(n/2):\n",
        "      sum += n\n",
        "      n = int(n/2) \n",
        "    return sum"
      ],
      "execution_count": 0,
      "outputs": []
    },
    {
      "cell_type": "code",
      "metadata": {
        "id": "KA9fkTdX0TnE",
        "colab_type": "code",
        "colab": {
          "base_uri": "https://localhost:8080/",
          "height": 33
        },
        "outputId": "e4d2e7f6-f243-4b70-f3ab-159be8df0668"
      },
      "source": [
        "print(halving_sum(25))"
      ],
      "execution_count": 10,
      "outputs": [
        {
          "output_type": "stream",
          "text": [
            "47\n"
          ],
          "name": "stdout"
        }
      ]
    }
  ]
}