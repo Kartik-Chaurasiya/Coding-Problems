{
  "nbformat": 4,
  "nbformat_minor": 0,
  "metadata": {
    "colab": {
      "name": "Consonant value.ipynb",
      "provenance": [],
      "authorship_tag": "ABX9TyOdRqq8whGmC4LpMu3RgUau",
      "include_colab_link": true
    },
    "kernelspec": {
      "name": "python3",
      "display_name": "Python 3"
    }
  },
  "cells": [
    {
      "cell_type": "markdown",
      "metadata": {
        "id": "view-in-github",
        "colab_type": "text"
      },
      "source": [
        "<a href=\"https://colab.research.google.com/github/Syntax-code/Codes/blob/master/Consonant_value.ipynb\" target=\"_parent\"><img src=\"https://colab.research.google.com/assets/colab-badge.svg\" alt=\"Open In Colab\"/></a>"
      ]
    },
    {
      "cell_type": "markdown",
      "metadata": {
        "id": "snRApguArJ2G",
        "colab_type": "text"
      },
      "source": [
        "Given a lowercase string that has alphabetic characters only and no spaces, return the highest value of consonant substrings. Consonants are any letters of the alphabet except \"aeiou\".\n",
        "\n",
        "We shall assign the following values: a = 1, b = 2, c = 3, .... z = 26.\n",
        "\n",
        "For example, for the word \"zodiacs\", let's cross out the vowels. We get: \"z o d ia cs\"\n",
        "\n",
        "-- The consonant substrings are: \"z\", \"d\" and \"cs\" and the values are z = 26, d = 4 and cs = 3 + 19 = 22. The highest is 26.\n",
        "solve(\"zodiacs\") = 26"
      ]
    },
    {
      "cell_type": "code",
      "metadata": {
        "id": "KLRs0hecJQ9N",
        "colab_type": "code",
        "colab": {
          "base_uri": "https://localhost:8080/",
          "height": 33
        },
        "outputId": "453c74b2-3be4-4931-8ed5-9608e0386ea3"
      },
      "source": [
        "import re\n",
        "import numpy as np\n",
        "\n",
        "def prepare(s):\n",
        "    s = re.split('a|e|i|o|u', s)\n",
        "    s = list(filter(None, s)) \n",
        "    return s\n",
        "\n",
        "\n",
        "def solve(s):\n",
        "    s = prepare(s)\n",
        "    sum = []\n",
        "    su = 0\n",
        "    for cons  in s:\n",
        "      for con1 in cons:\n",
        "        su += ord(con1)%96\n",
        "      sum.append(su)\n",
        "      su = 0\n",
        "    return np.max(sum)\n",
        "\n",
        "solve(\"chruschtschov\")\n"
      ],
      "execution_count": 41,
      "outputs": [
        {
          "output_type": "execute_result",
          "data": {
            "text/plain": [
              "80"
            ]
          },
          "metadata": {
            "tags": []
          },
          "execution_count": 41
        }
      ]
    }
  ]
}