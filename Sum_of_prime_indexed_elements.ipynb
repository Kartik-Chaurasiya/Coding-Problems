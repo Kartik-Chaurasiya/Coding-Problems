{
  "nbformat": 4,
  "nbformat_minor": 0,
  "metadata": {
    "colab": {
      "name": "Sum of prime-indexed elements.ipynb",
      "provenance": [],
      "authorship_tag": "ABX9TyOsSPh8okxABBK1NuWcsGlG",
      "include_colab_link": true
    },
    "kernelspec": {
      "name": "python3",
      "display_name": "Python 3"
    }
  },
  "cells": [
    {
      "cell_type": "markdown",
      "metadata": {
        "id": "view-in-github",
        "colab_type": "text"
      },
      "source": [
        "<a href=\"https://colab.research.google.com/github/Syntax-code/Codes/blob/master/Sum_of_prime_indexed_elements.ipynb\" target=\"_parent\"><img src=\"https://colab.research.google.com/assets/colab-badge.svg\" alt=\"Open In Colab\"/></a>"
      ]
    },
    {
      "cell_type": "markdown",
      "metadata": {
        "id": "X6R1gcWeWpX4",
        "colab_type": "text"
      },
      "source": [
        "you will be given an integer array and your task is to return the sum of elements occupying prime-numbered indices.\n",
        "\n",
        "The first element of the array is at index 0."
      ]
    },
    {
      "cell_type": "code",
      "metadata": {
        "id": "4ue0J4gCU-PM",
        "colab_type": "code",
        "colab": {}
      },
      "source": [
        "def isPrime(n) : \n",
        "    if (n <= 1) : \n",
        "        return False\n",
        "    if (n <= 3) : \n",
        "        return True\n",
        "    if (n % 2 == 0 or n % 3 == 0) : \n",
        "        return False\n",
        "    i = 5\n",
        "    while(i * i <= n) : \n",
        "        if (n % i == 0 or n % (i + 2) == 0) : \n",
        "            return False\n",
        "        i = i + 6\n",
        "    return True"
      ],
      "execution_count": 1,
      "outputs": []
    },
    {
      "cell_type": "code",
      "metadata": {
        "id": "6ieOEb1fUlYJ",
        "colab_type": "code",
        "colab": {}
      },
      "source": [
        "def total(arr):\n",
        "  sum = 0\n",
        "  for i in range(len(arr)):\n",
        "    if (isPrime(i)):\n",
        "      sum += arr[i]\n",
        "  return sum"
      ],
      "execution_count": 2,
      "outputs": []
    },
    {
      "cell_type": "code",
      "metadata": {
        "id": "dgaWhGM2UpGU",
        "colab_type": "code",
        "colab": {
          "base_uri": "https://localhost:8080/",
          "height": 34
        },
        "outputId": "1e9cae43-9d86-4144-b14a-0c856760dfcb"
      },
      "source": [
        "total([1,2,3,4])"
      ],
      "execution_count": 3,
      "outputs": [
        {
          "output_type": "execute_result",
          "data": {
            "text/plain": [
              "7"
            ]
          },
          "metadata": {
            "tags": []
          },
          "execution_count": 3
        }
      ]
    },
    {
      "cell_type": "markdown",
      "metadata": {
        "id": "668ey-14WaXN",
        "colab_type": "text"
      },
      "source": [
        "Other solution"
      ]
    },
    {
      "cell_type": "code",
      "metadata": {
        "id": "Jc7iMM9EWcZ0",
        "colab_type": "code",
        "colab": {}
      },
      "source": [
        "def is_prime(n):\n",
        "    return n >= 2 and all(n%i for i in range(2, 1+int(n**.5)))\n",
        "    \n",
        "def total(arr):\n",
        "    return sum(n for i, n in enumerate(arr) if is_prime(i))"
      ],
      "execution_count": null,
      "outputs": []
    },
    {
      "cell_type": "code",
      "metadata": {
        "id": "RkeL_Dv3We4c",
        "colab_type": "code",
        "colab": {}
      },
      "source": [
        "from gmpy2 import next_prime\n",
        "\n",
        "def total(arr):\n",
        "    index, size, result = 2, len(arr), 0\n",
        "    while index < size:\n",
        "        result += arr[index]\n",
        "        index = next_prime(index)\n",
        "    return result"
      ],
      "execution_count": null,
      "outputs": []
    }
  ]
}