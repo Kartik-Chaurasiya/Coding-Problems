{
  "nbformat": 4,
  "nbformat_minor": 0,
  "metadata": {
    "colab": {
      "name": "Split and then add both sides of an array together.[5].ipynb",
      "provenance": [],
      "collapsed_sections": [],
      "authorship_tag": "ABX9TyMRBvkgHq/4hdQjvPsqo5lj",
      "include_colab_link": true
    },
    "kernelspec": {
      "name": "python3",
      "display_name": "Python 3"
    }
  },
  "cells": [
    {
      "cell_type": "markdown",
      "metadata": {
        "id": "view-in-github",
        "colab_type": "text"
      },
      "source": [
        "<a href=\"https://colab.research.google.com/github/Syntax-code/Codes/blob/master/Split_and_then_add_both_sides_of_an_array_together_%5B5%5D.ipynb\" target=\"_parent\"><img src=\"https://colab.research.google.com/assets/colab-badge.svg\" alt=\"Open In Colab\"/></a>"
      ]
    },
    {
      "cell_type": "code",
      "metadata": {
        "id": "oQDuFxrcsjf_",
        "colab_type": "code",
        "colab": {}
      },
      "source": [
        "import math"
      ],
      "execution_count": 0,
      "outputs": []
    },
    {
      "cell_type": "code",
      "metadata": {
        "id": "5gvWjNY8taOg",
        "colab_type": "code",
        "colab": {}
      },
      "source": [
        "def split(numbers):\n",
        "  l = len(numbers)\n",
        "  bet = math.floor(l/2)\n",
        "  numbers_left = numbers[:bet]\n",
        "  numbers_right = numbers[bet:]\n",
        "  return numbers_left,numbers_right\n"
      ],
      "execution_count": 0,
      "outputs": []
    },
    {
      "cell_type": "code",
      "metadata": {
        "id": "Waw0LoJFuqbf",
        "colab_type": "code",
        "colab": {}
      },
      "source": [
        "def add_them(numbers_left,numbers_right):\n",
        "  numbers =[]\n",
        "  if len(numbers_left) == len(numbers_right):\n",
        "    for i in range(len(numbers_left)):\n",
        "      numbers.append(numbers_left[i] + numbers_right[i])\n",
        "    return numbers\n",
        "  else :\n",
        "    numbers.append(numbers_right.pop(0))\n",
        "    for i in range(len(numbers_left)):\n",
        "      numbers.append(numbers_left[i] + numbers_right[i])\n",
        "    return numbers\n"
      ],
      "execution_count": 0,
      "outputs": []
    },
    {
      "cell_type": "code",
      "metadata": {
        "id": "RbFeilf3sP57",
        "colab_type": "code",
        "colab": {}
      },
      "source": [
        "def split_and_add(numbers, n):\n",
        "  l = len(numbers)\n",
        "  for i in range(n):\n",
        "    if len(numbers) == 1:\n",
        "      return numbers\n",
        "    numbers_left,numbers_right = split(numbers)\n",
        "    print(numbers_left,numbers_right)\n",
        "    numbers = add_them(numbers_left,numbers_right)\n",
        "  return numbers"
      ],
      "execution_count": 0,
      "outputs": []
    },
    {
      "cell_type": "code",
      "metadata": {
        "id": "c1n-a7aAsTzk",
        "colab_type": "code",
        "outputId": "5aa6eed3-6a82-438a-80d5-adc3e048ef3a",
        "colab": {
          "base_uri": "https://localhost:8080/",
          "height": 67
        }
      },
      "source": [
        "split_and_add([32,45,43,23,54,23,54,34], 2)"
      ],
      "execution_count": 13,
      "outputs": [
        {
          "output_type": "stream",
          "text": [
            "[32, 45, 43, 23] [54, 23, 54, 34]\n",
            "[86, 68] [97, 57]\n"
          ],
          "name": "stdout"
        },
        {
          "output_type": "execute_result",
          "data": {
            "text/plain": [
              "[183, 125]"
            ]
          },
          "metadata": {
            "tags": []
          },
          "execution_count": 13
        }
      ]
    }
  ]
}