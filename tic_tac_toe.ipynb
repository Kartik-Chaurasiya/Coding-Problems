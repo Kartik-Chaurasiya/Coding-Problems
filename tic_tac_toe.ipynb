{
  "nbformat": 4,
  "nbformat_minor": 0,
  "metadata": {
    "colab": {
      "name": "tic-tac-toe.ipynb",
      "provenance": [],
      "authorship_tag": "ABX9TyMsmnpf9RpUAFxJQY3qbxCj",
      "include_colab_link": true
    },
    "kernelspec": {
      "name": "python3",
      "display_name": "Python 3"
    }
  },
  "cells": [
    {
      "cell_type": "markdown",
      "metadata": {
        "id": "view-in-github",
        "colab_type": "text"
      },
      "source": [
        "<a href=\"https://colab.research.google.com/github/Syntax-code/Codes/blob/master/tic_tac_toe.ipynb\" target=\"_parent\"><img src=\"https://colab.research.google.com/assets/colab-badge.svg\" alt=\"Open In Colab\"/></a>"
      ]
    },
    {
      "cell_type": "markdown",
      "metadata": {
        "id": "QKfwMIX3Oa03",
        "colab_type": "text"
      },
      "source": [
        "Full code "
      ]
    },
    {
      "cell_type": "code",
      "metadata": {
        "id": "gMtuECUtM5nH",
        "colab_type": "code",
        "colab": {
          "base_uri": "https://localhost:8080/",
          "height": 34
        },
        "outputId": "4ab0b761-6cc6-449f-a6f7-65ce9e08908c"
      },
      "source": [
        "import numpy as np\n",
        "\n",
        "def check_zero(board):\n",
        "    return any(1 in sub for sub in board)\n",
        "    \n",
        "def won(board):\n",
        "    sum1= 0\n",
        "    sum2= 0\n",
        "    sum3= 0\n",
        "    sum4= 0\n",
        "    sum5= 0\n",
        "    sum6= 0\n",
        "    sum7= 0\n",
        "    sum8= 0\n",
        "    for i in range(3):\n",
        "        sum1 +=board.item((0,i))\n",
        "    for i in range(3):\n",
        "        sum2 +=board.item((i,0))\n",
        "    for i in range(3):\n",
        "        sum3 +=board.item((i,i))\n",
        "    for i in range(3):\n",
        "        sum4 +=board.item((i,1))\n",
        "    for i in range(3):\n",
        "        sum5 +=board.item((i,2-i))\n",
        "    for i in range(3):\n",
        "        sum6 +=board.item((i,2))\n",
        "    for i in range(3):\n",
        "        sum7 +=board.item((1,i))\n",
        "    for i in range(3):\n",
        "        sum8 +=board.item((2,i))\n",
        "    if (sum1==0 or sum2==0 or sum3==0 or sum4==0 or sum5==0 or sum6==0 or sum7==0 or sum8==0) :\n",
        "        return 1\n",
        "        \n",
        "    elif(sum1==6 or sum2==6 or sum3==6 or sum4==6 or sum5==6 or sum6==6 or sum7==6 or sum8==6):\n",
        "        return 2\n",
        "        \n",
        "    elif check_zero(board) == True :\n",
        "        return -1\n",
        "        \n",
        "    else:\n",
        "        return 0\n",
        "    \n",
        "\n",
        "\n",
        "def is_solved(board):\n",
        "    board = np.array(board)\n",
        "    board[board == 0] = 4\n",
        "    board[board == 1] = 0\n",
        "    board[board == 4] = 1\n",
        "    return won(board)\n",
        "\n",
        "board = [[0, 0, 1],\n",
        "         [0, 1, 2],\n",
        "         [2, 1, 0]]\n",
        "print(is_solved(board))"
      ],
      "execution_count": 110,
      "outputs": [
        {
          "output_type": "stream",
          "text": [
            "-1\n"
          ],
          "name": "stdout"
        }
      ]
    },
    {
      "cell_type": "code",
      "metadata": {
        "id": "_DAkFKkPOqHQ",
        "colab_type": "code",
        "colab": {}
      },
      "source": [
        "break down code"
      ],
      "execution_count": 0,
      "outputs": []
    },
    {
      "cell_type": "code",
      "metadata": {
        "id": "aXCW4K5a0b_C",
        "colab_type": "code",
        "colab": {}
      },
      "source": [
        "import numpy as np"
      ],
      "execution_count": 0,
      "outputs": []
    },
    {
      "cell_type": "code",
      "metadata": {
        "id": "F3qzd1z3qTq2",
        "colab_type": "code",
        "colab": {}
      },
      "source": [
        "board = [[0, 0, 1],\n",
        "         [0, 1, 2],\n",
        "         [2, 1, 0]]"
      ],
      "execution_count": 0,
      "outputs": []
    },
    {
      "cell_type": "code",
      "metadata": {
        "id": "cmit3zuk26Ut",
        "colab_type": "code",
        "colab": {}
      },
      "source": [
        "board = np.array(board)"
      ],
      "execution_count": 0,
      "outputs": []
    },
    {
      "cell_type": "code",
      "metadata": {
        "id": "IMfwUPWRqrxL",
        "colab_type": "code",
        "colab": {
          "base_uri": "https://localhost:8080/",
          "height": 67
        },
        "outputId": "c7217ed1-c852-4467-b0d9-19d2c30d9aa7"
      },
      "source": [
        "board[board == 0] = 4\n",
        "board[board == 1] = 0\n",
        "board[board == 4] = 1\n",
        "print(board)"
      ],
      "execution_count": 97,
      "outputs": [
        {
          "output_type": "stream",
          "text": [
            "[[1 1 0]\n",
            " [1 0 2]\n",
            " [2 0 1]]\n"
          ],
          "name": "stdout"
        }
      ]
    },
    {
      "cell_type": "code",
      "metadata": {
        "id": "t0b--ngFzNmx",
        "colab_type": "code",
        "colab": {
          "base_uri": "https://localhost:8080/",
          "height": 34
        },
        "outputId": "d198fcb4-1f10-4e56-fa41-6637b5785903"
      },
      "source": [
        "print(np.choose([0,1,2], board))"
      ],
      "execution_count": 98,
      "outputs": [
        {
          "output_type": "stream",
          "text": [
            "[1 0 1]\n"
          ],
          "name": "stdout"
        }
      ]
    },
    {
      "cell_type": "markdown",
      "metadata": {
        "id": "UTkj731J3tUu",
        "colab_type": "text"
      },
      "source": [
        "1st"
      ]
    },
    {
      "cell_type": "code",
      "metadata": {
        "id": "K4Khep_q1qj8",
        "colab_type": "code",
        "colab": {
          "base_uri": "https://localhost:8080/",
          "height": 34
        },
        "outputId": "997bb3dc-bdad-470a-ab72-0cc69490384c"
      },
      "source": [
        "sum1= 0\n",
        "for i in range(3):\n",
        "  sum1 +=board.item((0,i))\n",
        "print(sum1)"
      ],
      "execution_count": 99,
      "outputs": [
        {
          "output_type": "stream",
          "text": [
            "2\n"
          ],
          "name": "stdout"
        }
      ]
    },
    {
      "cell_type": "markdown",
      "metadata": {
        "id": "iSV3LxVX38Cs",
        "colab_type": "text"
      },
      "source": [
        "2nd"
      ]
    },
    {
      "cell_type": "code",
      "metadata": {
        "id": "cstaBe9R3w60",
        "colab_type": "code",
        "colab": {
          "base_uri": "https://localhost:8080/",
          "height": 34
        },
        "outputId": "02dcfee1-2f3b-41f9-b6b6-da4f598e5672"
      },
      "source": [
        "sum2= 0\n",
        "for i in range(3):\n",
        "  sum2 +=board.item((i,0))\n",
        "print(sum2)"
      ],
      "execution_count": 100,
      "outputs": [
        {
          "output_type": "stream",
          "text": [
            "4\n"
          ],
          "name": "stdout"
        }
      ]
    },
    {
      "cell_type": "markdown",
      "metadata": {
        "id": "f-Q4WT3u4CAt",
        "colab_type": "text"
      },
      "source": [
        "3rd"
      ]
    },
    {
      "cell_type": "code",
      "metadata": {
        "id": "Tub8x3Nx4Dk0",
        "colab_type": "code",
        "colab": {
          "base_uri": "https://localhost:8080/",
          "height": 34
        },
        "outputId": "e2bdcfe8-a1e8-4126-e174-b8c95531f395"
      },
      "source": [
        "sum3= 0\n",
        "for i in range(3):\n",
        "  sum3 +=board.item((i,i))\n",
        "print(sum3)"
      ],
      "execution_count": 101,
      "outputs": [
        {
          "output_type": "stream",
          "text": [
            "2\n"
          ],
          "name": "stdout"
        }
      ]
    },
    {
      "cell_type": "markdown",
      "metadata": {
        "id": "aTiAGIW54Nxj",
        "colab_type": "text"
      },
      "source": [
        "4th"
      ]
    },
    {
      "cell_type": "code",
      "metadata": {
        "id": "cSfTeyH74OxD",
        "colab_type": "code",
        "colab": {
          "base_uri": "https://localhost:8080/",
          "height": 34
        },
        "outputId": "78575fb2-dcff-438f-8b86-3e97f7e43a94"
      },
      "source": [
        "sum4= 0\n",
        "for i in range(3):\n",
        "  sum4 +=board.item((i,1))\n",
        "print(sum4)"
      ],
      "execution_count": 102,
      "outputs": [
        {
          "output_type": "stream",
          "text": [
            "1\n"
          ],
          "name": "stdout"
        }
      ]
    },
    {
      "cell_type": "markdown",
      "metadata": {
        "id": "PkqsM3zT4Wsb",
        "colab_type": "text"
      },
      "source": [
        "5th"
      ]
    },
    {
      "cell_type": "code",
      "metadata": {
        "id": "gZgDycLw4Xvj",
        "colab_type": "code",
        "colab": {
          "base_uri": "https://localhost:8080/",
          "height": 34
        },
        "outputId": "3e4a9ebf-eb6c-4f18-ffab-7ea7fe603d74"
      },
      "source": [
        "sum5= 0\n",
        "for i in range(3):\n",
        "  sum5 +=board.item((i,2-i))\n",
        "print(sum5)"
      ],
      "execution_count": 103,
      "outputs": [
        {
          "output_type": "stream",
          "text": [
            "2\n"
          ],
          "name": "stdout"
        }
      ]
    },
    {
      "cell_type": "markdown",
      "metadata": {
        "id": "9Ng5xPob4vEV",
        "colab_type": "text"
      },
      "source": [
        "6th"
      ]
    },
    {
      "cell_type": "code",
      "metadata": {
        "id": "LN-RoHh-4hG8",
        "colab_type": "code",
        "colab": {
          "base_uri": "https://localhost:8080/",
          "height": 34
        },
        "outputId": "bd51c53d-5f0e-47af-990c-5f9ff0b7d3e9"
      },
      "source": [
        "sum6= 0\n",
        "for i in range(3):\n",
        "  sum6 +=board.item((i,2))\n",
        "print(sum6)"
      ],
      "execution_count": 104,
      "outputs": [
        {
          "output_type": "stream",
          "text": [
            "3\n"
          ],
          "name": "stdout"
        }
      ]
    },
    {
      "cell_type": "markdown",
      "metadata": {
        "id": "cKHXqo5M43Zc",
        "colab_type": "text"
      },
      "source": [
        "7th"
      ]
    },
    {
      "cell_type": "code",
      "metadata": {
        "id": "HBvDiMZA44zs",
        "colab_type": "code",
        "colab": {
          "base_uri": "https://localhost:8080/",
          "height": 34
        },
        "outputId": "443f234e-b2f4-42b0-abc3-140061d95ff0"
      },
      "source": [
        "sum7= 0\n",
        "for i in range(3):\n",
        "  sum7 +=board.item((1,i))\n",
        "print(sum7)"
      ],
      "execution_count": 105,
      "outputs": [
        {
          "output_type": "stream",
          "text": [
            "3\n"
          ],
          "name": "stdout"
        }
      ]
    },
    {
      "cell_type": "markdown",
      "metadata": {
        "id": "5FdrF4hb5n_z",
        "colab_type": "text"
      },
      "source": [
        "8th"
      ]
    },
    {
      "cell_type": "code",
      "metadata": {
        "id": "QEMYMtyU5nS-",
        "colab_type": "code",
        "colab": {
          "base_uri": "https://localhost:8080/",
          "height": 34
        },
        "outputId": "4a3e9747-43bc-4bd6-8d18-7bb066bb93aa"
      },
      "source": [
        "sum8= 0\n",
        "for i in range(3):\n",
        "  sum8 +=board.item((2,i))\n",
        "print(sum8)"
      ],
      "execution_count": 106,
      "outputs": [
        {
          "output_type": "stream",
          "text": [
            "3\n"
          ],
          "name": "stdout"
        }
      ]
    },
    {
      "cell_type": "markdown",
      "metadata": {
        "id": "_u3-tuNi6DOe",
        "colab_type": "text"
      },
      "source": [
        "check if sums have ans 3 or 6"
      ]
    },
    {
      "cell_type": "code",
      "metadata": {
        "id": "GxO7fHqD6Gkt",
        "colab_type": "code",
        "colab": {
          "base_uri": "https://localhost:8080/",
          "height": 34
        },
        "outputId": "eb4e16b5-e61c-4a61-de74-0182c63a8814"
      },
      "source": [
        "if (sum1==0 or sum2==0 or sum3==0 or sum4==0 or sum5==0 or sum6==0 or sum7==0 or sum8==0) :\n",
        "  print('X won')\n",
        "elif(sum1==6 or sum2==6 or sum3==6 or sum4==6 or sum5==6 or sum6==6 or sum7==6 or sum8==6):\n",
        "  print('O won')\n",
        "elif (sum1<3 or sum2<3 or sum3<3 or sum4<3 or sum5<3 or sum6<3 or sum7<3 or sum8<3) :\n",
        "  print('game still left')\n",
        "else:\n",
        "  print('draw')"
      ],
      "execution_count": 108,
      "outputs": [
        {
          "output_type": "stream",
          "text": [
            "game still left\n"
          ],
          "name": "stdout"
        }
      ]
    },
    {
      "cell_type": "code",
      "metadata": {
        "id": "RsZko_aZJ-Gm",
        "colab_type": "code",
        "colab": {
          "base_uri": "https://localhost:8080/",
          "height": 34
        },
        "outputId": "ca79fb5b-0071-4c58-c20f-d1152a9802a6"
      },
      "source": [
        "any(1 in sub for sub in board)"
      ],
      "execution_count": 109,
      "outputs": [
        {
          "output_type": "execute_result",
          "data": {
            "text/plain": [
              "True"
            ]
          },
          "metadata": {
            "tags": []
          },
          "execution_count": 109
        }
      ]
    }
  ]
}