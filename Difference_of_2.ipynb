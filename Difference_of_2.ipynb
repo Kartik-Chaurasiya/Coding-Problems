{
  "nbformat": 4,
  "nbformat_minor": 0,
  "metadata": {
    "colab": {
      "name": "Difference of 2.ipynb",
      "provenance": [],
      "authorship_tag": "ABX9TyNSE6sld1zTF5s87O0vymR2",
      "include_colab_link": true
    },
    "kernelspec": {
      "name": "python3",
      "display_name": "Python 3"
    }
  },
  "cells": [
    {
      "cell_type": "markdown",
      "metadata": {
        "id": "view-in-github",
        "colab_type": "text"
      },
      "source": [
        "<a href=\"https://colab.research.google.com/github/Syntax-code/Codes/blob/master/Difference_of_2.ipynb\" target=\"_parent\"><img src=\"https://colab.research.google.com/assets/colab-badge.svg\" alt=\"Open In Colab\"/></a>"
      ]
    },
    {
      "cell_type": "markdown",
      "metadata": {
        "id": "M_j3a15B4gZv",
        "colab_type": "text"
      },
      "source": [
        "The objective is to return all pairs of integers from a given collection of integers that have a difference of 2.\n",
        "\n",
        "The result should be sorted in ascending order.\n",
        "\n",
        "The input will consist of unique values. The order of the integers in the input collection should not matter.\n",
        "\n",
        "Examples\n",
        "[1, 2, 3, 4]      -->  [[1, 3], [2, 4]]\n",
        "\n",
        "[4, 1, 2, 3]      -->  [[1, 3], [2, 4]]"
      ]
    },
    {
      "cell_type": "code",
      "metadata": {
        "id": "Xs2WMu5PAI7U",
        "colab_type": "code",
        "colab": {}
      },
      "source": [
        "def twos_difference(lst):\n",
        "  ans = []\n",
        "  lst.sort()\n",
        "  for n in lst:\n",
        "    f = n+2\n",
        "    if f in lst:\n",
        "      ans.append((n,f))\n",
        "  return(ans)"
      ],
      "execution_count": 0,
      "outputs": []
    },
    {
      "cell_type": "code",
      "metadata": {
        "id": "q4rsv5VdAP2E",
        "colab_type": "code",
        "outputId": "85b909bf-0d64-4d83-d7aa-03bb36379445",
        "colab": {
          "base_uri": "https://localhost:8080/",
          "height": 34
        }
      },
      "source": [
        "print(twos_difference([1, 3, 5, 6, 8, 10, 15, 32, 12, 14, 56]))"
      ],
      "execution_count": 16,
      "outputs": [
        {
          "output_type": "stream",
          "text": [
            "[(1, 3), (3, 5), (6, 8), (8, 10), (10, 12), (12, 14)]\n"
          ],
          "name": "stdout"
        }
      ]
    }
  ]
}