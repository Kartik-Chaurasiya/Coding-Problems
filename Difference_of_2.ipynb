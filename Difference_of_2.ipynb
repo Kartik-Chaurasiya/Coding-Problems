{
  "nbformat": 4,
  "nbformat_minor": 0,
  "metadata": {
    "colab": {
      "name": "Difference of 2.ipynb",
      "provenance": [],
      "authorship_tag": "ABX9TyPKX14giTehmQANsEbwzM+q",
      "include_colab_link": true
    },
    "kernelspec": {
      "name": "python3",
      "display_name": "Python 3"
    }
  },
  "cells": [
    {
      "cell_type": "markdown",
      "metadata": {
        "id": "view-in-github",
        "colab_type": "text"
      },
      "source": [
        "<a href=\"https://colab.research.google.com/github/Syntax-code/Codes/blob/master/Difference_of_2.ipynb\" target=\"_parent\"><img src=\"https://colab.research.google.com/assets/colab-badge.svg\" alt=\"Open In Colab\"/></a>"
      ]
    },
    {
      "cell_type": "code",
      "metadata": {
        "id": "nVpKipY09Kww",
        "colab_type": "code",
        "colab": {}
      },
      "source": [
        "n = (2,3)\n",
        "m = (4,5)\n",
        "l = []"
      ],
      "execution_count": 0,
      "outputs": []
    },
    {
      "cell_type": "code",
      "metadata": {
        "id": "KuelDfhJ_2EG",
        "colab_type": "code",
        "colab": {
          "base_uri": "https://localhost:8080/",
          "height": 34
        },
        "outputId": "6d23b27f-57da-4aaa-e263-6b5d70760d41"
      },
      "source": [
        "l.append(n)\n",
        "print(l)"
      ],
      "execution_count": 2,
      "outputs": [
        {
          "output_type": "stream",
          "text": [
            "[(2, 3)]\n"
          ],
          "name": "stdout"
        }
      ]
    },
    {
      "cell_type": "code",
      "metadata": {
        "id": "Xs2WMu5PAI7U",
        "colab_type": "code",
        "colab": {}
      },
      "source": [
        "def twos_difference(lst):\n",
        "  lo = [x for x in l if (x % 2 != 0)]\n",
        "  le = [x for x in l if (x % 2 == 0)]\n",
        "  for n in lst:\n",
        "    if n%2 == 0:\n",
        "      nl = [x for x in le if (x!=n)]\n",
        "    if n%2 != 0:\n",
        "      nl = [x for x in lo if (x!=n)]\n",
        "    for nn in  nl:\n",
        "\n",
        "\n"
      ],
      "execution_count": 0,
      "outputs": []
    },
    {
      "cell_type": "code",
      "metadata": {
        "id": "q4rsv5VdAP2E",
        "colab_type": "code",
        "colab": {
          "base_uri": "https://localhost:8080/",
          "height": 84
        },
        "outputId": "1003582a-4e4c-401c-b080-f5380a6de698"
      },
      "source": [
        "twos_difference([1, 2, 3, 4])"
      ],
      "execution_count": 11,
      "outputs": [
        {
          "output_type": "stream",
          "text": [
            "1\n",
            "2\n",
            "3\n",
            "4\n"
          ],
          "name": "stdout"
        }
      ]
    },
    {
      "cell_type": "code",
      "metadata": {
        "id": "pnWSfnKQBZWd",
        "colab_type": "code",
        "colab": {
          "base_uri": "https://localhost:8080/",
          "height": 34
        },
        "outputId": "b0518061-64ff-48c8-f0b7-b58565ce6677"
      },
      "source": [
        "l = [1, 2, 3, 4]\n",
        "y = 1\n",
        "l = [x for x in l if (x % 2 != 0) and (x!=y)]\n",
        "print(l)"
      ],
      "execution_count": 14,
      "outputs": [
        {
          "output_type": "stream",
          "text": [
            "[3]\n"
          ],
          "name": "stdout"
        }
      ]
    }
  ]
}