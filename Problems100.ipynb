{
  "nbformat": 4,
  "nbformat_minor": 0,
  "metadata": {
    "colab": {
      "name": "Problems100.ipynb",
      "provenance": [],
      "authorship_tag": "ABX9TyMRv6ibDhBoI8ShMWtuvdB/",
      "include_colab_link": true
    },
    "kernelspec": {
      "name": "python3",
      "display_name": "Python 3"
    }
  },
  "cells": [
    {
      "cell_type": "markdown",
      "metadata": {
        "id": "view-in-github",
        "colab_type": "text"
      },
      "source": [
        "<a href=\"https://colab.research.google.com/github/Syntax-code/Codes/blob/master/Problems100.ipynb\" target=\"_parent\"><img src=\"https://colab.research.google.com/assets/colab-badge.svg\" alt=\"Open In Colab\"/></a>"
      ]
    },
    {
      "cell_type": "markdown",
      "metadata": {
        "id": "uio65OFydYWr"
      },
      "source": [
        "# 100 doors"
      ]
    },
    {
      "cell_type": "markdown",
      "metadata": {
        "id": "jG5BeAuEdUnr"
      },
      "source": [
        "There are 100 doors in a row that are all initially closed.\r\n",
        "\r\n",
        "You make 100 passes by the doors.\r\n",
        "\r\n",
        "The first time through, visit every door and  toggle  the door  (if the door is closed,  open it;   if it is open,  close it).\r\n",
        "\r\n",
        "The second time, only visit every 2nd door   (door #2, #4, #6, ...),   and toggle it.\r\n",
        "\r\n",
        "The third time, visit every 3rd door   (door #3, #6, #9, ...), etc,   until you only visit the 100th door.\r\n",
        "\r\n",
        "http://rosettacode.org//wiki/100_doors#Python"
      ]
    },
    {
      "cell_type": "code",
      "metadata": {
        "colab": {
          "base_uri": "https://localhost:8080/"
        },
        "id": "fAw4yg3LdP-v",
        "outputId": "e6cad850-bfbc-41b5-be74-c5281c876e9e"
      },
      "source": [
        "doors = [0] * 100\r\n",
        "for x in range(100):\r\n",
        "  for y in range(x, 100, x + 1):\r\n",
        "    if (doors[y] == 0):\r\n",
        "      doors[y] = 1\r\n",
        "    else :\r\n",
        "       doors[y] = 0\r\n",
        "for x in range(100):\r\n",
        "  if doors[x] == 1:\r\n",
        "    print(x)  "
      ],
      "execution_count": 23,
      "outputs": [
        {
          "output_type": "stream",
          "text": [
            "0\n",
            "3\n",
            "8\n",
            "15\n",
            "24\n",
            "35\n",
            "48\n",
            "63\n",
            "80\n",
            "99\n"
          ],
          "name": "stdout"
        }
      ]
    },
    {
      "cell_type": "code",
      "metadata": {
        "colab": {
          "base_uri": "https://localhost:8080/"
        },
        "id": "vRDIUeaqfzab",
        "outputId": "58c28c26-b70d-4bf7-e065-0212ccaf763a"
      },
      "source": [
        "import math\r\n",
        "doors = [0] * 100\r\n",
        "for x in range(10):\r\n",
        "  doors[x * x - 1] = 1\r\n",
        "for x in range(100):\r\n",
        "  if doors[x] == 1:\r\n",
        "    print(x)"
      ],
      "execution_count": 27,
      "outputs": [
        {
          "output_type": "stream",
          "text": [
            "0\n",
            "3\n",
            "8\n",
            "15\n",
            "24\n",
            "35\n",
            "48\n",
            "63\n",
            "80\n",
            "99\n"
          ],
          "name": "stdout"
        }
      ]
    }
  ]
}