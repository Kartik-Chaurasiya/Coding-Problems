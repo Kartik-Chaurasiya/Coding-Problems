{
  "nbformat": 4,
  "nbformat_minor": 0,
  "metadata": {
    "colab": {
      "name": "Problems100.ipynb",
      "provenance": [],
      "collapsed_sections": [
        "uio65OFydYWr"
      ],
      "authorship_tag": "ABX9TyODTxkJAc9upGuJKYALxazp",
      "include_colab_link": true
    },
    "kernelspec": {
      "name": "python3",
      "display_name": "Python 3"
    }
  },
  "cells": [
    {
      "cell_type": "markdown",
      "metadata": {
        "id": "view-in-github",
        "colab_type": "text"
      },
      "source": [
        "<a href=\"https://colab.research.google.com/github/Syntax-code/Codes/blob/master/Problems100.ipynb\" target=\"_parent\"><img src=\"https://colab.research.google.com/assets/colab-badge.svg\" alt=\"Open In Colab\"/></a>"
      ]
    },
    {
      "cell_type": "markdown",
      "metadata": {
        "id": "uio65OFydYWr"
      },
      "source": [
        "# 100 doors"
      ]
    },
    {
      "cell_type": "markdown",
      "metadata": {
        "id": "jG5BeAuEdUnr"
      },
      "source": [
        "There are 100 doors in a row that are all initially closed.\r\n",
        "\r\n",
        "You make 100 passes by the doors.\r\n",
        "\r\n",
        "The first time through, visit every door and  toggle  the door  (if the door is closed,  open it;   if it is open,  close it).\r\n",
        "\r\n",
        "The second time, only visit every 2nd door   (door #2, #4, #6, ...),   and toggle it.\r\n",
        "\r\n",
        "The third time, visit every 3rd door   (door #3, #6, #9, ...), etc,   until you only visit the 100th door.\r\n",
        "\r\n",
        "http://rosettacode.org//wiki/100_doors#Python"
      ]
    },
    {
      "cell_type": "code",
      "metadata": {
        "id": "fAw4yg3LdP-v"
      },
      "source": [
        "doors = [0] * 100\r\n",
        "for x in range(100):\r\n",
        "  for y in range(x, 100, x + 1):\r\n",
        "    if (doors[y] == 0):\r\n",
        "      doors[y] = 1\r\n",
        "    else :\r\n",
        "       doors[y] = 0\r\n",
        "for x in range(100):\r\n",
        "  if doors[x] == 1:\r\n",
        "    print(x)  "
      ],
      "execution_count": null,
      "outputs": []
    },
    {
      "cell_type": "markdown",
      "metadata": {
        "id": "gBqQWby4w48e"
      },
      "source": [
        "Making only the perfect squares 1 rest all are unchanged."
      ]
    },
    {
      "cell_type": "code",
      "metadata": {
        "id": "vRDIUeaqfzab"
      },
      "source": [
        "import math\r\n",
        "doors = [0] * 100\r\n",
        "for x in range(10):\r\n",
        "  doors[x * x - 1] = 1\r\n",
        "for x in range(100):\r\n",
        "  if doors[x] == 1:\r\n",
        "    print(x)"
      ],
      "execution_count": null,
      "outputs": []
    },
    {
      "cell_type": "markdown",
      "metadata": {
        "id": "TKjYPM4jxGk-"
      },
      "source": [
        "#24 game"
      ]
    },
    {
      "cell_type": "markdown",
      "metadata": {
        "id": "gRIedfOWxMDN"
      },
      "source": [
        "Write a program that randomly chooses and displays four digits, each from 1 ──► 9 (inclusive) with repetitions allowed.\r\n",
        "\r\n",
        "The program should prompt for the player to enter an arithmetic expression using just those, and all of those four digits, used exactly once each. The program should check then evaluate the expression.\r\n",
        "\r\n",
        "The goal is for the player to enter an expression that (numerically) evaluates to 24.\r\n",
        "\r\n",
        "Only the following operators/functions are allowed: multiplication, division, addition, subtraction\r\n",
        "Division should use floating point or rational arithmetic, etc, to preserve remainders.\r\n",
        "Brackets are allowed, if using an infix expression evaluator.\r\n",
        "Forming multiple digit numbers from the supplied digits is disallowed. (So an answer of 12+12 when given 1, 2, 2, and 1 is wrong).\r\n",
        "The order of the digits when given does not have to be preserved."
      ]
    },
    {
      "cell_type": "code",
      "metadata": {
        "id": "tGh4x7C5xJSO"
      },
      "source": [
        "import random"
      ],
      "execution_count": 1,
      "outputs": []
    },
    {
      "cell_type": "code",
      "metadata": {
        "id": "PkbSf-suxfPn"
      },
      "source": [
        "def create_nums():\r\n",
        "  nums = []\r\n",
        "  for x in range(4):\r\n",
        "    nums.append(random.randint(1,9))\r\n",
        "  return nums"
      ],
      "execution_count": 5,
      "outputs": []
    },
    {
      "cell_type": "code",
      "metadata": {
        "id": "l3iydu6L2K0N"
      },
      "source": [
        "def evaluate(expression):\r\n",
        "  exp = []\r\n",
        "  for char in expression:\r\n",
        "    exp.append(char)\r\n",
        "  print(exp)"
      ],
      "execution_count": 24,
      "outputs": []
    },
    {
      "cell_type": "code",
      "metadata": {
        "colab": {
          "base_uri": "https://localhost:8080/"
        },
        "id": "-ITIo2CuxtKy",
        "outputId": "07299bd9-47fe-4757-802a-c001ce0733f3"
      },
      "source": [
        "print(\"Given 4 digits [1-9], use operators '+', '-', '/', '*', '()', use them to evaluate the sum of 24.\")\r\n",
        "print('An answer of 12+12 when given 1, 2, 2, and 1 is wrong')\r\n",
        "print(\"If Not possible give input as '!', for new set of digits\")\r\n",
        "game_status = input(\"Press 's' to start the game: \")\r\n",
        "if (game_status == 's'):\r\n",
        "  nums = create_nums()\r\n",
        "  print(\"The digits are {}, {}, {}, {}\".format(nums[0], nums[1], nums[2], nums[3]))\r\n",
        "  expression = input(\"Enter Your expression: \")\r\n",
        "  evaluate(expression)"
      ],
      "execution_count": 25,
      "outputs": [
        {
          "output_type": "stream",
          "text": [
            "Given 4 digits [1-9], use operators '+', '-', '/', '*', '()', use them to evaluate the sum of 24.\n",
            "An answer of 12+12 when given 1, 2, 2, and 1 is wrong\n",
            "If Not possible give input as '!', for new set of digits\n",
            "Press 's' to start the game: s\n",
            "The digits are 6, 6, 2, 4\n",
            "Enter Your expression: 2+3+4+5\n",
            "['2', '+', '3', '+', '4', '+', '5']\n"
          ],
          "name": "stdout"
        }
      ]
    }
  ]
}