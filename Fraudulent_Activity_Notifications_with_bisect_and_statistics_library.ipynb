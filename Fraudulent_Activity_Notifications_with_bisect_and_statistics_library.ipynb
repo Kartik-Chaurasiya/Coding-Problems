{
  "nbformat": 4,
  "nbformat_minor": 0,
  "metadata": {
    "colab": {
      "name": "Fraudulent Activity Notifications with bisect and statistics library",
      "provenance": [],
      "authorship_tag": "ABX9TyOk8C+8yCJwIgeF/mbRJx0i",
      "include_colab_link": true
    },
    "kernelspec": {
      "name": "python3",
      "display_name": "Python 3"
    }
  },
  "cells": [
    {
      "cell_type": "markdown",
      "metadata": {
        "id": "view-in-github",
        "colab_type": "text"
      },
      "source": [
        "<a href=\"https://colab.research.google.com/github/Syntax-code/Codes/blob/master/Fraudulent_Activity_Notifications_with_bisect_and_statistics_library.ipynb\" target=\"_parent\"><img src=\"https://colab.research.google.com/assets/colab-badge.svg\" alt=\"Open In Colab\"/></a>"
      ]
    },
    {
      "cell_type": "code",
      "metadata": {
        "id": "RC_qXWmpjJQH",
        "colab_type": "code",
        "colab": {}
      },
      "source": [
        "n, d = int(input().strip())\n",
        "arr = input().strip().split()\n",
        "for i in range(len(arr)):\n",
        "    arr[i] = int(arr[i])"
      ],
      "execution_count": null,
      "outputs": []
    },
    {
      "cell_type": "markdown",
      "metadata": {
        "id": "W46ZHYn0q4as",
        "colab_type": "text"
      },
      "source": [
        "#Statistics Library"
      ]
    },
    {
      "cell_type": "code",
      "metadata": {
        "id": "qKOHLNTSutf3",
        "colab_type": "code",
        "colab": {}
      },
      "source": [
        "import statistics"
      ],
      "execution_count": null,
      "outputs": []
    },
    {
      "cell_type": "code",
      "metadata": {
        "id": "_SxRvF8mulq4",
        "colab_type": "code",
        "colab": {
          "base_uri": "https://localhost:8080/",
          "height": 34
        },
        "outputId": "b2fa4140-4884-4dbc-e1d3-15e777727f81"
      },
      "source": [
        "arr1 = [1,2,3,4,5]\n",
        "arr2 = [1,2,3,4]\n",
        "arr = [arr1, arr2]\n",
        "m = [statistics.median(x) for x in arr]\n",
        "print(m)"
      ],
      "execution_count": null,
      "outputs": [
        {
          "output_type": "stream",
          "text": [
            "[3, 2.5]\n"
          ],
          "name": "stdout"
        }
      ]
    },
    {
      "cell_type": "markdown",
      "metadata": {
        "id": "L_mmKxp6nBAC",
        "colab_type": "text"
      },
      "source": [
        "#CODE"
      ]
    },
    {
      "cell_type": "code",
      "metadata": {
        "id": "qN2ayfz6p-V3",
        "colab_type": "code",
        "colab": {}
      },
      "source": [
        "def median(listD, d):\n",
        "  return listD[d//2] if d%2 == 1 else ((listD[d//2] + listD[d//2-1])/2)"
      ],
      "execution_count": null,
      "outputs": []
    },
    {
      "cell_type": "code",
      "metadata": {
        "id": "A3mxX2Rfpf0F",
        "colab_type": "code",
        "colab": {}
      },
      "source": [
        "def activityNotifications(arr, d):\n",
        "  noti = 0\n",
        "  listD = sorted(arr[:d])\n",
        "  for i in range(d,len(arr)):\n",
        "    if arr[i] >= 2*median(listD, d): noti += 1\n",
        "    del listD[bisect_left(listD, arr[i-d])]\n",
        "    insort_left(listD, arr[i])\n",
        "  print(noti)"
      ],
      "execution_count": null,
      "outputs": []
    },
    {
      "cell_type": "code",
      "metadata": {
        "id": "xKpW5tDZwYHq",
        "colab_type": "code",
        "colab": {
          "base_uri": "https://localhost:8080/",
          "height": 67
        },
        "outputId": "65e88d6e-67ad-4c03-f0cf-ac598c372825"
      },
      "source": [
        "from bisect import bisect_left, insort_left\n",
        "arr1 = [2, 3, 4, 2, 3, 6, 8, 4, 5]\n",
        "arr2 = [1,2,3,4,4]\n",
        "arr3 = [10,20,30,40,50]\n",
        "d2 = 4\n",
        "d3 = 3\n",
        "d1 = 5 \n",
        "arr = [(arr1, d1), (arr2, d2), (arr3, d3)]\n",
        "for ar in arr:\n",
        "  activityNotifications(ar[0], ar[1])"
      ],
      "execution_count": null,
      "outputs": [
        {
          "output_type": "stream",
          "text": [
            "2\n",
            "0\n",
            "1\n"
          ],
          "name": "stdout"
        }
      ]
    },
    {
      "cell_type": "markdown",
      "metadata": {
        "id": "mibj-5r1qvHs",
        "colab_type": "text"
      },
      "source": [
        "#Bisect Algorithm Functions in Python\n",
        "\n",
        "<h2> bisect(list, num, beg, end)"
      ]
    },
    {
      "cell_type": "markdown",
      "metadata": {
        "id": "tW98lcT7tizI",
        "colab_type": "text"
      },
      "source": [
        "The purpose of Bisect algorithm is to find a position in list where an element needs to be inserted to keep the list sorted."
      ]
    },
    {
      "cell_type": "code",
      "metadata": {
        "id": "dofbm0IopkpS",
        "colab_type": "code",
        "colab": {
          "base_uri": "https://localhost:8080/",
          "height": 67
        },
        "outputId": "4cb60327-faf9-46ae-c8a2-08f80c667e7e"
      },
      "source": [
        "# Python code to demonstrate the working of \n",
        "# bisect(), bisect_left() and bisect_right() \n",
        "  \n",
        "# importing \"bisect\" for bisection operations \n",
        "import bisect \n",
        "  \n",
        "# initializing list \n",
        "li = [1, 3, 4, 4, 4, 6, 7] \n",
        "  \n",
        "# using bisect() to find index to insert new element \n",
        "# returns 5 ( right most possible index ) \n",
        "print (\"The rightmost index to insert, so list remains sorted is  : \", end=\"\") \n",
        "print (bisect.bisect(li, 4)) \n",
        "  \n",
        "# using bisect_left() to find index to insert new element \n",
        "# returns 2 ( left most possible index ) \n",
        "print (\"The leftmost index to insert, so list remains sorted is  : \", end=\"\") \n",
        "print (bisect.bisect_left(li, 4)) \n",
        "  \n",
        "# using bisect_right() to find index to insert new element \n",
        "# returns 4 ( right most possible index ) \n",
        "print (\"The rightmost index to insert, so list remains sorted is  : \", end=\"\") \n",
        "print (bisect.bisect_right(li, 4, 0, 4)) "
      ],
      "execution_count": null,
      "outputs": [
        {
          "output_type": "stream",
          "text": [
            "The rightmost index to insert, so list remains sorted is  : 5\n",
            "The leftmost index to insert, so list remains sorted is  : 2\n",
            "The rightmost index to insert, so list remains sorted is  : 4\n"
          ],
          "name": "stdout"
        }
      ]
    },
    {
      "cell_type": "code",
      "metadata": {
        "id": "AHRnZ3rYr_IR",
        "colab_type": "code",
        "colab": {
          "base_uri": "https://localhost:8080/",
          "height": 118
        },
        "outputId": "de008625-e81f-4add-9201-80a5b5defee9"
      },
      "source": [
        "# Python code to demonstrate the working of \n",
        "# insort(), insort_left() and insort_right() \n",
        "\n",
        "# importing \"bisect\" for bisection operations \n",
        "import bisect \n",
        "\n",
        "# initializing list \n",
        "li1 = [1, 3, 4, 4, 4, 6, 7] \n",
        "\n",
        "# initializing list \n",
        "li2 = [1, 3, 4, 4, 4, 6, 7] \n",
        "\n",
        "# initializing list \n",
        "li3 = [1, 3, 4, 4, 4, 6, 7] \n",
        "\n",
        "# using insort() to insert 5 at appropriate position \n",
        "# inserts at 6th position \n",
        "bisect.insort(li1, 5) \n",
        "\n",
        "print (\"The list after inserting new element using insort() is : \") \n",
        "for i in range(0, 7): \n",
        "\tprint(li1[i], end=\" \") \n",
        "\n",
        "# using insort_left() to insert 5 at appropriate position \n",
        "# inserts at 6th position \n",
        "bisect.insort_left(li2, 5) \n",
        "\n",
        "print(\"\\r\") \n",
        "\n",
        "print (\"The list after inserting new element using insort_left() is : \") \n",
        "for i in range(0, 7): \n",
        "\tprint(li2[i], end=\" \") \n",
        "\n",
        "print(\"\\r\") \n",
        "\n",
        "# using insort_right() to insert 5 at appropriate position \n",
        "# inserts at 5th position \n",
        "bisect.insort_right(li3, 5, 0, 4) \n",
        "\n",
        "print (\"The list after inserting new element using insort_right() is : \") \n",
        "for i in range(0, 7): \n",
        "\tprint(li3[i], end=\" \") \n"
      ],
      "execution_count": null,
      "outputs": [
        {
          "output_type": "stream",
          "text": [
            "The list after inserting new element using insort() is : \n",
            "1 3 4 4 4 5 6 \r\n",
            "The list after inserting new element using insort_left() is : \n",
            "1 3 4 4 4 5 6 \r\n",
            "The list after inserting new element using insort_right() is : \n",
            "1 3 4 4 5 4 6 "
          ],
          "name": "stdout"
        }
      ]
    },
    {
      "cell_type": "code",
      "metadata": {
        "id": "GaquCBjJtxr7",
        "colab_type": "code",
        "colab": {}
      },
      "source": [
        "li = [1,2,3,4,5]"
      ],
      "execution_count": null,
      "outputs": []
    },
    {
      "cell_type": "code",
      "metadata": {
        "id": "WuV1emSntLXz",
        "colab_type": "code",
        "colab": {
          "base_uri": "https://localhost:8080/",
          "height": 50
        },
        "outputId": "acd4c8bf-6c1d-42b0-855c-619cb96e75c4"
      },
      "source": [
        "print(bisect.bisect(li, 3)) \n",
        "li"
      ],
      "execution_count": null,
      "outputs": [
        {
          "output_type": "stream",
          "text": [
            "3\n"
          ],
          "name": "stdout"
        },
        {
          "output_type": "execute_result",
          "data": {
            "text/plain": [
              "[1, 2, 3, 4, 5]"
            ]
          },
          "metadata": {
            "tags": []
          },
          "execution_count": 55
        }
      ]
    },
    {
      "cell_type": "code",
      "metadata": {
        "id": "saaPal9fsVdR",
        "colab_type": "code",
        "colab": {
          "base_uri": "https://localhost:8080/",
          "height": 34
        },
        "outputId": "b9b60481-2a17-47e3-9315-3895dab710e7"
      },
      "source": [
        "print(bisect.bisect_left(li, 3)) "
      ],
      "execution_count": null,
      "outputs": [
        {
          "output_type": "stream",
          "text": [
            "2\n"
          ],
          "name": "stdout"
        }
      ]
    },
    {
      "cell_type": "code",
      "metadata": {
        "id": "2q1YBX9VtR1k",
        "colab_type": "code",
        "colab": {
          "base_uri": "https://localhost:8080/",
          "height": 34
        },
        "outputId": "51f70035-c168-43d7-8fff-f1e546d312d3"
      },
      "source": [
        "print(bisect.bisect_right(li, 3)) "
      ],
      "execution_count": null,
      "outputs": [
        {
          "output_type": "stream",
          "text": [
            "3\n"
          ],
          "name": "stdout"
        }
      ]
    },
    {
      "cell_type": "code",
      "metadata": {
        "id": "lwSxngj8sgWY",
        "colab_type": "code",
        "colab": {
          "base_uri": "https://localhost:8080/",
          "height": 34
        },
        "outputId": "8360f18d-09c5-4ef5-9e33-3d1887c3aa0c"
      },
      "source": [
        "bisect.insort(li, 3)\n",
        "li"
      ],
      "execution_count": null,
      "outputs": [
        {
          "output_type": "execute_result",
          "data": {
            "text/plain": [
              "[1, 2, 3, 3, 4, 5]"
            ]
          },
          "metadata": {
            "tags": []
          },
          "execution_count": 51
        }
      ]
    },
    {
      "cell_type": "code",
      "metadata": {
        "id": "jsMfiF4yt0gZ",
        "colab_type": "code",
        "colab": {
          "base_uri": "https://localhost:8080/",
          "height": 34
        },
        "outputId": "c3188d37-824b-4d05-dc46-b48c74094966"
      },
      "source": [
        "li = [1,2,3,4,2,5,6]\n",
        "bisect.insort_left(li, 3)\n",
        "li"
      ],
      "execution_count": null,
      "outputs": [
        {
          "output_type": "execute_result",
          "data": {
            "text/plain": [
              "[1, 2, 3, 3, 4, 2, 5, 6]"
            ]
          },
          "metadata": {
            "tags": []
          },
          "execution_count": 64
        }
      ]
    },
    {
      "cell_type": "code",
      "metadata": {
        "id": "9S3rqd7zuNM7",
        "colab_type": "code",
        "colab": {
          "base_uri": "https://localhost:8080/",
          "height": 34
        },
        "outputId": "2af48f14-ace7-4ece-fb65-b313e435d496"
      },
      "source": [
        "li = [1,2,3,4,2,5,6]\n",
        "bisect.insort_right(li, 3)\n",
        "li"
      ],
      "execution_count": null,
      "outputs": [
        {
          "output_type": "execute_result",
          "data": {
            "text/plain": [
              "[1, 2, 3, 3, 4, 2, 5, 6]"
            ]
          },
          "metadata": {
            "tags": []
          },
          "execution_count": 65
        }
      ]
    }
  ]
}