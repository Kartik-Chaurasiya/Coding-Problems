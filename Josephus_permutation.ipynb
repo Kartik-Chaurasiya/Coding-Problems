{
  "nbformat": 4,
  "nbformat_minor": 0,
  "metadata": {
    "colab": {
      "name": "Josephus permutation.ipynb",
      "provenance": [],
      "authorship_tag": "ABX9TyM9L+Fg/CjIcSeb9TpCalUu",
      "include_colab_link": true
    },
    "kernelspec": {
      "name": "python3",
      "display_name": "Python 3"
    }
  },
  "cells": [
    {
      "cell_type": "markdown",
      "metadata": {
        "id": "view-in-github",
        "colab_type": "text"
      },
      "source": [
        "<a href=\"https://colab.research.google.com/github/Syntax-code/Codes/blob/master/Josephus_permutation.ipynb\" target=\"_parent\"><img src=\"https://colab.research.google.com/assets/colab-badge.svg\" alt=\"Open In Colab\"/></a>"
      ]
    },
    {
      "cell_type": "markdown",
      "metadata": {
        "id": "zu7cTvCChtVE",
        "colab_type": "text"
      },
      "source": [
        "<h1>Josephus permutation."
      ]
    },
    {
      "cell_type": "markdown",
      "metadata": {
        "id": "zne0wRBbh7P2",
        "colab_type": "text"
      },
      "source": [
        "Basically you have to assume that n people are put into a circle and that they are eliminated in steps of k elements, like this:\n",
        "\n",
        "josephus_survivor(7,3) => means 7 people in a circle;\n",
        "one every 3 is eliminated until one remains\n",
        "\n",
        "[1,2,3,4,5,6,7] - initial sequence\n",
        "\n",
        "[1,2,4,5,6,7] => 3 is counted out\n",
        "\n",
        "[1,2,4,5,7] => 6 is counted out\n",
        "\n",
        "[1,4,5,7] => 2 is counted out\n",
        "\n",
        "[1,4,5] => 7 is counted out\n",
        "\n",
        "[1,4] => 5 is counted out\n",
        "\n",
        "[4] => 1 counted out, 4 is the last element - the survivor!"
      ]
    },
    {
      "cell_type": "code",
      "metadata": {
        "id": "x6Jzka9h3xx7",
        "colab_type": "code",
        "colab": {}
      },
      "source": [
        "import pdb"
      ],
      "execution_count": 0,
      "outputs": []
    },
    {
      "cell_type": "code",
      "metadata": {
        "id": "kWtphwBGr8dc",
        "colab_type": "code",
        "colab": {}
      },
      "source": [
        "def create_arr(n):\n",
        "  l = []\n",
        "  for j in range(n+1):\n",
        "    if j == 0:\n",
        "      continue\n",
        "    l.append(j)\n",
        "  return l"
      ],
      "execution_count": 0,
      "outputs": []
    },
    {
      "cell_type": "code",
      "metadata": {
        "id": "iyfeYpSpspyq",
        "colab_type": "code",
        "colab": {
          "base_uri": "https://localhost:8080/",
          "height": 34
        },
        "outputId": "6f703432-cab8-43f6-bd10-6237bbe58581"
      },
      "source": [
        "print(create_arr(6))"
      ],
      "execution_count": 3,
      "outputs": [
        {
          "output_type": "stream",
          "text": [
            "[1, 2, 3, 4, 5, 6]\n"
          ],
          "name": "stdout"
        }
      ]
    },
    {
      "cell_type": "code",
      "metadata": {
        "id": "wrGTL5X-3OdV",
        "colab_type": "code",
        "colab": {
          "base_uri": "https://localhost:8080/",
          "height": 34
        },
        "outputId": "6419400d-a8e3-4d71-994a-81bb6e067f0c"
      },
      "source": [
        "print(len(create_arr(6)))"
      ],
      "execution_count": 4,
      "outputs": [
        {
          "output_type": "stream",
          "text": [
            "6\n"
          ],
          "name": "stdout"
        }
      ]
    },
    {
      "cell_type": "code",
      "metadata": {
        "id": "jYRw5QMshkAC",
        "colab_type": "code",
        "colab": {}
      },
      "source": [
        "def josephus_survivor(n,k):\n",
        "  arr = create_arr(n) \n",
        "  i = 0\n",
        "  j = 0\n",
        "  while len(arr) != 1:\n",
        "    if j == (len(arr)-1) and j !=1:\n",
        "        j = 0\n",
        "    for j in range(len(arr)) :\n",
        "      if (i == k):\n",
        "        arr.pop(j)\n",
        "      i += 1\n",
        "      if i == k:\n",
        "        i = 0\n",
        "  return arr\n",
        "      "
      ],
      "execution_count": 0,
      "outputs": []
    },
    {
      "cell_type": "code",
      "metadata": {
        "id": "ynQXABx32yUW",
        "colab_type": "code",
        "colab": {}
      },
      "source": [
        "josephus_survivor(7,3)"
      ],
      "execution_count": 0,
      "outputs": []
    }
  ]
}