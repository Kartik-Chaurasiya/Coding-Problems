{
  "nbformat": 4,
  "nbformat_minor": 0,
  "metadata": {
    "colab": {
      "name": "Josephus permutation.ipynb",
      "provenance": [],
      "authorship_tag": "ABX9TyNe1XGAnI1kTgkZ9fvAmBxo",
      "include_colab_link": true
    },
    "kernelspec": {
      "name": "python3",
      "display_name": "Python 3"
    }
  },
  "cells": [
    {
      "cell_type": "markdown",
      "metadata": {
        "id": "view-in-github",
        "colab_type": "text"
      },
      "source": [
        "<a href=\"https://colab.research.google.com/github/Syntax-code/Codes/blob/master/Josephus_permutation.ipynb\" target=\"_parent\"><img src=\"https://colab.research.google.com/assets/colab-badge.svg\" alt=\"Open In Colab\"/></a>"
      ]
    },
    {
      "cell_type": "markdown",
      "metadata": {
        "id": "zu7cTvCChtVE",
        "colab_type": "text"
      },
      "source": [
        "<h1>Josephus permutation."
      ]
    },
    {
      "cell_type": "markdown",
      "metadata": {
        "id": "zne0wRBbh7P2",
        "colab_type": "text"
      },
      "source": [
        "Basically you have to assume that n people are put into a circle and that they are eliminated in steps of k elements, like this:\n",
        "\n",
        "josephus_survivor(7,3) => means 7 people in a circle;\n",
        "one every 3 is eliminated until one remains\n",
        "\n",
        "[1,2,3,4,5,6,7] - initial sequence\n",
        "\n",
        "[1,2,4,5,6,7] => 3 is counted out\n",
        "\n",
        "[1,2,4,5,7] => 6 is counted out\n",
        "\n",
        "[1,4,5,7] => 2 is counted out\n",
        "\n",
        "[1,4,5] => 7 is counted out\n",
        "\n",
        "[1,4] => 5 is counted out\n",
        "\n",
        "[4] => 1 counted out, 4 is the last element - the survivor!"
      ]
    },
    {
      "cell_type": "code",
      "metadata": {
        "id": "jYRw5QMshkAC",
        "colab_type": "code",
        "colab": {}
      },
      "source": [
        "for i in range(10):\n",
        "  if i == 6:\n",
        "    break\n",
        "\n",
        "print(i) "
      ],
      "execution_count": 0,
      "outputs": []
    }
  ]
}