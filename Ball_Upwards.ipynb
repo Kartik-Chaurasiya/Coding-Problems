{
  "nbformat": 4,
  "nbformat_minor": 0,
  "metadata": {
    "colab": {
      "name": "Ball Upwards.ipynb",
      "provenance": [],
      "authorship_tag": "ABX9TyOosm+4jrMgPV4ATmMTAFWD",
      "include_colab_link": true
    },
    "kernelspec": {
      "name": "python3",
      "display_name": "Python 3"
    }
  },
  "cells": [
    {
      "cell_type": "markdown",
      "metadata": {
        "id": "view-in-github",
        "colab_type": "text"
      },
      "source": [
        "<a href=\"https://colab.research.google.com/github/Syntax-code/Codes/blob/master/Ball_Upwards.ipynb\" target=\"_parent\"><img src=\"https://colab.research.google.com/assets/colab-badge.svg\" alt=\"Open In Colab\"/></a>"
      ]
    },
    {
      "cell_type": "markdown",
      "metadata": {
        "id": "mvAVHt5rl-1a",
        "colab_type": "text"
      },
      "source": [
        "You throw a ball vertically upwards with an initial speed v (in km per hour). The height h of the ball at each time t is given by h = v*t - 0.5*g*t*t where g is Earth's gravity (g ~ 9.81 m/s**2). A device is recording at every tenth of second the height of the ball. For example with v = 15 km/h the device gets something of the following form: (0, 0.0), (1, 0.367...), (2, 0.637...), (3, 0.808...), (4, 0.881..) ... where the first number is the time in tenth of second and the second number the height in meter.\n",
        "\n",
        "Task\n",
        "Write a function max_ball with parameter v (in km per hour) that returns the time in tenth of second of the maximum height recorded by the device.\n",
        "\n",
        "Examples:\n",
        "max_ball(15) should return 4\n",
        "\n",
        "max_ball(25) should return 7\n",
        "\n",
        "Notes\n",
        "Remember to convert the velocity from km/h to m/s or from m/s in km/h when necessary.\n",
        "\n",
        "The maximum height recorded by the device is not necessarily the maximum height reached by the ball.\n"
      ]
    },
    {
      "cell_type": "code",
      "metadata": {
        "id": "AKUxiJPlmuAX",
        "colab_type": "code",
        "colab": {}
      },
      "source": [
        "def height(v, t):\n",
        "  return (v*t - 0.5*9.81*t**2)"
      ],
      "execution_count": null,
      "outputs": []
    },
    {
      "cell_type": "code",
      "metadata": {
        "id": "OpYCBUlVkw0v",
        "colab_type": "code",
        "colab": {}
      },
      "source": [
        "def max_ball(v0):\n",
        "  v = v0 * (5/18) \n",
        "  hp, hn = 0, 0\n",
        "  t = 0\n",
        "  for x in range(v0):\n",
        "    hp = height(v, t/10)\n",
        "    hn = height(v, (t+1)/10)\n",
        "    if hp > hn :\n",
        "      break\n",
        "    t += 1 \n",
        "  return t"
      ],
      "execution_count": null,
      "outputs": []
    },
    {
      "cell_type": "code",
      "metadata": {
        "id": "GUHnzLzYmFNo",
        "colab_type": "code",
        "colab": {
          "base_uri": "https://localhost:8080/",
          "height": 33
        },
        "outputId": "56ad81d0-7fc2-4e80-f4c4-f18bcba0dab4"
      },
      "source": [
        "print(max_ball(15))"
      ],
      "execution_count": null,
      "outputs": [
        {
          "output_type": "stream",
          "text": [
            "4\n"
          ],
          "name": "stdout"
        }
      ]
    },
    {
      "cell_type": "markdown",
      "metadata": {
        "id": "PVW0Nb08yOVn",
        "colab_type": "text"
      },
      "source": [
        "I am not sane"
      ]
    },
    {
      "cell_type": "code",
      "metadata": {
        "id": "7s2tkTDtyD1H",
        "colab_type": "code",
        "colab": {}
      },
      "source": [
        "\"\"\"\n",
        "h = vt-0.5gt^2\n",
        "let h = 0 [that is, when the ball has returned to the ground]\n",
        "=> 0 = vt-0.5gt^2\n",
        "=> 0.5gt^2 = vt\n",
        "=> 0.5gt = v\n",
        "=> t = 2v/g - the total time the ball is in the air.\n",
        "=> t at max height  = v/g\n",
        "\"\"\"\n",
        "\n",
        "def max_ball(v0):\n",
        "    return round(10*v0/9.81/3.6)"
      ],
      "execution_count": null,
      "outputs": []
    }
  ]
}