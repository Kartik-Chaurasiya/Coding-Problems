{
  "nbformat": 4,
  "nbformat_minor": 0,
  "metadata": {
    "colab": {
      "name": "Compare the Triplets.ipynb",
      "provenance": [],
      "authorship_tag": "ABX9TyNyN2g2eD2XRSsLcbToAX/X",
      "include_colab_link": true
    },
    "kernelspec": {
      "name": "python3",
      "display_name": "Python 3"
    }
  },
  "cells": [
    {
      "cell_type": "markdown",
      "metadata": {
        "id": "view-in-github",
        "colab_type": "text"
      },
      "source": [
        "<a href=\"https://colab.research.google.com/github/Syntax-code/Codes/blob/master/Compare_the_Triplets.ipynb\" target=\"_parent\"><img src=\"https://colab.research.google.com/assets/colab-badge.svg\" alt=\"Open In Colab\"/></a>"
      ]
    },
    {
      "cell_type": "code",
      "metadata": {
        "id": "9TIseDq0JeSY",
        "colab_type": "code",
        "colab": {}
      },
      "source": [
        "def compareTriplets(a, b):\n",
        "    c = [0,0]\n",
        "    for i in range(len(a)):\n",
        "        if a[i] > b[i]:\n",
        "            c[0] += 1\n",
        "        if a[i] < b[i]:\n",
        "            c[1] += 1\n",
        "    return c"
      ],
      "execution_count": 12,
      "outputs": []
    },
    {
      "cell_type": "code",
      "metadata": {
        "id": "KDi-DEPJJicO",
        "colab_type": "code",
        "colab": {
          "base_uri": "https://localhost:8080/",
          "height": 34
        },
        "outputId": "2202998b-434e-4459-87a6-da0d53aaefe5"
      },
      "source": [
        "a = [5,6,7]\n",
        "b = [3,6,10]\n",
        "compareTriplets(a,b)"
      ],
      "execution_count": 13,
      "outputs": [
        {
          "output_type": "execute_result",
          "data": {
            "text/plain": [
              "[1, 1]"
            ]
          },
          "metadata": {
            "tags": []
          },
          "execution_count": 13
        }
      ]
    }
  ]
}