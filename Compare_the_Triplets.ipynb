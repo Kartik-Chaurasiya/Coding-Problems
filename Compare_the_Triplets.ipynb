{
  "nbformat": 4,
  "nbformat_minor": 0,
  "metadata": {
    "colab": {
      "name": "Compare the Triplets.ipynb",
      "provenance": [],
      "authorship_tag": "ABX9TyOwiAcc2kNZyjCT5rA9CVmh",
      "include_colab_link": true
    },
    "kernelspec": {
      "name": "python3",
      "display_name": "Python 3"
    }
  },
  "cells": [
    {
      "cell_type": "markdown",
      "metadata": {
        "id": "view-in-github",
        "colab_type": "text"
      },
      "source": [
        "<a href=\"https://colab.research.google.com/github/Syntax-code/Codes/blob/master/Compare_the_Triplets.ipynb\" target=\"_parent\"><img src=\"https://colab.research.google.com/assets/colab-badge.svg\" alt=\"Open In Colab\"/></a>"
      ]
    },
    {
      "cell_type": "markdown",
      "metadata": {
        "id": "W7KgrOEKL267",
        "colab_type": "text"
      },
      "source": [
        "In a competion two participants i.e Alice and Bob points are passed as an array\n",
        "\n",
        "Return : array points[Alice, Bob]\n",
        "\n",
        "If a[i] > b[i], then Alice is awarded 1 point.\n",
        "\n",
        "If a[i] < b[i], then Bob is awarded 1 point.\n",
        "\n",
        "If a[i] = b[i], then neither person receives a point."
      ]
    },
    {
      "cell_type": "markdown",
      "metadata": {
        "id": "3nU2TEeQLyDE",
        "colab_type": "text"
      },
      "source": [
        "#Python Implementation"
      ]
    },
    {
      "cell_type": "code",
      "metadata": {
        "id": "9TIseDq0JeSY",
        "colab_type": "code",
        "colab": {}
      },
      "source": [
        "def compareTriplets(a, b):\n",
        "    points = [0,0]\n",
        "    for i in range(len(a)):\n",
        "        if a[i] > b[i]:\n",
        "            points[0] += 1\n",
        "        if a[i] < b[i]:\n",
        "            points[1] += 1\n",
        "    return points"
      ],
      "execution_count": 14,
      "outputs": []
    },
    {
      "cell_type": "code",
      "metadata": {
        "id": "KDi-DEPJJicO",
        "colab_type": "code",
        "colab": {
          "base_uri": "https://localhost:8080/",
          "height": 34
        },
        "outputId": "527bcbec-82f7-482d-bb3a-ffb765e1f50d"
      },
      "source": [
        "Alice = [5,6,7]\n",
        "Bob = [3,6,10]\n",
        "compareTriplets(Alice, Bob)"
      ],
      "execution_count": 15,
      "outputs": [
        {
          "output_type": "execute_result",
          "data": {
            "text/plain": [
              "[1, 1]"
            ]
          },
          "metadata": {
            "tags": []
          },
          "execution_count": 15
        }
      ]
    },
    {
      "cell_type": "markdown",
      "metadata": {
        "id": "Ugt7C8GJLt9r",
        "colab_type": "text"
      },
      "source": [
        "#C++ Implementation"
      ]
    },
    {
      "cell_type": "code",
      "metadata": {
        "id": "AMOssoh4LtOb",
        "colab_type": "code",
        "colab": {}
      },
      "source": [
        "int main() {\n",
        "  int Alice[3], Bob[3];\n",
        "  for (int i = 0; i < 3; ++i) {\n",
        "    cin >> Alice[i];\n",
        "  }\n",
        "  int c1 = 0, c2 = 0;\n",
        "  for (int i = 0; i < 3; ++i) {\n",
        "    cin >> Bob[i];\n",
        "    if (Alice[i] > Bob[i]) c1++;\n",
        "    else if (Alice[i] < Bob[i]) c2++;\n",
        "  }\n",
        "  cout << c1 << ' ' << c2 << endl;\n",
        "  return 0;\n",
        "}"
      ],
      "execution_count": null,
      "outputs": []
    }
  ]
}