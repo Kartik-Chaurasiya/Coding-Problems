{
  "nbformat": 4,
  "nbformat_minor": 0,
  "metadata": {
    "colab": {
      "name": "Find the smallest.ipynb",
      "provenance": [],
      "authorship_tag": "ABX9TyNRjd5KOv/ebwaDZDvpyBYs",
      "include_colab_link": true
    },
    "kernelspec": {
      "name": "python3",
      "display_name": "Python 3"
    }
  },
  "cells": [
    {
      "cell_type": "markdown",
      "metadata": {
        "id": "view-in-github",
        "colab_type": "text"
      },
      "source": [
        "<a href=\"https://colab.research.google.com/github/Syntax-code/Codes/blob/master/Find_the_smallest.ipynb\" target=\"_parent\"><img src=\"https://colab.research.google.com/assets/colab-badge.svg\" alt=\"Open In Colab\"/></a>"
      ]
    },
    {
      "cell_type": "markdown",
      "metadata": {
        "id": "qfbk7TPTFa9h",
        "colab_type": "text"
      },
      "source": [
        "You have a positive number n consisting of digits. You can do at most one operation: Choosing the index of a digit in the number, remove this digit at that index and insert it back to another or at the same place in the number in order to find the smallest number you can get.\n",
        "\n",
        "1) the smallest number you got\n",
        "\n",
        "2) the index i of the digit d you took, i as small as \n",
        "\n",
        "3) the index j (as small as possible) where you insert this digit d to have the smallest number."
      ]
    },
    {
      "cell_type": "code",
      "metadata": {
        "id": "-kdSWMWD8q4p",
        "colab_type": "code",
        "colab": {}
      },
      "source": [
        "def smallest(n):\n",
        "  s = [int(s) for s in str(n)]\n",
        "  s.reverse()\n",
        "  m = min(s[:-1])\n",
        "  i = (len(s) -1 - s.index(m))\n",
        "  s.remove(m)\n",
        "  s.reverse()\n",
        "  e = 0\n",
        "  f = s[0]\n",
        "  if (f > m):\n",
        "    s.insert(0,m)\n",
        "    e = 0\n",
        "  elif (f <= m):\n",
        "    s.insert(1,m)\n",
        "    e = 1\n",
        "  if i > e and i == 1:\n",
        "    i,e = e,i\n",
        "  if s[0] == 0:\n",
        "    s.remove(0)\n",
        "  s =int(\"\".join(map(str, s)))\n",
        "  return [ s ,i,e]\n"
      ],
      "execution_count": 0,
      "outputs": []
    },
    {
      "cell_type": "code",
      "metadata": {
        "id": "WTs_6nEg-Abn",
        "colab_type": "code",
        "outputId": "5dd2b860-2cf5-4bc6-dbc1-a93e90b39f52",
        "colab": {
          "base_uri": "https://localhost:8080/",
          "height": 33
        }
      },
      "source": [
        "n = 199819884756\n",
        "smallest(n)"
      ],
      "execution_count": 11,
      "outputs": [
        {
          "output_type": "execute_result",
          "data": {
            "text/plain": [
              "[119989884756, 4, 1]"
            ]
          },
          "metadata": {
            "tags": []
          },
          "execution_count": 11
        }
      ]
    },
    {
      "cell_type": "code",
      "metadata": {
        "id": "SklvtmSKfuts",
        "colab_type": "code",
        "colab": {}
      },
      "source": [
        "def smallest(n):\n",
        "    m = n\n",
        "    s = str(n)\n",
        "    rg = range(len(s))\n",
        "    for i in rg:\n",
        "        for j in rg:\n",
        "            li = list(s)\n",
        "            d = li.pop(i)\n",
        "            li.insert(j, d)\n",
        "            z = int(''.join(li))\n",
        "            if z < m:\n",
        "                m = z\n",
        "                x = i\n",
        "                y = j\n",
        "    return [m, x, y]"
      ],
      "execution_count": 0,
      "outputs": []
    }
  ]
}
