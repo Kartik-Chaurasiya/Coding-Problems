{
  "nbformat": 4,
  "nbformat_minor": 0,
  "metadata": {
    "colab": {
      "name": "Time Conversion",
      "provenance": [],
      "authorship_tag": "ABX9TyPaIfot29QVBxWoAxN0ILJc",
      "include_colab_link": true
    },
    "kernelspec": {
      "name": "python3",
      "display_name": "Python 3"
    }
  },
  "cells": [
    {
      "cell_type": "markdown",
      "metadata": {
        "id": "view-in-github",
        "colab_type": "text"
      },
      "source": [
        "<a href=\"https://colab.research.google.com/github/Syntax-code/Codes/blob/master/Time_Conversion.ipynb\" target=\"_parent\"><img src=\"https://colab.research.google.com/assets/colab-badge.svg\" alt=\"Open In Colab\"/></a>"
      ]
    },
    {
      "cell_type": "markdown",
      "metadata": {
        "id": "WtiXCiK1n5bC",
        "colab_type": "text"
      },
      "source": [
        "Given a time in -hour AM/PM format, convert it to military (24-hour) time.\n",
        "\n",
        "Note: - 12:00:00AM on a 12-hour clock is 00:00:00 on a 24-hour clock.\n",
        "- 12:00:00PM on a 12-hour clock is 12:00:00 on a 24-hour clock."
      ]
    },
    {
      "cell_type": "code",
      "metadata": {
        "id": "1g7ygRKojqlD",
        "colab_type": "code",
        "colab": {}
      },
      "source": [
        "def timeConversion(s):\n",
        "  s = s.replace(':', '')\n",
        "  n = 2\n",
        "  hour, min, sec, zone = [s[i:i+n] for i in range(0, len(s), n)]\n",
        "  if (hour == '12') & (zone == 'AM') : \n",
        "    hour = '00'\n",
        "  elif (hour == '12') & (zone == 'PM') : \n",
        "    hour = '12'\n",
        "  elif (zone == 'PM'):\n",
        "    hour = str(int(hour) + 12)\n",
        "  return ':'.join([hour, min, sec])"
      ],
      "execution_count": null,
      "outputs": []
    },
    {
      "cell_type": "code",
      "metadata": {
        "id": "akC_oiYtsY4u",
        "colab_type": "code",
        "colab": {
          "base_uri": "https://localhost:8080/",
          "height": 50
        },
        "outputId": "2845baf4-d1fd-45fd-ecd5-c4ab8cf3dc63"
      },
      "source": [
        "from datetime import datetime\n",
        "s = '12:01:00AM'\n",
        "print (datetime.strptime(s, '%H:%M:%S%p'))\n",
        "print(datetime.strptime('Jun 1 2005  1:33PM', '%b %d %Y %I:%M%p'))"
      ],
      "execution_count": null,
      "outputs": [
        {
          "output_type": "stream",
          "text": [
            "1900-01-01 12:01:00\n",
            "2005-06-01 13:33:00\n"
          ],
          "name": "stdout"
        }
      ]
    },
    {
      "cell_type": "code",
      "metadata": {
        "id": "qK8u2m2KnXbx",
        "colab_type": "code",
        "colab": {
          "base_uri": "https://localhost:8080/",
          "height": 67
        },
        "outputId": "dc105be4-ab9b-4a57-d9a8-9c6f9568eb32"
      },
      "source": [
        "s = ['12:01:00AM', '12:01:00AM', '07:05:45PM']\n",
        "for time in s:\n",
        "  print(timeConversion(time))"
      ],
      "execution_count": null,
      "outputs": [
        {
          "output_type": "stream",
          "text": [
            "00:01:00\n",
            "00:01:00\n",
            "19:05:45\n"
          ],
          "name": "stdout"
        }
      ]
    },
    {
      "cell_type": "markdown",
      "metadata": {
        "id": "gUHRpt9KtlMG",
        "colab_type": "text"
      },
      "source": [
        "#C++"
      ]
    },
    {
      "cell_type": "code",
      "metadata": {
        "id": "SopwVzm_rdM0",
        "colab_type": "code",
        "colab": {}
      },
      "source": [
        "int main() {\n",
        "    /* Enter your code here. Read input from STDIN. Print output to STDOUT */   \n",
        "    char h[3],m[3],s[3],temp;\n",
        "    bool flag=false;\n",
        "    h[2]='\\0';\n",
        "    m[2]='\\0';\n",
        "    s[2]='\\0';\n",
        "    cin>>h[0]>>h[1]>>temp>>m[0]>>m[1]>>temp>>s[0]>>s[1]>>temp;\n",
        "    \n",
        "    if(temp=='A')\n",
        "       {\n",
        "      flag=true;\n",
        "\n",
        "    }  \n",
        "    if(h[0]=='1' && h[1]=='2')\n",
        "        {\n",
        "        h[0]='0';\n",
        "        h[1]='0';\n",
        "    }\n",
        "    if(flag)\n",
        "        cout<<h<<\":\"<<m<<\":\"<<s<<endl;\n",
        "    else\n",
        "        cout<<(atoi(h)+12)<<\":\"<<m<<\":\"<<s<<endl;\n",
        "    return 0;\n",
        "}"
      ],
      "execution_count": null,
      "outputs": []
    }
  ]
}