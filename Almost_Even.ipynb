{
  "nbformat": 4,
  "nbformat_minor": 0,
  "metadata": {
    "colab": {
      "name": "Almost Even.ipynb",
      "provenance": [],
      "authorship_tag": "ABX9TyMAuN2C9AIHY1+e8xOEAqzE",
      "include_colab_link": true
    },
    "kernelspec": {
      "name": "python3",
      "display_name": "Python 3"
    }
  },
  "cells": [
    {
      "cell_type": "markdown",
      "metadata": {
        "id": "view-in-github",
        "colab_type": "text"
      },
      "source": [
        "<a href=\"https://colab.research.google.com/github/Syntax-code/Codes/blob/master/Almost_Even.ipynb\" target=\"_parent\"><img src=\"https://colab.research.google.com/assets/colab-badge.svg\" alt=\"Open In Colab\"/></a>"
      ]
    },
    {
      "cell_type": "code",
      "metadata": {
        "id": "1Mq-5Hy-fire",
        "colab_type": "code",
        "colab": {}
      },
      "source": [
        "def split_integer(num, parts):\n",
        "  res = [num // parts for i in range(parts)]\n",
        "  for i in range(num%parts):\n",
        "        res[i] += 1\n",
        "  return sorted(res)"
      ],
      "execution_count": 0,
      "outputs": []
    },
    {
      "cell_type": "code",
      "metadata": {
        "id": "bgFTacMygE7E",
        "colab_type": "code",
        "outputId": "809831ec-e81b-4c46-f773-7dc61218ebc9",
        "colab": {
          "base_uri": "https://localhost:8080/",
          "height": 53
        }
      },
      "source": [
        "print(split_integer(4000, 37))"
      ],
      "execution_count": 57,
      "outputs": [
        {
          "output_type": "stream",
          "text": [
            "[108, 108, 108, 108, 108, 108, 108, 108, 108, 108, 108, 108, 108, 108, 108, 108, 108, 108, 108, 108, 108, 108, 108, 108, 108, 108, 108, 108, 108, 108, 108, 108, 108, 109, 109, 109, 109]\n"
          ],
          "name": "stdout"
        }
      ]
    }
  ]
}