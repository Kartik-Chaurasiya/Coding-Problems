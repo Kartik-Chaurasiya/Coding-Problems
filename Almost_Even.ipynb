{
  "nbformat": 4,
  "nbformat_minor": 0,
  "metadata": {
    "colab": {
      "name": "Almost Even.ipynb",
      "provenance": [],
      "authorship_tag": "ABX9TyOYIuHLcRHhTGXvcTn5cvJQ",
      "include_colab_link": true
    },
    "kernelspec": {
      "name": "python3",
      "display_name": "Python 3"
    }
  },
  "cells": [
    {
      "cell_type": "markdown",
      "metadata": {
        "id": "view-in-github",
        "colab_type": "text"
      },
      "source": [
        "<a href=\"https://colab.research.google.com/github/Syntax-code/Codes/blob/master/Almost_Even.ipynb\" target=\"_parent\"><img src=\"https://colab.research.google.com/assets/colab-badge.svg\" alt=\"Open In Colab\"/></a>"
      ]
    },
    {
      "cell_type": "code",
      "metadata": {
        "id": "xwOfZAlGrcpk",
        "colab_type": "code",
        "colab": {}
      },
      "source": [
        "def addarr(arr, mul):\n",
        "  for i in range(2):\n",
        "    arr.append(mul)\n",
        "  return arr"
      ],
      "execution_count": 0,
      "outputs": []
    },
    {
      "cell_type": "code",
      "metadata": {
        "id": "-mMpkDVggDXe",
        "colab_type": "code",
        "colab": {}
      },
      "source": [
        "def split_integer(num, parts):\n",
        "  arr = []\n",
        "  nnum = num\n",
        "  mul = (num/parts)\n",
        "  if (mul).is_integer():\n",
        "    for i in range(parts):\n",
        "      arr.append(int(mul))\n",
        "  else :\n",
        "    while sum(arr) <= num:\n",
        "      mul = (nnum/parts)\n",
        "      if round(mul) == int(mul):\n",
        "        arr = addarr(arr, int(mul))\n",
        "        nnum = num - 2*int(mul)\n",
        "      elif round(mul) == (int(mul) + 1):\n",
        "        arr = addarr(arr, int(mul) +1)\n",
        "        nnum = num - 2*(int(mul) +1)\n",
        "  return arr\n",
        "\n"
      ],
      "execution_count": 0,
      "outputs": []
    },
    {
      "cell_type": "code",
      "metadata": {
        "id": "bgFTacMygE7E",
        "colab_type": "code",
        "colab": {
          "base_uri": "https://localhost:8080/",
          "height": 33
        },
        "outputId": "2e1a28e5-662f-4ec8-a349-2e2a17ce4116"
      },
      "source": [
        "print(split_integer(20, 6))"
      ],
      "execution_count": 15,
      "outputs": [
        {
          "output_type": "stream",
          "text": [
            "[3, 3, 2, 2, 3, 3, 2, 2, 3, 3]\n"
          ],
          "name": "stdout"
        }
      ]
    }
  ]
}