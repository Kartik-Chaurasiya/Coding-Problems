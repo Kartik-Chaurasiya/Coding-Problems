{
  "nbformat": 4,
  "nbformat_minor": 0,
  "metadata": {
    "colab": {
      "name": "Almost Even.ipynb",
      "provenance": [],
      "authorship_tag": "ABX9TyOpPXzhFuRV9L4wg7iVmqA/",
      "include_colab_link": true
    },
    "kernelspec": {
      "name": "python3",
      "display_name": "Python 3"
    }
  },
  "cells": [
    {
      "cell_type": "markdown",
      "metadata": {
        "id": "view-in-github",
        "colab_type": "text"
      },
      "source": [
        "<a href=\"https://colab.research.google.com/github/Syntax-code/Codes/blob/master/Almost_Even.ipynb\" target=\"_parent\"><img src=\"https://colab.research.google.com/assets/colab-badge.svg\" alt=\"Open In Colab\"/></a>"
      ]
    },
    {
      "cell_type": "markdown",
      "metadata": {
        "id": "Xwquj3YJzC_d",
        "colab_type": "text"
      },
      "source": [
        "We need the ability to divide an unknown integer into a given number of even parts — or at least as even as they can be. The sum of the parts should be the original value, but each part should be an integer, and they should be as close as possible.\n",
        "\n",
        "Example code:\n",
        "\n",
        "split_integer(20, 6)  # returns [3, 3, 3, 3, 4, 4]\n",
        "Complete the function so that it returns an array of integer representing the parts. Ignoring the order of the parts, there is only one valid solution for each input to your function!"
      ]
    },
    {
      "cell_type": "code",
      "metadata": {
        "id": "1Mq-5Hy-fire",
        "colab_type": "code",
        "colab": {}
      },
      "source": [
        "def split_integer(num, parts):\n",
        "  res = [num // parts for i in range(parts)]\n",
        "  for i in range(num%parts):\n",
        "        res[i] += 1\n",
        "  return sorted(res)"
      ],
      "execution_count": 0,
      "outputs": []
    },
    {
      "cell_type": "code",
      "metadata": {
        "id": "bgFTacMygE7E",
        "colab_type": "code",
        "outputId": "5de41f4f-428d-4cde-aa39-73898fbc9e9e",
        "colab": {
          "base_uri": "https://localhost:8080/",
          "height": 33
        }
      },
      "source": [
        "print(split_integer(20, 6))"
      ],
      "execution_count": 58,
      "outputs": [
        {
          "output_type": "stream",
          "text": [
            "[3, 3, 3, 3, 4, 4]\n"
          ],
          "name": "stdout"
        }
      ]
    }
  ]
}