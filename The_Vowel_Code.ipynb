{
  "nbformat": 4,
  "nbformat_minor": 0,
  "metadata": {
    "colab": {
      "name": "The Vowel Code.ipynb",
      "provenance": [],
      "authorship_tag": "ABX9TyOAmwNZTzqoPno4SrJeVwNY",
      "include_colab_link": true
    },
    "kernelspec": {
      "name": "python3",
      "display_name": "Python 3"
    }
  },
  "cells": [
    {
      "cell_type": "markdown",
      "metadata": {
        "id": "view-in-github",
        "colab_type": "text"
      },
      "source": [
        "<a href=\"https://colab.research.google.com/github/Syntax-code/Codes/blob/master/The_Vowel_Code.ipynb\" target=\"_parent\"><img src=\"https://colab.research.google.com/assets/colab-badge.svg\" alt=\"Open In Colab\"/></a>"
      ]
    },
    {
      "cell_type": "markdown",
      "metadata": {
        "id": "GiIXGX9med9U",
        "colab_type": "text"
      },
      "source": [
        "Step 1: Create a function called encode() to replace all the lowercase vowels in a given string with numbers according to the following pattern:\n",
        "\n",
        "a -> 1\n",
        "\n",
        "e -> 2\n",
        "\n",
        "i -> 3\n",
        "\n",
        "o -> 4\n",
        "\n",
        "u -> 5\n",
        "\n",
        "For example, encode(\"hello\") would return \"h2ll4\". There is no need to worry about uppercase vowels in this kata.\n",
        "\n",
        "Step 2: Now create a function called decode() to turn the numbers back into vowels according to the same pattern shown above.\n",
        "\n",
        "For example, decode(\"h3 th2r2\") would return \"hi there\".\n",
        "\n",
        "For the sake of simplicity, you can assume that any numbers passed into the function will correspond to vowels."
      ]
    },
    {
      "cell_type": "code",
      "metadata": {
        "id": "xn4K7tBweqE5",
        "colab_type": "code",
        "outputId": "440786df-c789-4943-adf6-a75e1379a68a",
        "colab": {
          "base_uri": "https://localhost:8080/",
          "height": 33
        }
      },
      "source": [
        "st = ['a' , 'e', 'i', 'o', 'u']\n",
        "dict ={}\n",
        "i = 1\n",
        "for s in st:\n",
        "  dict[s] = i\n",
        "  i += 1\n",
        "print(dict)"
      ],
      "execution_count": 1,
      "outputs": [
        {
          "output_type": "stream",
          "text": [
            "{'a': 1, 'e': 2, 'i': 3, 'o': 4, 'u': 5}\n"
          ],
          "name": "stdout"
        }
      ]
    },
    {
      "cell_type": "code",
      "metadata": {
        "id": "eZIZyeFhdl06",
        "colab_type": "code",
        "colab": {}
      },
      "source": [
        "def get_key(val): \n",
        "    for key, value in dict.items(): \n",
        "         if val == value: \n",
        "             return key "
      ],
      "execution_count": 0,
      "outputs": []
    },
    {
      "cell_type": "code",
      "metadata": {
        "id": "dDEWVlVUgQrx",
        "colab_type": "code",
        "colab": {}
      },
      "source": [
        "def split(word): \n",
        "    return [char for char in word]  "
      ],
      "execution_count": 0,
      "outputs": []
    },
    {
      "cell_type": "code",
      "metadata": {
        "id": "41fVmMEReora",
        "colab_type": "code",
        "colab": {}
      },
      "source": [
        "def encode(st):\n",
        "    new_st =[]\n",
        "    st = st.split(' ')\n",
        "    for word in st:\n",
        "      temp = split(word)\n",
        "      for each_alpha in temp:\n",
        "        if each_alpha in dict:\n",
        "          new_st.append(dict[each_alpha])\n",
        "        else:\n",
        "          new_st.append(each_alpha)\n",
        "      new_st.append(' ')\n",
        "    new_st.pop()\n",
        "    s =''\n",
        "    for word in new_st:\n",
        "        s += str(word)\n",
        "    return str(s)"
      ],
      "execution_count": 0,
      "outputs": []
    },
    {
      "cell_type": "code",
      "metadata": {
        "id": "jNhjfG5MeWJR",
        "colab_type": "code",
        "colab": {}
      },
      "source": [
        "def decode(st):\n",
        "    new_st =[]\n",
        "    st = st.split(' ')\n",
        "    for word in st:\n",
        "      temp = split(word)\n",
        "      for each_alpha in temp:\n",
        "        if each_alpha.isnumeric():\n",
        "          new_st.append(get_key(int(each_alpha)))\n",
        "        else:\n",
        "          new_st.append(each_alpha)\n",
        "      new_st.append(' ')\n",
        "    new_st.pop()\n",
        "    s =''\n",
        "    for word in new_st:\n",
        "        s += str(word)\n",
        "    return str(s)"
      ],
      "execution_count": 0,
      "outputs": []
    },
    {
      "cell_type": "code",
      "metadata": {
        "id": "joGiLs21hfet",
        "colab_type": "code",
        "outputId": "58b32905-7d7b-4026-a044-9354a57f956e",
        "colab": {
          "base_uri": "https://localhost:8080/",
          "height": 33
        }
      },
      "source": [
        "print(decode('h2ll4'))"
      ],
      "execution_count": 33,
      "outputs": [
        {
          "output_type": "stream",
          "text": [
            "hello\n"
          ],
          "name": "stdout"
        }
      ]
    },
    {
      "cell_type": "markdown",
      "metadata": {
        "id": "boGgICAqg9Br",
        "colab_type": "text"
      },
      "source": [
        "Clever one"
      ]
    },
    {
      "cell_type": "code",
      "metadata": {
        "id": "tI4ZiRUpgkUy",
        "colab_type": "code",
        "colab": {}
      },
      "source": [
        "def bij(c):\n",
        "  if (c == '1'): return 'a'\n",
        "  if (c == '2'): return 'e'\n",
        "  if (c == '3'): return 'i'\n",
        "  if (c == '4'): return 'o'\n",
        "  if (c == '5'): return 'u'\n",
        "  if (c == 'a'): return '1'\n",
        "  if (c == 'e'): return '2'\n",
        "  if (c == 'i'): return '3'\n",
        "  if (c == 'o'): return '4'\n",
        "  if (c == 'u'): return '5'\n",
        "  return  c\n",
        "\n",
        "encode = decode = lambda st: ''.join(map(bij,st))   "
      ],
      "execution_count": 0,
      "outputs": []
    },
    {
      "cell_type": "markdown",
      "metadata": {
        "id": "d69HdT1Ig-3K",
        "colab_type": "text"
      },
      "source": [
        "Easy one"
      ]
    },
    {
      "cell_type": "code",
      "metadata": {
        "id": "QgwGhEhhg1T4",
        "colab_type": "code",
        "colab": {}
      },
      "source": [
        "def encode(st):\n",
        "    a = {'a':1,\n",
        "        'e': 2,\n",
        "        'i': 3,\n",
        "        'o': 4,\n",
        "        'u': 5}\n",
        "    s = \"\"\n",
        "    for i in st:\n",
        "        try:\n",
        "            s += str(a[i])\n",
        "        except:\n",
        "            s += i\n",
        "    return s\n",
        "            \n",
        "    \n",
        "def decode(st):\n",
        "    a = {'1':'a',\n",
        "        '2': 'e',\n",
        "        '3': 'i',\n",
        "        '4': 'o',\n",
        "        '5': 'u'}\n",
        "    s = \"\"\n",
        "    for i in st:\n",
        "        try:\n",
        "            s += str(a[i])\n",
        "        except:\n",
        "            s += i\n",
        "    return s"
      ],
      "execution_count": 0,
      "outputs": []
    }
  ]
}