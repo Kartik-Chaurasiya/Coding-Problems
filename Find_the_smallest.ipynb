{
  "nbformat": 4,
  "nbformat_minor": 0,
  "metadata": {
    "colab": {
      "name": "Find the smallest.ipynb",
      "provenance": [],
      "authorship_tag": "ABX9TyOFm4eFQ/ZcnUswSpipgpAO",
      "include_colab_link": true
    },
    "kernelspec": {
      "name": "python3",
      "display_name": "Python 3"
    }
  },
  "cells": [
    {
      "cell_type": "markdown",
      "metadata": {
        "id": "view-in-github",
        "colab_type": "text"
      },
      "source": [
        "<a href=\"https://colab.research.google.com/github/Syntax-code/Codes/blob/master/Find_the_smallest.ipynb\" target=\"_parent\"><img src=\"https://colab.research.google.com/assets/colab-badge.svg\" alt=\"Open In Colab\"/></a>"
      ]
    },
    {
      "cell_type": "markdown",
      "metadata": {
        "id": "qfbk7TPTFa9h",
        "colab_type": "text"
      },
      "source": [
        "You have a positive number n consisting of digits. You can do at most one operation: Choosing the index of a digit in the number, remove this digit at that index and insert it back to another or at the same place in the number in order to find the smallest number you can get.\n",
        "\n",
        "1) the smallest number you got\n",
        "\n",
        "2) the index i of the digit d you took, i as small as \n",
        "\n",
        "3) the index j (as small as possible) where you insert this digit d to have the smallest number."
      ]
    },
    {
      "cell_type": "code",
      "metadata": {
        "id": "-kdSWMWD8q4p",
        "colab_type": "code",
        "colab": {}
      },
      "source": [
        "def smallest(n):\n",
        "  s = [int(s) for s in str(n)]\n",
        "  s.reverse()\n",
        "  m = min(s[:-1])\n",
        "  i = (len(s) -1 - s.index(m))\n",
        "  s.remove(m)\n",
        "  s.reverse()\n",
        "  e = 0\n",
        "  f = s[0]\n",
        "  if (f > m):\n",
        "    s = [m] + s\n",
        "    e = 0\n",
        "  elif (f < m):\n",
        "    s.insert(1,m)\n",
        "    e = 1\n",
        "  if i > e and i == 1:\n",
        "    i,e = e,i\n",
        "  if s[0] == 0:\n",
        "    s.remove(0)\n",
        "  s =int(\"\".join(map(str, s)))\n",
        "  return [ s ,i,e]\n"
      ],
      "execution_count": 0,
      "outputs": []
    },
    {
      "cell_type": "code",
      "metadata": {
        "id": "WTs_6nEg-Abn",
        "colab_type": "code",
        "outputId": "6588e09a-cc5a-40cb-b8c7-023b322973ec",
        "colab": {
          "base_uri": "https://localhost:8080/",
          "height": 33
        }
      },
      "source": [
        "n = 209917\n",
        "smallest(n)"
      ],
      "execution_count": 37,
      "outputs": [
        {
          "output_type": "execute_result",
          "data": {
            "text/plain": [
              "[29917, 0, 1]"
            ]
          },
          "metadata": {
            "tags": []
          },
          "execution_count": 37
        }
      ]
    },
    {
      "cell_type": "code",
      "metadata": {
        "id": "LKV-wF4INptT",
        "colab_type": "code",
        "outputId": "3a6dd995-1d61-411c-856a-f8024a90e279",
        "colab": {
          "base_uri": "https://localhost:8080/",
          "height": 33
        }
      },
      "source": [
        "a = [0, 2, 1, 4, 1]\n",
        "n = min(a[:1])\n",
        "print(a[:-1])"
      ],
      "execution_count": 35,
      "outputs": [
        {
          "output_type": "stream",
          "text": [
            "[0, 2, 1, 4]\n"
          ],
          "name": "stdout"
        }
      ]
    },
    {
      "cell_type": "code",
      "metadata": {
        "id": "1UqRawaKR5q5",
        "colab_type": "code",
        "outputId": "3e89f91a-569e-4986-a7a7-244575027dd2",
        "colab": {
          "base_uri": "https://localhost:8080/",
          "height": 33
        }
      },
      "source": [
        "i,e =1,0\n",
        "i,e = e,i\n",
        "print(i,e) \n"
      ],
      "execution_count": 0,
      "outputs": [
        {
          "output_type": "stream",
          "text": [
            "0 1\n"
          ],
          "name": "stdout"
        }
      ]
    }
  ]
}