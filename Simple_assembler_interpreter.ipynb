{
  "nbformat": 4,
  "nbformat_minor": 0,
  "metadata": {
    "colab": {
      "name": "Simple assembler interpreter.ipynb",
      "provenance": [],
      "authorship_tag": "ABX9TyOs7rZ/sbPOVaZBIZIF/r/i",
      "include_colab_link": true
    },
    "kernelspec": {
      "name": "python3",
      "display_name": "Python 3"
    }
  },
  "cells": [
    {
      "cell_type": "markdown",
      "metadata": {
        "id": "view-in-github",
        "colab_type": "text"
      },
      "source": [
        "<a href=\"https://colab.research.google.com/github/Syntax-code/Codes/blob/master/Simple_assembler_interpreter.ipynb\" target=\"_parent\"><img src=\"https://colab.research.google.com/assets/colab-badge.svg\" alt=\"Open In Colab\"/></a>"
      ]
    },
    {
      "cell_type": "markdown",
      "metadata": {
        "id": "aW4rsTOzZjJ_",
        "colab_type": "text"
      },
      "source": [
        ""
      ]
    },
    {
      "cell_type": "code",
      "metadata": {
        "id": "M0DB-3mWo9O_",
        "colab_type": "code",
        "colab": {}
      },
      "source": [
        "def mov(v , n):\n",
        "  "
      ],
      "execution_count": 0,
      "outputs": []
    },
    {
      "cell_type": "code",
      "metadata": {
        "id": "FYc-OGfOo9GP",
        "colab_type": "code",
        "colab": {}
      },
      "source": [
        "def inc(v):\n",
        "  "
      ],
      "execution_count": 0,
      "outputs": []
    },
    {
      "cell_type": "code",
      "metadata": {
        "id": "pLYMRA61o86P",
        "colab_type": "code",
        "colab": {}
      },
      "source": [
        "def dec(v):\n",
        "  "
      ],
      "execution_count": 0,
      "outputs": []
    },
    {
      "cell_type": "code",
      "metadata": {
        "id": "HfNM2aWgo8tR",
        "colab_type": "code",
        "colab": {}
      },
      "source": [
        "def jnz(v, n):\n",
        "  "
      ],
      "execution_count": 0,
      "outputs": []
    },
    {
      "cell_type": "code",
      "metadata": {
        "id": "UNruub7pZLq3",
        "colab_type": "code",
        "colab": {}
      },
      "source": [
        "def simple_assembler(program):\n",
        "  nl = []\n",
        "  for line in program:\n",
        "    l = line.split(' ')\n",
        "    nl.append(l)\n",
        "  for word in nl:\n",
        "    for a,index in enumerate(word):\n",
        "      if word[0] == 'mov' :\n",
        "        mov(word[1], word[2])\n",
        "        break\n",
        "      elif word[0] == 'inc' :\n",
        "        inc(word[1])\n",
        "        break\n",
        "      elif word[0] == 'dec' :\n",
        "        dec(word[1])\n",
        "        break\n",
        "      elif word[0] == 'jnz' :\n",
        "        jnz(word[1], word[2])\n",
        "        break\n",
        "  return variables()\n",
        "\n",
        "      \n",
        "\n",
        "        \n",
        "      \n",
        "        "
      ],
      "execution_count": 0,
      "outputs": []
    },
    {
      "cell_type": "code",
      "metadata": {
        "id": "BgNmjcPEZTwB",
        "colab_type": "code",
        "outputId": "58fc25e5-decf-4e91-b649-facb7ebd557c",
        "colab": {
          "base_uri": "https://localhost:8080/",
          "height": 118
        }
      },
      "source": [
        "code = '''\\\n",
        "mov a 5\n",
        "inc a\n",
        "dec a\n",
        "dec a\n",
        "jnz a -1\n",
        "inc a'''\n",
        "simple_assembler(code.splitlines())"
      ],
      "execution_count": 28,
      "outputs": [
        {
          "output_type": "stream",
          "text": [
            "mov\n",
            "inc\n",
            "dec\n",
            "dec\n",
            "jnz\n",
            "inc\n"
          ],
          "name": "stdout"
        }
      ]
    }
  ]
}